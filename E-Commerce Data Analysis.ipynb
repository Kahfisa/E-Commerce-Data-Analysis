{
 "cells": [
  {
   "cell_type": "markdown",
   "id": "9d84762c",
   "metadata": {},
   "source": [
    " ## Import Package"
   ]
  },
  {
   "cell_type": "code",
   "execution_count": 1,
   "id": "96220b08",
   "metadata": {},
   "outputs": [],
   "source": [
    "import pandas as pd\n",
    "import numpy as np\n",
    "import matplotlib.pyplot as plt\n",
    "import seaborn as sns"
   ]
  },
  {
   "cell_type": "markdown",
   "id": "aadb9e95",
   "metadata": {},
   "source": [
    "## Gathering Data"
   ]
  },
  {
   "cell_type": "markdown",
   "id": "13e1b778",
   "metadata": {},
   "source": [
    "Data Overview\n",
    "\n",
    "1. customer_id: ID pelanggan (unik untuk setiap transaksi).\n",
    "2. customer_unique_id: ID unik pelanggan (bisa muncul di beberapa transaksi).\n",
    "3. customer_zip_code_prefix: Kode pos pelanggan.\n",
    "4. customer_city: Kota pelanggan.\n",
    "5. customer_state: Negara bagian pelanggan."
   ]
  },
  {
   "cell_type": "code",
   "execution_count": 2,
   "id": "8ec88e1c",
   "metadata": {},
   "outputs": [
    {
     "data": {
      "application/vnd.microsoft.datawrangler.viewer.v0+json": {
       "columns": [
        {
         "name": "index",
         "rawType": "int64",
         "type": "integer"
        },
        {
         "name": "customer_id",
         "rawType": "object",
         "type": "string"
        },
        {
         "name": "customer_unique_id",
         "rawType": "object",
         "type": "string"
        },
        {
         "name": "customer_zip_code_prefix",
         "rawType": "int64",
         "type": "integer"
        },
        {
         "name": "customer_city",
         "rawType": "object",
         "type": "string"
        },
        {
         "name": "customer_state",
         "rawType": "object",
         "type": "string"
        }
       ],
       "ref": "ce1c398b-5782-4203-ae66-3f4e201655d8",
       "rows": [
        [
         "0",
         "06b8999e2fba1a1fbc88172c00ba8bc7",
         "861eff4711a542e4b93843c6dd7febb0",
         "14409",
         "franca",
         "SP"
        ],
        [
         "1",
         "18955e83d337fd6b2def6b18a428ac77",
         "290c77bc529b7ac935b93aa66c333dc3",
         "9790",
         "sao bernardo do campo",
         "SP"
        ],
        [
         "2",
         "4e7b3e00288586ebd08712fdd0374a03",
         "060e732b5b29e8181a18229c7b0b2b5e",
         "1151",
         "sao paulo",
         "SP"
        ],
        [
         "3",
         "b2b6027bc5c5109e529d4dc6358b12c3",
         "259dac757896d24d7702b9acbbff3f3c",
         "8775",
         "mogi das cruzes",
         "SP"
        ],
        [
         "4",
         "4f2d8ab171c80ec8364f7c12e35b23ad",
         "345ecd01c38d18a9036ed96c73b8d066",
         "13056",
         "campinas",
         "SP"
        ]
       ],
       "shape": {
        "columns": 5,
        "rows": 5
       }
      },
      "text/html": [
       "<div>\n",
       "<style scoped>\n",
       "    .dataframe tbody tr th:only-of-type {\n",
       "        vertical-align: middle;\n",
       "    }\n",
       "\n",
       "    .dataframe tbody tr th {\n",
       "        vertical-align: top;\n",
       "    }\n",
       "\n",
       "    .dataframe thead th {\n",
       "        text-align: right;\n",
       "    }\n",
       "</style>\n",
       "<table border=\"1\" class=\"dataframe\">\n",
       "  <thead>\n",
       "    <tr style=\"text-align: right;\">\n",
       "      <th></th>\n",
       "      <th>customer_id</th>\n",
       "      <th>customer_unique_id</th>\n",
       "      <th>customer_zip_code_prefix</th>\n",
       "      <th>customer_city</th>\n",
       "      <th>customer_state</th>\n",
       "    </tr>\n",
       "  </thead>\n",
       "  <tbody>\n",
       "    <tr>\n",
       "      <th>0</th>\n",
       "      <td>06b8999e2fba1a1fbc88172c00ba8bc7</td>\n",
       "      <td>861eff4711a542e4b93843c6dd7febb0</td>\n",
       "      <td>14409</td>\n",
       "      <td>franca</td>\n",
       "      <td>SP</td>\n",
       "    </tr>\n",
       "    <tr>\n",
       "      <th>1</th>\n",
       "      <td>18955e83d337fd6b2def6b18a428ac77</td>\n",
       "      <td>290c77bc529b7ac935b93aa66c333dc3</td>\n",
       "      <td>9790</td>\n",
       "      <td>sao bernardo do campo</td>\n",
       "      <td>SP</td>\n",
       "    </tr>\n",
       "    <tr>\n",
       "      <th>2</th>\n",
       "      <td>4e7b3e00288586ebd08712fdd0374a03</td>\n",
       "      <td>060e732b5b29e8181a18229c7b0b2b5e</td>\n",
       "      <td>1151</td>\n",
       "      <td>sao paulo</td>\n",
       "      <td>SP</td>\n",
       "    </tr>\n",
       "    <tr>\n",
       "      <th>3</th>\n",
       "      <td>b2b6027bc5c5109e529d4dc6358b12c3</td>\n",
       "      <td>259dac757896d24d7702b9acbbff3f3c</td>\n",
       "      <td>8775</td>\n",
       "      <td>mogi das cruzes</td>\n",
       "      <td>SP</td>\n",
       "    </tr>\n",
       "    <tr>\n",
       "      <th>4</th>\n",
       "      <td>4f2d8ab171c80ec8364f7c12e35b23ad</td>\n",
       "      <td>345ecd01c38d18a9036ed96c73b8d066</td>\n",
       "      <td>13056</td>\n",
       "      <td>campinas</td>\n",
       "      <td>SP</td>\n",
       "    </tr>\n",
       "  </tbody>\n",
       "</table>\n",
       "</div>"
      ],
      "text/plain": [
       "                        customer_id                customer_unique_id  \\\n",
       "0  06b8999e2fba1a1fbc88172c00ba8bc7  861eff4711a542e4b93843c6dd7febb0   \n",
       "1  18955e83d337fd6b2def6b18a428ac77  290c77bc529b7ac935b93aa66c333dc3   \n",
       "2  4e7b3e00288586ebd08712fdd0374a03  060e732b5b29e8181a18229c7b0b2b5e   \n",
       "3  b2b6027bc5c5109e529d4dc6358b12c3  259dac757896d24d7702b9acbbff3f3c   \n",
       "4  4f2d8ab171c80ec8364f7c12e35b23ad  345ecd01c38d18a9036ed96c73b8d066   \n",
       "\n",
       "   customer_zip_code_prefix          customer_city customer_state  \n",
       "0                     14409                 franca             SP  \n",
       "1                      9790  sao bernardo do campo             SP  \n",
       "2                      1151              sao paulo             SP  \n",
       "3                      8775        mogi das cruzes             SP  \n",
       "4                     13056               campinas             SP  "
      ]
     },
     "execution_count": 2,
     "metadata": {},
     "output_type": "execute_result"
    }
   ],
   "source": [
    "dfCustomers = pd.read_csv(\"../Data/olist_customers_dataset.csv\")\n",
    "\n",
    "dfCustomers.head()"
   ]
  },
  {
   "cell_type": "markdown",
   "id": "fecb962b",
   "metadata": {},
   "source": [
    "Data Overview\n",
    "1. geolocation_zip_code_prefix: Prefix kode pos.\n",
    "2. geolocation_lat: latitude lokasi.\n",
    "3. geolocation_lng: longitude lokasi.\n",
    "4. geolocation_city: Kota.\n",
    "5. geolocation_state: Negara bagian."
   ]
  },
  {
   "cell_type": "code",
   "execution_count": 3,
   "id": "c5bece1f",
   "metadata": {},
   "outputs": [
    {
     "data": {
      "application/vnd.microsoft.datawrangler.viewer.v0+json": {
       "columns": [
        {
         "name": "index",
         "rawType": "int64",
         "type": "integer"
        },
        {
         "name": "geolocation_zip_code_prefix",
         "rawType": "int64",
         "type": "integer"
        },
        {
         "name": "geolocation_lat",
         "rawType": "float64",
         "type": "float"
        },
        {
         "name": "geolocation_lng",
         "rawType": "float64",
         "type": "float"
        },
        {
         "name": "geolocation_city",
         "rawType": "object",
         "type": "string"
        },
        {
         "name": "geolocation_state",
         "rawType": "object",
         "type": "string"
        }
       ],
       "ref": "f92f17aa-8c3f-4fff-9fe2-6cf9ae9ab4bb",
       "rows": [
        [
         "0",
         "1037",
         "-23.54562128115268",
         "-46.63929204800168",
         "sao paulo",
         "SP"
        ],
        [
         "1",
         "1046",
         "-23.54608112703553",
         "-46.64482029837157",
         "sao paulo",
         "SP"
        ],
        [
         "2",
         "1046",
         "-23.54612896641469",
         "-46.64295148361138",
         "sao paulo",
         "SP"
        ],
        [
         "3",
         "1041",
         "-23.5443921648681",
         "-46.63949930627844",
         "sao paulo",
         "SP"
        ],
        [
         "4",
         "1035",
         "-23.541577961711493",
         "-46.64160722329613",
         "sao paulo",
         "SP"
        ]
       ],
       "shape": {
        "columns": 5,
        "rows": 5
       }
      },
      "text/html": [
       "<div>\n",
       "<style scoped>\n",
       "    .dataframe tbody tr th:only-of-type {\n",
       "        vertical-align: middle;\n",
       "    }\n",
       "\n",
       "    .dataframe tbody tr th {\n",
       "        vertical-align: top;\n",
       "    }\n",
       "\n",
       "    .dataframe thead th {\n",
       "        text-align: right;\n",
       "    }\n",
       "</style>\n",
       "<table border=\"1\" class=\"dataframe\">\n",
       "  <thead>\n",
       "    <tr style=\"text-align: right;\">\n",
       "      <th></th>\n",
       "      <th>geolocation_zip_code_prefix</th>\n",
       "      <th>geolocation_lat</th>\n",
       "      <th>geolocation_lng</th>\n",
       "      <th>geolocation_city</th>\n",
       "      <th>geolocation_state</th>\n",
       "    </tr>\n",
       "  </thead>\n",
       "  <tbody>\n",
       "    <tr>\n",
       "      <th>0</th>\n",
       "      <td>1037</td>\n",
       "      <td>-23.545621</td>\n",
       "      <td>-46.639292</td>\n",
       "      <td>sao paulo</td>\n",
       "      <td>SP</td>\n",
       "    </tr>\n",
       "    <tr>\n",
       "      <th>1</th>\n",
       "      <td>1046</td>\n",
       "      <td>-23.546081</td>\n",
       "      <td>-46.644820</td>\n",
       "      <td>sao paulo</td>\n",
       "      <td>SP</td>\n",
       "    </tr>\n",
       "    <tr>\n",
       "      <th>2</th>\n",
       "      <td>1046</td>\n",
       "      <td>-23.546129</td>\n",
       "      <td>-46.642951</td>\n",
       "      <td>sao paulo</td>\n",
       "      <td>SP</td>\n",
       "    </tr>\n",
       "    <tr>\n",
       "      <th>3</th>\n",
       "      <td>1041</td>\n",
       "      <td>-23.544392</td>\n",
       "      <td>-46.639499</td>\n",
       "      <td>sao paulo</td>\n",
       "      <td>SP</td>\n",
       "    </tr>\n",
       "    <tr>\n",
       "      <th>4</th>\n",
       "      <td>1035</td>\n",
       "      <td>-23.541578</td>\n",
       "      <td>-46.641607</td>\n",
       "      <td>sao paulo</td>\n",
       "      <td>SP</td>\n",
       "    </tr>\n",
       "  </tbody>\n",
       "</table>\n",
       "</div>"
      ],
      "text/plain": [
       "   geolocation_zip_code_prefix  geolocation_lat  geolocation_lng  \\\n",
       "0                         1037       -23.545621       -46.639292   \n",
       "1                         1046       -23.546081       -46.644820   \n",
       "2                         1046       -23.546129       -46.642951   \n",
       "3                         1041       -23.544392       -46.639499   \n",
       "4                         1035       -23.541578       -46.641607   \n",
       "\n",
       "  geolocation_city geolocation_state  \n",
       "0        sao paulo                SP  \n",
       "1        sao paulo                SP  \n",
       "2        sao paulo                SP  \n",
       "3        sao paulo                SP  \n",
       "4        sao paulo                SP  "
      ]
     },
     "execution_count": 3,
     "metadata": {},
     "output_type": "execute_result"
    }
   ],
   "source": [
    "dfGeolocation = pd.read_csv(\"../Data/olist_geolocation_dataset.csv\")\n",
    "\n",
    "dfGeolocation.head()"
   ]
  },
  {
   "cell_type": "markdown",
   "id": "fb383c1a",
   "metadata": {},
   "source": [
    "Data Overview\n",
    "1. order_id: ID order.\n",
    "2. order_item_id: Nomor urut item dalam satu order.\n",
    "3. product_id: ID produk yang dibeli.\n",
    "4. seller_id: ID penjual yang menjual produk.\n",
    "5. shiiping_limit_date: Deadline penjual untuk menyerahkan produk ke kurir.\n",
    "6. price: Harga produk.\n",
    "7. freight_value: Ongkos kirim untuk produk ini."
   ]
  },
  {
   "cell_type": "code",
   "execution_count": 4,
   "id": "26d5a6c8",
   "metadata": {},
   "outputs": [
    {
     "data": {
      "application/vnd.microsoft.datawrangler.viewer.v0+json": {
       "columns": [
        {
         "name": "index",
         "rawType": "int64",
         "type": "integer"
        },
        {
         "name": "order_id",
         "rawType": "object",
         "type": "string"
        },
        {
         "name": "order_item_id",
         "rawType": "int64",
         "type": "integer"
        },
        {
         "name": "product_id",
         "rawType": "object",
         "type": "string"
        },
        {
         "name": "seller_id",
         "rawType": "object",
         "type": "string"
        },
        {
         "name": "shipping_limit_date",
         "rawType": "object",
         "type": "string"
        },
        {
         "name": "price",
         "rawType": "float64",
         "type": "float"
        },
        {
         "name": "freight_value",
         "rawType": "float64",
         "type": "float"
        }
       ],
       "ref": "49e4812d-fc9f-4818-a286-2120a919bcb0",
       "rows": [
        [
         "0",
         "00010242fe8c5a6d1ba2dd792cb16214",
         "1",
         "4244733e06e7ecb4970a6e2683c13e61",
         "48436dade18ac8b2bce089ec2a041202",
         "2017-09-19 09:45:35",
         "58.9",
         "13.29"
        ],
        [
         "1",
         "00018f77f2f0320c557190d7a144bdd3",
         "1",
         "e5f2d52b802189ee658865ca93d83a8f",
         "dd7ddc04e1b6c2c614352b383efe2d36",
         "2017-05-03 11:05:13",
         "239.9",
         "19.93"
        ],
        [
         "2",
         "000229ec398224ef6ca0657da4fc703e",
         "1",
         "c777355d18b72b67abbeef9df44fd0fd",
         "5b51032eddd242adc84c38acab88f23d",
         "2018-01-18 14:48:30",
         "199.0",
         "17.87"
        ],
        [
         "3",
         "00024acbcdf0a6daa1e931b038114c75",
         "1",
         "7634da152a4610f1595efa32f14722fc",
         "9d7a1d34a5052409006425275ba1c2b4",
         "2018-08-15 10:10:18",
         "12.99",
         "12.79"
        ],
        [
         "4",
         "00042b26cf59d7ce69dfabb4e55b4fd9",
         "1",
         "ac6c3623068f30de03045865e4e10089",
         "df560393f3a51e74553ab94004ba5c87",
         "2017-02-13 13:57:51",
         "199.9",
         "18.14"
        ]
       ],
       "shape": {
        "columns": 7,
        "rows": 5
       }
      },
      "text/html": [
       "<div>\n",
       "<style scoped>\n",
       "    .dataframe tbody tr th:only-of-type {\n",
       "        vertical-align: middle;\n",
       "    }\n",
       "\n",
       "    .dataframe tbody tr th {\n",
       "        vertical-align: top;\n",
       "    }\n",
       "\n",
       "    .dataframe thead th {\n",
       "        text-align: right;\n",
       "    }\n",
       "</style>\n",
       "<table border=\"1\" class=\"dataframe\">\n",
       "  <thead>\n",
       "    <tr style=\"text-align: right;\">\n",
       "      <th></th>\n",
       "      <th>order_id</th>\n",
       "      <th>order_item_id</th>\n",
       "      <th>product_id</th>\n",
       "      <th>seller_id</th>\n",
       "      <th>shipping_limit_date</th>\n",
       "      <th>price</th>\n",
       "      <th>freight_value</th>\n",
       "    </tr>\n",
       "  </thead>\n",
       "  <tbody>\n",
       "    <tr>\n",
       "      <th>0</th>\n",
       "      <td>00010242fe8c5a6d1ba2dd792cb16214</td>\n",
       "      <td>1</td>\n",
       "      <td>4244733e06e7ecb4970a6e2683c13e61</td>\n",
       "      <td>48436dade18ac8b2bce089ec2a041202</td>\n",
       "      <td>2017-09-19 09:45:35</td>\n",
       "      <td>58.90</td>\n",
       "      <td>13.29</td>\n",
       "    </tr>\n",
       "    <tr>\n",
       "      <th>1</th>\n",
       "      <td>00018f77f2f0320c557190d7a144bdd3</td>\n",
       "      <td>1</td>\n",
       "      <td>e5f2d52b802189ee658865ca93d83a8f</td>\n",
       "      <td>dd7ddc04e1b6c2c614352b383efe2d36</td>\n",
       "      <td>2017-05-03 11:05:13</td>\n",
       "      <td>239.90</td>\n",
       "      <td>19.93</td>\n",
       "    </tr>\n",
       "    <tr>\n",
       "      <th>2</th>\n",
       "      <td>000229ec398224ef6ca0657da4fc703e</td>\n",
       "      <td>1</td>\n",
       "      <td>c777355d18b72b67abbeef9df44fd0fd</td>\n",
       "      <td>5b51032eddd242adc84c38acab88f23d</td>\n",
       "      <td>2018-01-18 14:48:30</td>\n",
       "      <td>199.00</td>\n",
       "      <td>17.87</td>\n",
       "    </tr>\n",
       "    <tr>\n",
       "      <th>3</th>\n",
       "      <td>00024acbcdf0a6daa1e931b038114c75</td>\n",
       "      <td>1</td>\n",
       "      <td>7634da152a4610f1595efa32f14722fc</td>\n",
       "      <td>9d7a1d34a5052409006425275ba1c2b4</td>\n",
       "      <td>2018-08-15 10:10:18</td>\n",
       "      <td>12.99</td>\n",
       "      <td>12.79</td>\n",
       "    </tr>\n",
       "    <tr>\n",
       "      <th>4</th>\n",
       "      <td>00042b26cf59d7ce69dfabb4e55b4fd9</td>\n",
       "      <td>1</td>\n",
       "      <td>ac6c3623068f30de03045865e4e10089</td>\n",
       "      <td>df560393f3a51e74553ab94004ba5c87</td>\n",
       "      <td>2017-02-13 13:57:51</td>\n",
       "      <td>199.90</td>\n",
       "      <td>18.14</td>\n",
       "    </tr>\n",
       "  </tbody>\n",
       "</table>\n",
       "</div>"
      ],
      "text/plain": [
       "                           order_id  order_item_id  \\\n",
       "0  00010242fe8c5a6d1ba2dd792cb16214              1   \n",
       "1  00018f77f2f0320c557190d7a144bdd3              1   \n",
       "2  000229ec398224ef6ca0657da4fc703e              1   \n",
       "3  00024acbcdf0a6daa1e931b038114c75              1   \n",
       "4  00042b26cf59d7ce69dfabb4e55b4fd9              1   \n",
       "\n",
       "                         product_id                         seller_id  \\\n",
       "0  4244733e06e7ecb4970a6e2683c13e61  48436dade18ac8b2bce089ec2a041202   \n",
       "1  e5f2d52b802189ee658865ca93d83a8f  dd7ddc04e1b6c2c614352b383efe2d36   \n",
       "2  c777355d18b72b67abbeef9df44fd0fd  5b51032eddd242adc84c38acab88f23d   \n",
       "3  7634da152a4610f1595efa32f14722fc  9d7a1d34a5052409006425275ba1c2b4   \n",
       "4  ac6c3623068f30de03045865e4e10089  df560393f3a51e74553ab94004ba5c87   \n",
       "\n",
       "   shipping_limit_date   price  freight_value  \n",
       "0  2017-09-19 09:45:35   58.90          13.29  \n",
       "1  2017-05-03 11:05:13  239.90          19.93  \n",
       "2  2018-01-18 14:48:30  199.00          17.87  \n",
       "3  2018-08-15 10:10:18   12.99          12.79  \n",
       "4  2017-02-13 13:57:51  199.90          18.14  "
      ]
     },
     "execution_count": 4,
     "metadata": {},
     "output_type": "execute_result"
    }
   ],
   "source": [
    "dfOrderItems = pd.read_csv(\"../Data/olist_order_items_dataset.csv\")\n",
    "\n",
    "dfOrderItems.head()"
   ]
  },
  {
   "cell_type": "markdown",
   "id": "dd23cc0a",
   "metadata": {},
   "source": [
    "Data Overview\n",
    "1. order_id: ID order.\n",
    "2. payment_sequential: Urutan pembayaran (jika customer bayar cicilan).\n",
    "3. payment_type: Jenis pembayaran.\n",
    "4. payment_installments: Jumlah cicilan.\n",
    "5. payment_value: Jumlah uang yang dibayar."
   ]
  },
  {
   "cell_type": "code",
   "execution_count": 5,
   "id": "d5a551cc",
   "metadata": {},
   "outputs": [
    {
     "data": {
      "application/vnd.microsoft.datawrangler.viewer.v0+json": {
       "columns": [
        {
         "name": "index",
         "rawType": "int64",
         "type": "integer"
        },
        {
         "name": "order_id",
         "rawType": "object",
         "type": "string"
        },
        {
         "name": "payment_sequential",
         "rawType": "int64",
         "type": "integer"
        },
        {
         "name": "payment_type",
         "rawType": "object",
         "type": "string"
        },
        {
         "name": "payment_installments",
         "rawType": "int64",
         "type": "integer"
        },
        {
         "name": "payment_value",
         "rawType": "float64",
         "type": "float"
        }
       ],
       "ref": "bdc3d07f-3e95-4c2c-a883-276cb2b3de8d",
       "rows": [
        [
         "0",
         "b81ef226f3fe1789b1e8b2acac839d17",
         "1",
         "credit_card",
         "8",
         "99.33"
        ],
        [
         "1",
         "a9810da82917af2d9aefd1278f1dcfa0",
         "1",
         "credit_card",
         "1",
         "24.39"
        ],
        [
         "2",
         "25e8ea4e93396b6fa0d3dd708e76c1bd",
         "1",
         "credit_card",
         "1",
         "65.71"
        ],
        [
         "3",
         "ba78997921bbcdc1373bb41e913ab953",
         "1",
         "credit_card",
         "8",
         "107.78"
        ],
        [
         "4",
         "42fdf880ba16b47b59251dd489d4441a",
         "1",
         "credit_card",
         "2",
         "128.45"
        ]
       ],
       "shape": {
        "columns": 5,
        "rows": 5
       }
      },
      "text/html": [
       "<div>\n",
       "<style scoped>\n",
       "    .dataframe tbody tr th:only-of-type {\n",
       "        vertical-align: middle;\n",
       "    }\n",
       "\n",
       "    .dataframe tbody tr th {\n",
       "        vertical-align: top;\n",
       "    }\n",
       "\n",
       "    .dataframe thead th {\n",
       "        text-align: right;\n",
       "    }\n",
       "</style>\n",
       "<table border=\"1\" class=\"dataframe\">\n",
       "  <thead>\n",
       "    <tr style=\"text-align: right;\">\n",
       "      <th></th>\n",
       "      <th>order_id</th>\n",
       "      <th>payment_sequential</th>\n",
       "      <th>payment_type</th>\n",
       "      <th>payment_installments</th>\n",
       "      <th>payment_value</th>\n",
       "    </tr>\n",
       "  </thead>\n",
       "  <tbody>\n",
       "    <tr>\n",
       "      <th>0</th>\n",
       "      <td>b81ef226f3fe1789b1e8b2acac839d17</td>\n",
       "      <td>1</td>\n",
       "      <td>credit_card</td>\n",
       "      <td>8</td>\n",
       "      <td>99.33</td>\n",
       "    </tr>\n",
       "    <tr>\n",
       "      <th>1</th>\n",
       "      <td>a9810da82917af2d9aefd1278f1dcfa0</td>\n",
       "      <td>1</td>\n",
       "      <td>credit_card</td>\n",
       "      <td>1</td>\n",
       "      <td>24.39</td>\n",
       "    </tr>\n",
       "    <tr>\n",
       "      <th>2</th>\n",
       "      <td>25e8ea4e93396b6fa0d3dd708e76c1bd</td>\n",
       "      <td>1</td>\n",
       "      <td>credit_card</td>\n",
       "      <td>1</td>\n",
       "      <td>65.71</td>\n",
       "    </tr>\n",
       "    <tr>\n",
       "      <th>3</th>\n",
       "      <td>ba78997921bbcdc1373bb41e913ab953</td>\n",
       "      <td>1</td>\n",
       "      <td>credit_card</td>\n",
       "      <td>8</td>\n",
       "      <td>107.78</td>\n",
       "    </tr>\n",
       "    <tr>\n",
       "      <th>4</th>\n",
       "      <td>42fdf880ba16b47b59251dd489d4441a</td>\n",
       "      <td>1</td>\n",
       "      <td>credit_card</td>\n",
       "      <td>2</td>\n",
       "      <td>128.45</td>\n",
       "    </tr>\n",
       "  </tbody>\n",
       "</table>\n",
       "</div>"
      ],
      "text/plain": [
       "                           order_id  payment_sequential payment_type  \\\n",
       "0  b81ef226f3fe1789b1e8b2acac839d17                   1  credit_card   \n",
       "1  a9810da82917af2d9aefd1278f1dcfa0                   1  credit_card   \n",
       "2  25e8ea4e93396b6fa0d3dd708e76c1bd                   1  credit_card   \n",
       "3  ba78997921bbcdc1373bb41e913ab953                   1  credit_card   \n",
       "4  42fdf880ba16b47b59251dd489d4441a                   1  credit_card   \n",
       "\n",
       "   payment_installments  payment_value  \n",
       "0                     8          99.33  \n",
       "1                     1          24.39  \n",
       "2                     1          65.71  \n",
       "3                     8         107.78  \n",
       "4                     2         128.45  "
      ]
     },
     "execution_count": 5,
     "metadata": {},
     "output_type": "execute_result"
    }
   ],
   "source": [
    "dfOrderPayments = pd.read_csv(\"../Data/olist_order_payments_dataset.csv\")\n",
    "\n",
    "dfOrderPayments.head()"
   ]
  },
  {
   "cell_type": "markdown",
   "id": "2d2f7710",
   "metadata": {},
   "source": [
    "Data Overview\n",
    "1. review_id: ID unik untuk setiap review yang diberikan pelanggan.\n",
    "2. order_id: ID pesanan yang direview oleh pelanggan.\n",
    "3. review_score: Skor ulasan yang diberikan pelanggan.\n",
    "4. review_comment_title: Judul dari ulasan pelanggan.\n",
    "5. review_comment_message: Isi atau deskripsi lengkap dari ulasan pelanggan.\n",
    "6. review_creation_date: Waktu ketika pelanggan membuat review.\n",
    "7. review_answer_timestamp: Waktu ketika sistem menjawab ulasan tersebut."
   ]
  },
  {
   "cell_type": "code",
   "execution_count": 6,
   "id": "a4535b16",
   "metadata": {},
   "outputs": [
    {
     "data": {
      "application/vnd.microsoft.datawrangler.viewer.v0+json": {
       "columns": [
        {
         "name": "index",
         "rawType": "int64",
         "type": "integer"
        },
        {
         "name": "review_id",
         "rawType": "object",
         "type": "string"
        },
        {
         "name": "order_id",
         "rawType": "object",
         "type": "string"
        },
        {
         "name": "review_score",
         "rawType": "int64",
         "type": "integer"
        },
        {
         "name": "review_comment_title",
         "rawType": "object",
         "type": "unknown"
        },
        {
         "name": "review_comment_message",
         "rawType": "object",
         "type": "unknown"
        },
        {
         "name": "review_creation_date",
         "rawType": "object",
         "type": "string"
        },
        {
         "name": "review_answer_timestamp",
         "rawType": "object",
         "type": "string"
        }
       ],
       "ref": "3f382f42-5196-496c-b86d-f6f12f126600",
       "rows": [
        [
         "0",
         "7bc2406110b926393aa56f80a40eba40",
         "73fc7af87114b39712e6da79b0a377eb",
         "4",
         null,
         null,
         "2018-01-18 00:00:00",
         "2018-01-18 21:46:59"
        ],
        [
         "1",
         "80e641a11e56f04c1ad469d5645fdfde",
         "a548910a1c6147796b98fdf73dbeba33",
         "5",
         null,
         null,
         "2018-03-10 00:00:00",
         "2018-03-11 03:05:13"
        ],
        [
         "2",
         "228ce5500dc1d8e020d8d1322874b6f0",
         "f9e4b658b201a9f2ecdecbb34bed034b",
         "5",
         null,
         null,
         "2018-02-17 00:00:00",
         "2018-02-18 14:36:24"
        ],
        [
         "3",
         "e64fb393e7b32834bb789ff8bb30750e",
         "658677c97b385a9be170737859d3511b",
         "5",
         null,
         "Recebi bem antes do prazo estipulado.",
         "2017-04-21 00:00:00",
         "2017-04-21 22:02:06"
        ],
        [
         "4",
         "f7c4243c7fe1938f181bec41a392bdeb",
         "8e6bfb81e283fa7e4f11123a3fb894f1",
         "5",
         null,
         "Parabéns lojas lannister adorei comprar pela Internet seguro e prático Parabéns a todos feliz Páscoa",
         "2018-03-01 00:00:00",
         "2018-03-02 10:26:53"
        ]
       ],
       "shape": {
        "columns": 7,
        "rows": 5
       }
      },
      "text/html": [
       "<div>\n",
       "<style scoped>\n",
       "    .dataframe tbody tr th:only-of-type {\n",
       "        vertical-align: middle;\n",
       "    }\n",
       "\n",
       "    .dataframe tbody tr th {\n",
       "        vertical-align: top;\n",
       "    }\n",
       "\n",
       "    .dataframe thead th {\n",
       "        text-align: right;\n",
       "    }\n",
       "</style>\n",
       "<table border=\"1\" class=\"dataframe\">\n",
       "  <thead>\n",
       "    <tr style=\"text-align: right;\">\n",
       "      <th></th>\n",
       "      <th>review_id</th>\n",
       "      <th>order_id</th>\n",
       "      <th>review_score</th>\n",
       "      <th>review_comment_title</th>\n",
       "      <th>review_comment_message</th>\n",
       "      <th>review_creation_date</th>\n",
       "      <th>review_answer_timestamp</th>\n",
       "    </tr>\n",
       "  </thead>\n",
       "  <tbody>\n",
       "    <tr>\n",
       "      <th>0</th>\n",
       "      <td>7bc2406110b926393aa56f80a40eba40</td>\n",
       "      <td>73fc7af87114b39712e6da79b0a377eb</td>\n",
       "      <td>4</td>\n",
       "      <td>NaN</td>\n",
       "      <td>NaN</td>\n",
       "      <td>2018-01-18 00:00:00</td>\n",
       "      <td>2018-01-18 21:46:59</td>\n",
       "    </tr>\n",
       "    <tr>\n",
       "      <th>1</th>\n",
       "      <td>80e641a11e56f04c1ad469d5645fdfde</td>\n",
       "      <td>a548910a1c6147796b98fdf73dbeba33</td>\n",
       "      <td>5</td>\n",
       "      <td>NaN</td>\n",
       "      <td>NaN</td>\n",
       "      <td>2018-03-10 00:00:00</td>\n",
       "      <td>2018-03-11 03:05:13</td>\n",
       "    </tr>\n",
       "    <tr>\n",
       "      <th>2</th>\n",
       "      <td>228ce5500dc1d8e020d8d1322874b6f0</td>\n",
       "      <td>f9e4b658b201a9f2ecdecbb34bed034b</td>\n",
       "      <td>5</td>\n",
       "      <td>NaN</td>\n",
       "      <td>NaN</td>\n",
       "      <td>2018-02-17 00:00:00</td>\n",
       "      <td>2018-02-18 14:36:24</td>\n",
       "    </tr>\n",
       "    <tr>\n",
       "      <th>3</th>\n",
       "      <td>e64fb393e7b32834bb789ff8bb30750e</td>\n",
       "      <td>658677c97b385a9be170737859d3511b</td>\n",
       "      <td>5</td>\n",
       "      <td>NaN</td>\n",
       "      <td>Recebi bem antes do prazo estipulado.</td>\n",
       "      <td>2017-04-21 00:00:00</td>\n",
       "      <td>2017-04-21 22:02:06</td>\n",
       "    </tr>\n",
       "    <tr>\n",
       "      <th>4</th>\n",
       "      <td>f7c4243c7fe1938f181bec41a392bdeb</td>\n",
       "      <td>8e6bfb81e283fa7e4f11123a3fb894f1</td>\n",
       "      <td>5</td>\n",
       "      <td>NaN</td>\n",
       "      <td>Parabéns lojas lannister adorei comprar pela I...</td>\n",
       "      <td>2018-03-01 00:00:00</td>\n",
       "      <td>2018-03-02 10:26:53</td>\n",
       "    </tr>\n",
       "  </tbody>\n",
       "</table>\n",
       "</div>"
      ],
      "text/plain": [
       "                          review_id                          order_id  \\\n",
       "0  7bc2406110b926393aa56f80a40eba40  73fc7af87114b39712e6da79b0a377eb   \n",
       "1  80e641a11e56f04c1ad469d5645fdfde  a548910a1c6147796b98fdf73dbeba33   \n",
       "2  228ce5500dc1d8e020d8d1322874b6f0  f9e4b658b201a9f2ecdecbb34bed034b   \n",
       "3  e64fb393e7b32834bb789ff8bb30750e  658677c97b385a9be170737859d3511b   \n",
       "4  f7c4243c7fe1938f181bec41a392bdeb  8e6bfb81e283fa7e4f11123a3fb894f1   \n",
       "\n",
       "   review_score review_comment_title  \\\n",
       "0             4                  NaN   \n",
       "1             5                  NaN   \n",
       "2             5                  NaN   \n",
       "3             5                  NaN   \n",
       "4             5                  NaN   \n",
       "\n",
       "                              review_comment_message review_creation_date  \\\n",
       "0                                                NaN  2018-01-18 00:00:00   \n",
       "1                                                NaN  2018-03-10 00:00:00   \n",
       "2                                                NaN  2018-02-17 00:00:00   \n",
       "3              Recebi bem antes do prazo estipulado.  2017-04-21 00:00:00   \n",
       "4  Parabéns lojas lannister adorei comprar pela I...  2018-03-01 00:00:00   \n",
       "\n",
       "  review_answer_timestamp  \n",
       "0     2018-01-18 21:46:59  \n",
       "1     2018-03-11 03:05:13  \n",
       "2     2018-02-18 14:36:24  \n",
       "3     2017-04-21 22:02:06  \n",
       "4     2018-03-02 10:26:53  "
      ]
     },
     "execution_count": 6,
     "metadata": {},
     "output_type": "execute_result"
    }
   ],
   "source": [
    "dfOrderReviews = pd.read_csv(\"../Data/olist_order_reviews_dataset.csv\")\n",
    "\n",
    "dfOrderReviews.head()"
   ]
  },
  {
   "cell_type": "markdown",
   "id": "d1759444",
   "metadata": {},
   "source": [
    "Data Overview\n",
    "1. order_id: ID unik setiap order.\n",
    "2. customer_id: ID internal unik untuk pelanggan (bisa sama dengan banyak order).\n",
    "3. order_status: Status pesanan.\n",
    "4. order_purchase_timestamp: Waktu pesanan pembelian.\n",
    "5. order_approved_at:  Waktu pesanan diterima.\n",
    "6. order_delivered_carrier_date: Waktu pesanan diberikan ke kurir.\n",
    "7. order_delivered_customer_date: Waktu pesanan benar-benar sampai ke pelanggan.\n",
    "8. order_estimated_delivery_date: Estimasi tanggal pengiriman (dijanjikan ke customer)."
   ]
  },
  {
   "cell_type": "code",
   "execution_count": 7,
   "id": "9114261a",
   "metadata": {},
   "outputs": [
    {
     "data": {
      "application/vnd.microsoft.datawrangler.viewer.v0+json": {
       "columns": [
        {
         "name": "index",
         "rawType": "int64",
         "type": "integer"
        },
        {
         "name": "order_id",
         "rawType": "object",
         "type": "string"
        },
        {
         "name": "customer_id",
         "rawType": "object",
         "type": "string"
        },
        {
         "name": "order_status",
         "rawType": "object",
         "type": "string"
        },
        {
         "name": "order_purchase_timestamp",
         "rawType": "object",
         "type": "string"
        },
        {
         "name": "order_approved_at",
         "rawType": "object",
         "type": "string"
        },
        {
         "name": "order_delivered_carrier_date",
         "rawType": "object",
         "type": "string"
        },
        {
         "name": "order_delivered_customer_date",
         "rawType": "object",
         "type": "string"
        },
        {
         "name": "order_estimated_delivery_date",
         "rawType": "object",
         "type": "string"
        }
       ],
       "ref": "f79ef2e5-c3c6-421e-bcba-ae94f0da63f6",
       "rows": [
        [
         "0",
         "e481f51cbdc54678b7cc49136f2d6af7",
         "9ef432eb6251297304e76186b10a928d",
         "delivered",
         "2017-10-02 10:56:33",
         "2017-10-02 11:07:15",
         "2017-10-04 19:55:00",
         "2017-10-10 21:25:13",
         "2017-10-18 00:00:00"
        ],
        [
         "1",
         "53cdb2fc8bc7dce0b6741e2150273451",
         "b0830fb4747a6c6d20dea0b8c802d7ef",
         "delivered",
         "2018-07-24 20:41:37",
         "2018-07-26 03:24:27",
         "2018-07-26 14:31:00",
         "2018-08-07 15:27:45",
         "2018-08-13 00:00:00"
        ],
        [
         "2",
         "47770eb9100c2d0c44946d9cf07ec65d",
         "41ce2a54c0b03bf3443c3d931a367089",
         "delivered",
         "2018-08-08 08:38:49",
         "2018-08-08 08:55:23",
         "2018-08-08 13:50:00",
         "2018-08-17 18:06:29",
         "2018-09-04 00:00:00"
        ],
        [
         "3",
         "949d5b44dbf5de918fe9c16f97b45f8a",
         "f88197465ea7920adcdbec7375364d82",
         "delivered",
         "2017-11-18 19:28:06",
         "2017-11-18 19:45:59",
         "2017-11-22 13:39:59",
         "2017-12-02 00:28:42",
         "2017-12-15 00:00:00"
        ],
        [
         "4",
         "ad21c59c0840e6cb83a9ceb5573f8159",
         "8ab97904e6daea8866dbdbc4fb7aad2c",
         "delivered",
         "2018-02-13 21:18:39",
         "2018-02-13 22:20:29",
         "2018-02-14 19:46:34",
         "2018-02-16 18:17:02",
         "2018-02-26 00:00:00"
        ]
       ],
       "shape": {
        "columns": 8,
        "rows": 5
       }
      },
      "text/html": [
       "<div>\n",
       "<style scoped>\n",
       "    .dataframe tbody tr th:only-of-type {\n",
       "        vertical-align: middle;\n",
       "    }\n",
       "\n",
       "    .dataframe tbody tr th {\n",
       "        vertical-align: top;\n",
       "    }\n",
       "\n",
       "    .dataframe thead th {\n",
       "        text-align: right;\n",
       "    }\n",
       "</style>\n",
       "<table border=\"1\" class=\"dataframe\">\n",
       "  <thead>\n",
       "    <tr style=\"text-align: right;\">\n",
       "      <th></th>\n",
       "      <th>order_id</th>\n",
       "      <th>customer_id</th>\n",
       "      <th>order_status</th>\n",
       "      <th>order_purchase_timestamp</th>\n",
       "      <th>order_approved_at</th>\n",
       "      <th>order_delivered_carrier_date</th>\n",
       "      <th>order_delivered_customer_date</th>\n",
       "      <th>order_estimated_delivery_date</th>\n",
       "    </tr>\n",
       "  </thead>\n",
       "  <tbody>\n",
       "    <tr>\n",
       "      <th>0</th>\n",
       "      <td>e481f51cbdc54678b7cc49136f2d6af7</td>\n",
       "      <td>9ef432eb6251297304e76186b10a928d</td>\n",
       "      <td>delivered</td>\n",
       "      <td>2017-10-02 10:56:33</td>\n",
       "      <td>2017-10-02 11:07:15</td>\n",
       "      <td>2017-10-04 19:55:00</td>\n",
       "      <td>2017-10-10 21:25:13</td>\n",
       "      <td>2017-10-18 00:00:00</td>\n",
       "    </tr>\n",
       "    <tr>\n",
       "      <th>1</th>\n",
       "      <td>53cdb2fc8bc7dce0b6741e2150273451</td>\n",
       "      <td>b0830fb4747a6c6d20dea0b8c802d7ef</td>\n",
       "      <td>delivered</td>\n",
       "      <td>2018-07-24 20:41:37</td>\n",
       "      <td>2018-07-26 03:24:27</td>\n",
       "      <td>2018-07-26 14:31:00</td>\n",
       "      <td>2018-08-07 15:27:45</td>\n",
       "      <td>2018-08-13 00:00:00</td>\n",
       "    </tr>\n",
       "    <tr>\n",
       "      <th>2</th>\n",
       "      <td>47770eb9100c2d0c44946d9cf07ec65d</td>\n",
       "      <td>41ce2a54c0b03bf3443c3d931a367089</td>\n",
       "      <td>delivered</td>\n",
       "      <td>2018-08-08 08:38:49</td>\n",
       "      <td>2018-08-08 08:55:23</td>\n",
       "      <td>2018-08-08 13:50:00</td>\n",
       "      <td>2018-08-17 18:06:29</td>\n",
       "      <td>2018-09-04 00:00:00</td>\n",
       "    </tr>\n",
       "    <tr>\n",
       "      <th>3</th>\n",
       "      <td>949d5b44dbf5de918fe9c16f97b45f8a</td>\n",
       "      <td>f88197465ea7920adcdbec7375364d82</td>\n",
       "      <td>delivered</td>\n",
       "      <td>2017-11-18 19:28:06</td>\n",
       "      <td>2017-11-18 19:45:59</td>\n",
       "      <td>2017-11-22 13:39:59</td>\n",
       "      <td>2017-12-02 00:28:42</td>\n",
       "      <td>2017-12-15 00:00:00</td>\n",
       "    </tr>\n",
       "    <tr>\n",
       "      <th>4</th>\n",
       "      <td>ad21c59c0840e6cb83a9ceb5573f8159</td>\n",
       "      <td>8ab97904e6daea8866dbdbc4fb7aad2c</td>\n",
       "      <td>delivered</td>\n",
       "      <td>2018-02-13 21:18:39</td>\n",
       "      <td>2018-02-13 22:20:29</td>\n",
       "      <td>2018-02-14 19:46:34</td>\n",
       "      <td>2018-02-16 18:17:02</td>\n",
       "      <td>2018-02-26 00:00:00</td>\n",
       "    </tr>\n",
       "  </tbody>\n",
       "</table>\n",
       "</div>"
      ],
      "text/plain": [
       "                           order_id                       customer_id  \\\n",
       "0  e481f51cbdc54678b7cc49136f2d6af7  9ef432eb6251297304e76186b10a928d   \n",
       "1  53cdb2fc8bc7dce0b6741e2150273451  b0830fb4747a6c6d20dea0b8c802d7ef   \n",
       "2  47770eb9100c2d0c44946d9cf07ec65d  41ce2a54c0b03bf3443c3d931a367089   \n",
       "3  949d5b44dbf5de918fe9c16f97b45f8a  f88197465ea7920adcdbec7375364d82   \n",
       "4  ad21c59c0840e6cb83a9ceb5573f8159  8ab97904e6daea8866dbdbc4fb7aad2c   \n",
       "\n",
       "  order_status order_purchase_timestamp    order_approved_at  \\\n",
       "0    delivered      2017-10-02 10:56:33  2017-10-02 11:07:15   \n",
       "1    delivered      2018-07-24 20:41:37  2018-07-26 03:24:27   \n",
       "2    delivered      2018-08-08 08:38:49  2018-08-08 08:55:23   \n",
       "3    delivered      2017-11-18 19:28:06  2017-11-18 19:45:59   \n",
       "4    delivered      2018-02-13 21:18:39  2018-02-13 22:20:29   \n",
       "\n",
       "  order_delivered_carrier_date order_delivered_customer_date  \\\n",
       "0          2017-10-04 19:55:00           2017-10-10 21:25:13   \n",
       "1          2018-07-26 14:31:00           2018-08-07 15:27:45   \n",
       "2          2018-08-08 13:50:00           2018-08-17 18:06:29   \n",
       "3          2017-11-22 13:39:59           2017-12-02 00:28:42   \n",
       "4          2018-02-14 19:46:34           2018-02-16 18:17:02   \n",
       "\n",
       "  order_estimated_delivery_date  \n",
       "0           2017-10-18 00:00:00  \n",
       "1           2018-08-13 00:00:00  \n",
       "2           2018-09-04 00:00:00  \n",
       "3           2017-12-15 00:00:00  \n",
       "4           2018-02-26 00:00:00  "
      ]
     },
     "execution_count": 7,
     "metadata": {},
     "output_type": "execute_result"
    }
   ],
   "source": [
    "dfOrders = pd.read_csv(\"../Data/olist_orders_dataset.csv\")\n",
    "\n",
    "dfOrders.head()"
   ]
  },
  {
   "cell_type": "markdown",
   "id": "afecb26f",
   "metadata": {},
   "source": [
    "Data Overview\n",
    "1. product_id: ID produk.\n",
    "2. product_category_name: Kategori produk (Brazil).\n",
    "3. product_name_lenght: Panjang nama produk (jumlah karakter).\n",
    "4. product_description_lenght: Panjang deskripsi produk (jumlah karakter).\n",
    "5. product_photos_qty: Jumlah foto produk.\n",
    "6. product_weight_g: Berat produk (gram).\n",
    "7. product_length_cm: Dimensi panjang produk.\n",
    "8. product_height_cm: Dimensi tinggi produk.\n",
    "9. product_width_cm: Dimensi lebar produk."
   ]
  },
  {
   "cell_type": "code",
   "execution_count": 8,
   "id": "ef0a4640",
   "metadata": {},
   "outputs": [
    {
     "data": {
      "application/vnd.microsoft.datawrangler.viewer.v0+json": {
       "columns": [
        {
         "name": "index",
         "rawType": "int64",
         "type": "integer"
        },
        {
         "name": "product_id",
         "rawType": "object",
         "type": "string"
        },
        {
         "name": "product_category_name",
         "rawType": "object",
         "type": "string"
        },
        {
         "name": "product_name_lenght",
         "rawType": "float64",
         "type": "float"
        },
        {
         "name": "product_description_lenght",
         "rawType": "float64",
         "type": "float"
        },
        {
         "name": "product_photos_qty",
         "rawType": "float64",
         "type": "float"
        },
        {
         "name": "product_weight_g",
         "rawType": "float64",
         "type": "float"
        },
        {
         "name": "product_length_cm",
         "rawType": "float64",
         "type": "float"
        },
        {
         "name": "product_height_cm",
         "rawType": "float64",
         "type": "float"
        },
        {
         "name": "product_width_cm",
         "rawType": "float64",
         "type": "float"
        }
       ],
       "ref": "ef6239c5-2a57-4844-a617-4a845e29b127",
       "rows": [
        [
         "0",
         "1e9e8ef04dbcff4541ed26657ea517e5",
         "perfumaria",
         "40.0",
         "287.0",
         "1.0",
         "225.0",
         "16.0",
         "10.0",
         "14.0"
        ],
        [
         "1",
         "3aa071139cb16b67ca9e5dea641aaa2f",
         "artes",
         "44.0",
         "276.0",
         "1.0",
         "1000.0",
         "30.0",
         "18.0",
         "20.0"
        ],
        [
         "2",
         "96bd76ec8810374ed1b65e291975717f",
         "esporte_lazer",
         "46.0",
         "250.0",
         "1.0",
         "154.0",
         "18.0",
         "9.0",
         "15.0"
        ],
        [
         "3",
         "cef67bcfe19066a932b7673e239eb23d",
         "bebes",
         "27.0",
         "261.0",
         "1.0",
         "371.0",
         "26.0",
         "4.0",
         "26.0"
        ],
        [
         "4",
         "9dc1a7de274444849c219cff195d0b71",
         "utilidades_domesticas",
         "37.0",
         "402.0",
         "4.0",
         "625.0",
         "20.0",
         "17.0",
         "13.0"
        ]
       ],
       "shape": {
        "columns": 9,
        "rows": 5
       }
      },
      "text/html": [
       "<div>\n",
       "<style scoped>\n",
       "    .dataframe tbody tr th:only-of-type {\n",
       "        vertical-align: middle;\n",
       "    }\n",
       "\n",
       "    .dataframe tbody tr th {\n",
       "        vertical-align: top;\n",
       "    }\n",
       "\n",
       "    .dataframe thead th {\n",
       "        text-align: right;\n",
       "    }\n",
       "</style>\n",
       "<table border=\"1\" class=\"dataframe\">\n",
       "  <thead>\n",
       "    <tr style=\"text-align: right;\">\n",
       "      <th></th>\n",
       "      <th>product_id</th>\n",
       "      <th>product_category_name</th>\n",
       "      <th>product_name_lenght</th>\n",
       "      <th>product_description_lenght</th>\n",
       "      <th>product_photos_qty</th>\n",
       "      <th>product_weight_g</th>\n",
       "      <th>product_length_cm</th>\n",
       "      <th>product_height_cm</th>\n",
       "      <th>product_width_cm</th>\n",
       "    </tr>\n",
       "  </thead>\n",
       "  <tbody>\n",
       "    <tr>\n",
       "      <th>0</th>\n",
       "      <td>1e9e8ef04dbcff4541ed26657ea517e5</td>\n",
       "      <td>perfumaria</td>\n",
       "      <td>40.0</td>\n",
       "      <td>287.0</td>\n",
       "      <td>1.0</td>\n",
       "      <td>225.0</td>\n",
       "      <td>16.0</td>\n",
       "      <td>10.0</td>\n",
       "      <td>14.0</td>\n",
       "    </tr>\n",
       "    <tr>\n",
       "      <th>1</th>\n",
       "      <td>3aa071139cb16b67ca9e5dea641aaa2f</td>\n",
       "      <td>artes</td>\n",
       "      <td>44.0</td>\n",
       "      <td>276.0</td>\n",
       "      <td>1.0</td>\n",
       "      <td>1000.0</td>\n",
       "      <td>30.0</td>\n",
       "      <td>18.0</td>\n",
       "      <td>20.0</td>\n",
       "    </tr>\n",
       "    <tr>\n",
       "      <th>2</th>\n",
       "      <td>96bd76ec8810374ed1b65e291975717f</td>\n",
       "      <td>esporte_lazer</td>\n",
       "      <td>46.0</td>\n",
       "      <td>250.0</td>\n",
       "      <td>1.0</td>\n",
       "      <td>154.0</td>\n",
       "      <td>18.0</td>\n",
       "      <td>9.0</td>\n",
       "      <td>15.0</td>\n",
       "    </tr>\n",
       "    <tr>\n",
       "      <th>3</th>\n",
       "      <td>cef67bcfe19066a932b7673e239eb23d</td>\n",
       "      <td>bebes</td>\n",
       "      <td>27.0</td>\n",
       "      <td>261.0</td>\n",
       "      <td>1.0</td>\n",
       "      <td>371.0</td>\n",
       "      <td>26.0</td>\n",
       "      <td>4.0</td>\n",
       "      <td>26.0</td>\n",
       "    </tr>\n",
       "    <tr>\n",
       "      <th>4</th>\n",
       "      <td>9dc1a7de274444849c219cff195d0b71</td>\n",
       "      <td>utilidades_domesticas</td>\n",
       "      <td>37.0</td>\n",
       "      <td>402.0</td>\n",
       "      <td>4.0</td>\n",
       "      <td>625.0</td>\n",
       "      <td>20.0</td>\n",
       "      <td>17.0</td>\n",
       "      <td>13.0</td>\n",
       "    </tr>\n",
       "  </tbody>\n",
       "</table>\n",
       "</div>"
      ],
      "text/plain": [
       "                         product_id  product_category_name  \\\n",
       "0  1e9e8ef04dbcff4541ed26657ea517e5             perfumaria   \n",
       "1  3aa071139cb16b67ca9e5dea641aaa2f                  artes   \n",
       "2  96bd76ec8810374ed1b65e291975717f          esporte_lazer   \n",
       "3  cef67bcfe19066a932b7673e239eb23d                  bebes   \n",
       "4  9dc1a7de274444849c219cff195d0b71  utilidades_domesticas   \n",
       "\n",
       "   product_name_lenght  product_description_lenght  product_photos_qty  \\\n",
       "0                 40.0                       287.0                 1.0   \n",
       "1                 44.0                       276.0                 1.0   \n",
       "2                 46.0                       250.0                 1.0   \n",
       "3                 27.0                       261.0                 1.0   \n",
       "4                 37.0                       402.0                 4.0   \n",
       "\n",
       "   product_weight_g  product_length_cm  product_height_cm  product_width_cm  \n",
       "0             225.0               16.0               10.0              14.0  \n",
       "1            1000.0               30.0               18.0              20.0  \n",
       "2             154.0               18.0                9.0              15.0  \n",
       "3             371.0               26.0                4.0              26.0  \n",
       "4             625.0               20.0               17.0              13.0  "
      ]
     },
     "execution_count": 8,
     "metadata": {},
     "output_type": "execute_result"
    }
   ],
   "source": [
    "dfProducts  = pd.read_csv(\"../Data/olist_products_dataset.csv\")\n",
    "\n",
    "dfProducts.head()"
   ]
  },
  {
   "cell_type": "markdown",
   "id": "a13b6dc6",
   "metadata": {},
   "source": [
    "Data Overview\n",
    "1. seller_id: ID penjual.\n",
    "2. seller_zip_code_prefix: Kode pos penjual.\n",
    "3. seller_city: Kota penjual.\n",
    "4. seller_state: Negara bagian penjual."
   ]
  },
  {
   "cell_type": "code",
   "execution_count": 9,
   "id": "e8d7bfa0",
   "metadata": {},
   "outputs": [
    {
     "data": {
      "application/vnd.microsoft.datawrangler.viewer.v0+json": {
       "columns": [
        {
         "name": "index",
         "rawType": "int64",
         "type": "integer"
        },
        {
         "name": "seller_id",
         "rawType": "object",
         "type": "string"
        },
        {
         "name": "seller_zip_code_prefix",
         "rawType": "int64",
         "type": "integer"
        },
        {
         "name": "seller_city",
         "rawType": "object",
         "type": "string"
        },
        {
         "name": "seller_state",
         "rawType": "object",
         "type": "string"
        }
       ],
       "ref": "aec22b33-c56d-41c7-b5cb-b30104b41a91",
       "rows": [
        [
         "0",
         "3442f8959a84dea7ee197c632cb2df15",
         "13023",
         "campinas",
         "SP"
        ],
        [
         "1",
         "d1b65fc7debc3361ea86b5f14c68d2e2",
         "13844",
         "mogi guacu",
         "SP"
        ],
        [
         "2",
         "ce3ad9de960102d0677a81f5d0bb7b2d",
         "20031",
         "rio de janeiro",
         "RJ"
        ],
        [
         "3",
         "c0f3eea2e14555b6faeea3dd58c1b1c3",
         "4195",
         "sao paulo",
         "SP"
        ],
        [
         "4",
         "51a04a8a6bdcb23deccc82b0b80742cf",
         "12914",
         "braganca paulista",
         "SP"
        ]
       ],
       "shape": {
        "columns": 4,
        "rows": 5
       }
      },
      "text/html": [
       "<div>\n",
       "<style scoped>\n",
       "    .dataframe tbody tr th:only-of-type {\n",
       "        vertical-align: middle;\n",
       "    }\n",
       "\n",
       "    .dataframe tbody tr th {\n",
       "        vertical-align: top;\n",
       "    }\n",
       "\n",
       "    .dataframe thead th {\n",
       "        text-align: right;\n",
       "    }\n",
       "</style>\n",
       "<table border=\"1\" class=\"dataframe\">\n",
       "  <thead>\n",
       "    <tr style=\"text-align: right;\">\n",
       "      <th></th>\n",
       "      <th>seller_id</th>\n",
       "      <th>seller_zip_code_prefix</th>\n",
       "      <th>seller_city</th>\n",
       "      <th>seller_state</th>\n",
       "    </tr>\n",
       "  </thead>\n",
       "  <tbody>\n",
       "    <tr>\n",
       "      <th>0</th>\n",
       "      <td>3442f8959a84dea7ee197c632cb2df15</td>\n",
       "      <td>13023</td>\n",
       "      <td>campinas</td>\n",
       "      <td>SP</td>\n",
       "    </tr>\n",
       "    <tr>\n",
       "      <th>1</th>\n",
       "      <td>d1b65fc7debc3361ea86b5f14c68d2e2</td>\n",
       "      <td>13844</td>\n",
       "      <td>mogi guacu</td>\n",
       "      <td>SP</td>\n",
       "    </tr>\n",
       "    <tr>\n",
       "      <th>2</th>\n",
       "      <td>ce3ad9de960102d0677a81f5d0bb7b2d</td>\n",
       "      <td>20031</td>\n",
       "      <td>rio de janeiro</td>\n",
       "      <td>RJ</td>\n",
       "    </tr>\n",
       "    <tr>\n",
       "      <th>3</th>\n",
       "      <td>c0f3eea2e14555b6faeea3dd58c1b1c3</td>\n",
       "      <td>4195</td>\n",
       "      <td>sao paulo</td>\n",
       "      <td>SP</td>\n",
       "    </tr>\n",
       "    <tr>\n",
       "      <th>4</th>\n",
       "      <td>51a04a8a6bdcb23deccc82b0b80742cf</td>\n",
       "      <td>12914</td>\n",
       "      <td>braganca paulista</td>\n",
       "      <td>SP</td>\n",
       "    </tr>\n",
       "  </tbody>\n",
       "</table>\n",
       "</div>"
      ],
      "text/plain": [
       "                          seller_id  seller_zip_code_prefix  \\\n",
       "0  3442f8959a84dea7ee197c632cb2df15                   13023   \n",
       "1  d1b65fc7debc3361ea86b5f14c68d2e2                   13844   \n",
       "2  ce3ad9de960102d0677a81f5d0bb7b2d                   20031   \n",
       "3  c0f3eea2e14555b6faeea3dd58c1b1c3                    4195   \n",
       "4  51a04a8a6bdcb23deccc82b0b80742cf                   12914   \n",
       "\n",
       "         seller_city seller_state  \n",
       "0           campinas           SP  \n",
       "1         mogi guacu           SP  \n",
       "2     rio de janeiro           RJ  \n",
       "3          sao paulo           SP  \n",
       "4  braganca paulista           SP  "
      ]
     },
     "execution_count": 9,
     "metadata": {},
     "output_type": "execute_result"
    }
   ],
   "source": [
    "dfSellers = pd.read_csv(\"../Data/olist_sellers_dataset.csv\")\n",
    "\n",
    "dfSellers.head()"
   ]
  },
  {
   "cell_type": "markdown",
   "id": "fb494d98",
   "metadata": {},
   "source": [
    "Data Overview\n",
    "1. product_category_name: Nama kategori (Brazil).\n",
    "2. product_category_name_english: Nama kategori (Inggris)."
   ]
  },
  {
   "cell_type": "code",
   "execution_count": 10,
   "id": "e4c03f16",
   "metadata": {},
   "outputs": [
    {
     "data": {
      "application/vnd.microsoft.datawrangler.viewer.v0+json": {
       "columns": [
        {
         "name": "index",
         "rawType": "int64",
         "type": "integer"
        },
        {
         "name": "product_category_name",
         "rawType": "object",
         "type": "string"
        },
        {
         "name": "product_category_name_english",
         "rawType": "object",
         "type": "string"
        }
       ],
       "ref": "defd4591-f524-49d1-9bee-b9e0cc29cb99",
       "rows": [
        [
         "0",
         "beleza_saude",
         "health_beauty"
        ],
        [
         "1",
         "informatica_acessorios",
         "computers_accessories"
        ],
        [
         "2",
         "automotivo",
         "auto"
        ],
        [
         "3",
         "cama_mesa_banho",
         "bed_bath_table"
        ],
        [
         "4",
         "moveis_decoracao",
         "furniture_decor"
        ]
       ],
       "shape": {
        "columns": 2,
        "rows": 5
       }
      },
      "text/html": [
       "<div>\n",
       "<style scoped>\n",
       "    .dataframe tbody tr th:only-of-type {\n",
       "        vertical-align: middle;\n",
       "    }\n",
       "\n",
       "    .dataframe tbody tr th {\n",
       "        vertical-align: top;\n",
       "    }\n",
       "\n",
       "    .dataframe thead th {\n",
       "        text-align: right;\n",
       "    }\n",
       "</style>\n",
       "<table border=\"1\" class=\"dataframe\">\n",
       "  <thead>\n",
       "    <tr style=\"text-align: right;\">\n",
       "      <th></th>\n",
       "      <th>product_category_name</th>\n",
       "      <th>product_category_name_english</th>\n",
       "    </tr>\n",
       "  </thead>\n",
       "  <tbody>\n",
       "    <tr>\n",
       "      <th>0</th>\n",
       "      <td>beleza_saude</td>\n",
       "      <td>health_beauty</td>\n",
       "    </tr>\n",
       "    <tr>\n",
       "      <th>1</th>\n",
       "      <td>informatica_acessorios</td>\n",
       "      <td>computers_accessories</td>\n",
       "    </tr>\n",
       "    <tr>\n",
       "      <th>2</th>\n",
       "      <td>automotivo</td>\n",
       "      <td>auto</td>\n",
       "    </tr>\n",
       "    <tr>\n",
       "      <th>3</th>\n",
       "      <td>cama_mesa_banho</td>\n",
       "      <td>bed_bath_table</td>\n",
       "    </tr>\n",
       "    <tr>\n",
       "      <th>4</th>\n",
       "      <td>moveis_decoracao</td>\n",
       "      <td>furniture_decor</td>\n",
       "    </tr>\n",
       "  </tbody>\n",
       "</table>\n",
       "</div>"
      ],
      "text/plain": [
       "    product_category_name product_category_name_english\n",
       "0            beleza_saude                 health_beauty\n",
       "1  informatica_acessorios         computers_accessories\n",
       "2              automotivo                          auto\n",
       "3         cama_mesa_banho                bed_bath_table\n",
       "4        moveis_decoracao               furniture_decor"
      ]
     },
     "execution_count": 10,
     "metadata": {},
     "output_type": "execute_result"
    }
   ],
   "source": [
    "dfProductName = pd.read_csv(\"../Data/product_category_name_translation.csv\")\n",
    "\n",
    "dfProductName.head()"
   ]
  },
  {
   "cell_type": "markdown",
   "id": "faf0fa1e",
   "metadata": {},
   "source": [
    "## Assessing Data"
   ]
  },
  {
   "cell_type": "markdown",
   "id": "91e30e0c",
   "metadata": {},
   "source": [
    "Customers"
   ]
  },
  {
   "cell_type": "code",
   "execution_count": 11,
   "id": "e0e19466",
   "metadata": {},
   "outputs": [
    {
     "name": "stdout",
     "output_type": "stream",
     "text": [
      "<class 'pandas.core.frame.DataFrame'>\n",
      "RangeIndex: 99441 entries, 0 to 99440\n",
      "Data columns (total 5 columns):\n",
      " #   Column                    Non-Null Count  Dtype \n",
      "---  ------                    --------------  ----- \n",
      " 0   customer_id               99441 non-null  object\n",
      " 1   customer_unique_id        99441 non-null  object\n",
      " 2   customer_zip_code_prefix  99441 non-null  int64 \n",
      " 3   customer_city             99441 non-null  object\n",
      " 4   customer_state            99441 non-null  object\n",
      "dtypes: int64(1), object(4)\n",
      "memory usage: 3.8+ MB\n"
     ]
    }
   ],
   "source": [
    "dfCustomers.info()"
   ]
  },
  {
   "cell_type": "code",
   "execution_count": 12,
   "id": "7ab43724",
   "metadata": {},
   "outputs": [
    {
     "data": {
      "application/vnd.microsoft.datawrangler.viewer.v0+json": {
       "columns": [
        {
         "name": "index",
         "rawType": "object",
         "type": "string"
        },
        {
         "name": "customer_zip_code_prefix",
         "rawType": "float64",
         "type": "float"
        }
       ],
       "ref": "6de145e1-2ded-4d16-a1c2-a63497fabb17",
       "rows": [
        [
         "count",
         "99441.0"
        ],
        [
         "mean",
         "35137.47458291851"
        ],
        [
         "std",
         "29797.93899620654"
        ],
        [
         "min",
         "1003.0"
        ],
        [
         "25%",
         "11347.0"
        ],
        [
         "50%",
         "24416.0"
        ],
        [
         "75%",
         "58900.0"
        ],
        [
         "max",
         "99990.0"
        ]
       ],
       "shape": {
        "columns": 1,
        "rows": 8
       }
      },
      "text/html": [
       "<div>\n",
       "<style scoped>\n",
       "    .dataframe tbody tr th:only-of-type {\n",
       "        vertical-align: middle;\n",
       "    }\n",
       "\n",
       "    .dataframe tbody tr th {\n",
       "        vertical-align: top;\n",
       "    }\n",
       "\n",
       "    .dataframe thead th {\n",
       "        text-align: right;\n",
       "    }\n",
       "</style>\n",
       "<table border=\"1\" class=\"dataframe\">\n",
       "  <thead>\n",
       "    <tr style=\"text-align: right;\">\n",
       "      <th></th>\n",
       "      <th>customer_zip_code_prefix</th>\n",
       "    </tr>\n",
       "  </thead>\n",
       "  <tbody>\n",
       "    <tr>\n",
       "      <th>count</th>\n",
       "      <td>99441.000000</td>\n",
       "    </tr>\n",
       "    <tr>\n",
       "      <th>mean</th>\n",
       "      <td>35137.474583</td>\n",
       "    </tr>\n",
       "    <tr>\n",
       "      <th>std</th>\n",
       "      <td>29797.938996</td>\n",
       "    </tr>\n",
       "    <tr>\n",
       "      <th>min</th>\n",
       "      <td>1003.000000</td>\n",
       "    </tr>\n",
       "    <tr>\n",
       "      <th>25%</th>\n",
       "      <td>11347.000000</td>\n",
       "    </tr>\n",
       "    <tr>\n",
       "      <th>50%</th>\n",
       "      <td>24416.000000</td>\n",
       "    </tr>\n",
       "    <tr>\n",
       "      <th>75%</th>\n",
       "      <td>58900.000000</td>\n",
       "    </tr>\n",
       "    <tr>\n",
       "      <th>max</th>\n",
       "      <td>99990.000000</td>\n",
       "    </tr>\n",
       "  </tbody>\n",
       "</table>\n",
       "</div>"
      ],
      "text/plain": [
       "       customer_zip_code_prefix\n",
       "count              99441.000000\n",
       "mean               35137.474583\n",
       "std                29797.938996\n",
       "min                 1003.000000\n",
       "25%                11347.000000\n",
       "50%                24416.000000\n",
       "75%                58900.000000\n",
       "max                99990.000000"
      ]
     },
     "execution_count": 12,
     "metadata": {},
     "output_type": "execute_result"
    }
   ],
   "source": [
    "dfCustomers.describe()"
   ]
  },
  {
   "cell_type": "code",
   "execution_count": 13,
   "id": "3440df29",
   "metadata": {},
   "outputs": [
    {
     "data": {
      "application/vnd.microsoft.datawrangler.viewer.v0+json": {
       "columns": [
        {
         "name": "index",
         "rawType": "object",
         "type": "string"
        },
        {
         "name": "customer_id",
         "rawType": "object",
         "type": "unknown"
        },
        {
         "name": "customer_unique_id",
         "rawType": "object",
         "type": "unknown"
        },
        {
         "name": "customer_city",
         "rawType": "object",
         "type": "unknown"
        },
        {
         "name": "customer_state",
         "rawType": "object",
         "type": "unknown"
        }
       ],
       "ref": "ed3820e4-1df4-465e-9902-c526b6bb0299",
       "rows": [
        [
         "count",
         "99441",
         "99441",
         "99441",
         "99441"
        ],
        [
         "unique",
         "99441",
         "96096",
         "4119",
         "27"
        ],
        [
         "top",
         "274fa6071e5e17fe303b9748641082c8",
         "8d50f5eadf50201ccdcedfb9e2ac8455",
         "sao paulo",
         "SP"
        ],
        [
         "freq",
         "1",
         "17",
         "15540",
         "41746"
        ]
       ],
       "shape": {
        "columns": 4,
        "rows": 4
       }
      },
      "text/html": [
       "<div>\n",
       "<style scoped>\n",
       "    .dataframe tbody tr th:only-of-type {\n",
       "        vertical-align: middle;\n",
       "    }\n",
       "\n",
       "    .dataframe tbody tr th {\n",
       "        vertical-align: top;\n",
       "    }\n",
       "\n",
       "    .dataframe thead th {\n",
       "        text-align: right;\n",
       "    }\n",
       "</style>\n",
       "<table border=\"1\" class=\"dataframe\">\n",
       "  <thead>\n",
       "    <tr style=\"text-align: right;\">\n",
       "      <th></th>\n",
       "      <th>customer_id</th>\n",
       "      <th>customer_unique_id</th>\n",
       "      <th>customer_city</th>\n",
       "      <th>customer_state</th>\n",
       "    </tr>\n",
       "  </thead>\n",
       "  <tbody>\n",
       "    <tr>\n",
       "      <th>count</th>\n",
       "      <td>99441</td>\n",
       "      <td>99441</td>\n",
       "      <td>99441</td>\n",
       "      <td>99441</td>\n",
       "    </tr>\n",
       "    <tr>\n",
       "      <th>unique</th>\n",
       "      <td>99441</td>\n",
       "      <td>96096</td>\n",
       "      <td>4119</td>\n",
       "      <td>27</td>\n",
       "    </tr>\n",
       "    <tr>\n",
       "      <th>top</th>\n",
       "      <td>274fa6071e5e17fe303b9748641082c8</td>\n",
       "      <td>8d50f5eadf50201ccdcedfb9e2ac8455</td>\n",
       "      <td>sao paulo</td>\n",
       "      <td>SP</td>\n",
       "    </tr>\n",
       "    <tr>\n",
       "      <th>freq</th>\n",
       "      <td>1</td>\n",
       "      <td>17</td>\n",
       "      <td>15540</td>\n",
       "      <td>41746</td>\n",
       "    </tr>\n",
       "  </tbody>\n",
       "</table>\n",
       "</div>"
      ],
      "text/plain": [
       "                             customer_id                customer_unique_id  \\\n",
       "count                              99441                             99441   \n",
       "unique                             99441                             96096   \n",
       "top     274fa6071e5e17fe303b9748641082c8  8d50f5eadf50201ccdcedfb9e2ac8455   \n",
       "freq                                   1                                17   \n",
       "\n",
       "       customer_city customer_state  \n",
       "count          99441          99441  \n",
       "unique          4119             27  \n",
       "top        sao paulo             SP  \n",
       "freq           15540          41746  "
      ]
     },
     "execution_count": 13,
     "metadata": {},
     "output_type": "execute_result"
    }
   ],
   "source": [
    "dfCustomers.select_dtypes(include = \"object\").describe()"
   ]
  },
  {
   "cell_type": "code",
   "execution_count": 14,
   "id": "8096c831",
   "metadata": {},
   "outputs": [
    {
     "name": "stdout",
     "output_type": "stream",
     "text": [
      "Jumlah Data Customer Duplikat: 0\n"
     ]
    }
   ],
   "source": [
    "print(f\"Jumlah Data Customer Duplikat: {dfCustomers.duplicated().sum()}\")"
   ]
  },
  {
   "cell_type": "markdown",
   "id": "983966dd",
   "metadata": {},
   "source": [
    "Geolocation"
   ]
  },
  {
   "cell_type": "code",
   "execution_count": 15,
   "id": "a9d02503",
   "metadata": {},
   "outputs": [
    {
     "name": "stdout",
     "output_type": "stream",
     "text": [
      "<class 'pandas.core.frame.DataFrame'>\n",
      "RangeIndex: 1000163 entries, 0 to 1000162\n",
      "Data columns (total 5 columns):\n",
      " #   Column                       Non-Null Count    Dtype  \n",
      "---  ------                       --------------    -----  \n",
      " 0   geolocation_zip_code_prefix  1000163 non-null  int64  \n",
      " 1   geolocation_lat              1000163 non-null  float64\n",
      " 2   geolocation_lng              1000163 non-null  float64\n",
      " 3   geolocation_city             1000163 non-null  object \n",
      " 4   geolocation_state            1000163 non-null  object \n",
      "dtypes: float64(2), int64(1), object(2)\n",
      "memory usage: 38.2+ MB\n"
     ]
    }
   ],
   "source": [
    "dfGeolocation.info()"
   ]
  },
  {
   "cell_type": "code",
   "execution_count": 16,
   "id": "cc1ecf3c",
   "metadata": {},
   "outputs": [
    {
     "data": {
      "application/vnd.microsoft.datawrangler.viewer.v0+json": {
       "columns": [
        {
         "name": "index",
         "rawType": "object",
         "type": "string"
        },
        {
         "name": "geolocation_zip_code_prefix",
         "rawType": "float64",
         "type": "float"
        },
        {
         "name": "geolocation_lat",
         "rawType": "float64",
         "type": "float"
        },
        {
         "name": "geolocation_lng",
         "rawType": "float64",
         "type": "float"
        }
       ],
       "ref": "5282c652-81f1-4907-8922-7ac6b3908e5f",
       "rows": [
        [
         "count",
         "1000163.0",
         "1000163.0",
         "1000163.0"
        ],
        [
         "mean",
         "36574.16646586607",
         "-21.176152910383966",
         "-46.39054132093579"
        ],
        [
         "std",
         "30549.33571032424",
         "5.715866308822977",
         "4.26974830661962"
        ],
        [
         "min",
         "1001.0",
         "-36.6053744107061",
         "-101.46676644931476"
        ],
        [
         "25%",
         "11075.0",
         "-23.60354554038031",
         "-48.573172180526896"
        ],
        [
         "50%",
         "26530.0",
         "-22.91937749486411",
         "-46.63787866960149"
        ],
        [
         "75%",
         "63504.0",
         "-19.97962033957529",
         "-43.7677088028139"
        ],
        [
         "max",
         "99990.0",
         "45.06593318269697",
         "121.10539381057764"
        ]
       ],
       "shape": {
        "columns": 3,
        "rows": 8
       }
      },
      "text/html": [
       "<div>\n",
       "<style scoped>\n",
       "    .dataframe tbody tr th:only-of-type {\n",
       "        vertical-align: middle;\n",
       "    }\n",
       "\n",
       "    .dataframe tbody tr th {\n",
       "        vertical-align: top;\n",
       "    }\n",
       "\n",
       "    .dataframe thead th {\n",
       "        text-align: right;\n",
       "    }\n",
       "</style>\n",
       "<table border=\"1\" class=\"dataframe\">\n",
       "  <thead>\n",
       "    <tr style=\"text-align: right;\">\n",
       "      <th></th>\n",
       "      <th>geolocation_zip_code_prefix</th>\n",
       "      <th>geolocation_lat</th>\n",
       "      <th>geolocation_lng</th>\n",
       "    </tr>\n",
       "  </thead>\n",
       "  <tbody>\n",
       "    <tr>\n",
       "      <th>count</th>\n",
       "      <td>1.000163e+06</td>\n",
       "      <td>1.000163e+06</td>\n",
       "      <td>1.000163e+06</td>\n",
       "    </tr>\n",
       "    <tr>\n",
       "      <th>mean</th>\n",
       "      <td>3.657417e+04</td>\n",
       "      <td>-2.117615e+01</td>\n",
       "      <td>-4.639054e+01</td>\n",
       "    </tr>\n",
       "    <tr>\n",
       "      <th>std</th>\n",
       "      <td>3.054934e+04</td>\n",
       "      <td>5.715866e+00</td>\n",
       "      <td>4.269748e+00</td>\n",
       "    </tr>\n",
       "    <tr>\n",
       "      <th>min</th>\n",
       "      <td>1.001000e+03</td>\n",
       "      <td>-3.660537e+01</td>\n",
       "      <td>-1.014668e+02</td>\n",
       "    </tr>\n",
       "    <tr>\n",
       "      <th>25%</th>\n",
       "      <td>1.107500e+04</td>\n",
       "      <td>-2.360355e+01</td>\n",
       "      <td>-4.857317e+01</td>\n",
       "    </tr>\n",
       "    <tr>\n",
       "      <th>50%</th>\n",
       "      <td>2.653000e+04</td>\n",
       "      <td>-2.291938e+01</td>\n",
       "      <td>-4.663788e+01</td>\n",
       "    </tr>\n",
       "    <tr>\n",
       "      <th>75%</th>\n",
       "      <td>6.350400e+04</td>\n",
       "      <td>-1.997962e+01</td>\n",
       "      <td>-4.376771e+01</td>\n",
       "    </tr>\n",
       "    <tr>\n",
       "      <th>max</th>\n",
       "      <td>9.999000e+04</td>\n",
       "      <td>4.506593e+01</td>\n",
       "      <td>1.211054e+02</td>\n",
       "    </tr>\n",
       "  </tbody>\n",
       "</table>\n",
       "</div>"
      ],
      "text/plain": [
       "       geolocation_zip_code_prefix  geolocation_lat  geolocation_lng\n",
       "count                 1.000163e+06     1.000163e+06     1.000163e+06\n",
       "mean                  3.657417e+04    -2.117615e+01    -4.639054e+01\n",
       "std                   3.054934e+04     5.715866e+00     4.269748e+00\n",
       "min                   1.001000e+03    -3.660537e+01    -1.014668e+02\n",
       "25%                   1.107500e+04    -2.360355e+01    -4.857317e+01\n",
       "50%                   2.653000e+04    -2.291938e+01    -4.663788e+01\n",
       "75%                   6.350400e+04    -1.997962e+01    -4.376771e+01\n",
       "max                   9.999000e+04     4.506593e+01     1.211054e+02"
      ]
     },
     "execution_count": 16,
     "metadata": {},
     "output_type": "execute_result"
    }
   ],
   "source": [
    "dfGeolocation.describe()"
   ]
  },
  {
   "cell_type": "code",
   "execution_count": 17,
   "id": "385d5976",
   "metadata": {},
   "outputs": [
    {
     "data": {
      "application/vnd.microsoft.datawrangler.viewer.v0+json": {
       "columns": [
        {
         "name": "index",
         "rawType": "object",
         "type": "string"
        },
        {
         "name": "geolocation_city",
         "rawType": "object",
         "type": "unknown"
        },
        {
         "name": "geolocation_state",
         "rawType": "object",
         "type": "unknown"
        }
       ],
       "ref": "eb5d071f-eb4c-4aad-a896-e75292c41daf",
       "rows": [
        [
         "count",
         "1000163",
         "1000163"
        ],
        [
         "unique",
         "8011",
         "27"
        ],
        [
         "top",
         "sao paulo",
         "SP"
        ],
        [
         "freq",
         "135800",
         "404268"
        ]
       ],
       "shape": {
        "columns": 2,
        "rows": 4
       }
      },
      "text/html": [
       "<div>\n",
       "<style scoped>\n",
       "    .dataframe tbody tr th:only-of-type {\n",
       "        vertical-align: middle;\n",
       "    }\n",
       "\n",
       "    .dataframe tbody tr th {\n",
       "        vertical-align: top;\n",
       "    }\n",
       "\n",
       "    .dataframe thead th {\n",
       "        text-align: right;\n",
       "    }\n",
       "</style>\n",
       "<table border=\"1\" class=\"dataframe\">\n",
       "  <thead>\n",
       "    <tr style=\"text-align: right;\">\n",
       "      <th></th>\n",
       "      <th>geolocation_city</th>\n",
       "      <th>geolocation_state</th>\n",
       "    </tr>\n",
       "  </thead>\n",
       "  <tbody>\n",
       "    <tr>\n",
       "      <th>count</th>\n",
       "      <td>1000163</td>\n",
       "      <td>1000163</td>\n",
       "    </tr>\n",
       "    <tr>\n",
       "      <th>unique</th>\n",
       "      <td>8011</td>\n",
       "      <td>27</td>\n",
       "    </tr>\n",
       "    <tr>\n",
       "      <th>top</th>\n",
       "      <td>sao paulo</td>\n",
       "      <td>SP</td>\n",
       "    </tr>\n",
       "    <tr>\n",
       "      <th>freq</th>\n",
       "      <td>135800</td>\n",
       "      <td>404268</td>\n",
       "    </tr>\n",
       "  </tbody>\n",
       "</table>\n",
       "</div>"
      ],
      "text/plain": [
       "       geolocation_city geolocation_state\n",
       "count           1000163           1000163\n",
       "unique             8011                27\n",
       "top           sao paulo                SP\n",
       "freq             135800            404268"
      ]
     },
     "execution_count": 17,
     "metadata": {},
     "output_type": "execute_result"
    }
   ],
   "source": [
    "dfGeolocation.select_dtypes(include = \"object\").describe()"
   ]
  },
  {
   "cell_type": "code",
   "execution_count": 18,
   "id": "89f3c674",
   "metadata": {},
   "outputs": [
    {
     "name": "stdout",
     "output_type": "stream",
     "text": [
      "Jumlah Data Geolocation Duplikat: 261831\n"
     ]
    }
   ],
   "source": [
    "print(f\"Jumlah Data Geolocation Duplikat: {dfGeolocation.duplicated().sum()}\")"
   ]
  },
  {
   "cell_type": "markdown",
   "id": "1f8ec81d",
   "metadata": {},
   "source": [
    "Order Items"
   ]
  },
  {
   "cell_type": "code",
   "execution_count": 19,
   "id": "a0c9101c",
   "metadata": {},
   "outputs": [
    {
     "name": "stdout",
     "output_type": "stream",
     "text": [
      "<class 'pandas.core.frame.DataFrame'>\n",
      "RangeIndex: 112650 entries, 0 to 112649\n",
      "Data columns (total 7 columns):\n",
      " #   Column               Non-Null Count   Dtype  \n",
      "---  ------               --------------   -----  \n",
      " 0   order_id             112650 non-null  object \n",
      " 1   order_item_id        112650 non-null  int64  \n",
      " 2   product_id           112650 non-null  object \n",
      " 3   seller_id            112650 non-null  object \n",
      " 4   shipping_limit_date  112650 non-null  object \n",
      " 5   price                112650 non-null  float64\n",
      " 6   freight_value        112650 non-null  float64\n",
      "dtypes: float64(2), int64(1), object(4)\n",
      "memory usage: 6.0+ MB\n"
     ]
    }
   ],
   "source": [
    "dfOrderItems.info()"
   ]
  },
  {
   "cell_type": "code",
   "execution_count": 20,
   "id": "ecce8921",
   "metadata": {},
   "outputs": [
    {
     "data": {
      "application/vnd.microsoft.datawrangler.viewer.v0+json": {
       "columns": [
        {
         "name": "index",
         "rawType": "object",
         "type": "string"
        },
        {
         "name": "order_item_id",
         "rawType": "float64",
         "type": "float"
        },
        {
         "name": "price",
         "rawType": "float64",
         "type": "float"
        },
        {
         "name": "freight_value",
         "rawType": "float64",
         "type": "float"
        }
       ],
       "ref": "4e56b9df-011f-4c71-b61b-28df4ad2f605",
       "rows": [
        [
         "count",
         "112650.0",
         "112650.0",
         "112650.0"
        ],
        [
         "mean",
         "1.1978339991122948",
         "120.65373901464716",
         "19.990319928983578"
        ],
        [
         "std",
         "0.7051240313956294",
         "183.63392805025404",
         "15.806405412296854"
        ],
        [
         "min",
         "1.0",
         "0.85",
         "0.0"
        ],
        [
         "25%",
         "1.0",
         "39.9",
         "13.08"
        ],
        [
         "50%",
         "1.0",
         "74.99",
         "16.26"
        ],
        [
         "75%",
         "1.0",
         "134.9",
         "21.15"
        ],
        [
         "max",
         "21.0",
         "6735.0",
         "409.68"
        ]
       ],
       "shape": {
        "columns": 3,
        "rows": 8
       }
      },
      "text/html": [
       "<div>\n",
       "<style scoped>\n",
       "    .dataframe tbody tr th:only-of-type {\n",
       "        vertical-align: middle;\n",
       "    }\n",
       "\n",
       "    .dataframe tbody tr th {\n",
       "        vertical-align: top;\n",
       "    }\n",
       "\n",
       "    .dataframe thead th {\n",
       "        text-align: right;\n",
       "    }\n",
       "</style>\n",
       "<table border=\"1\" class=\"dataframe\">\n",
       "  <thead>\n",
       "    <tr style=\"text-align: right;\">\n",
       "      <th></th>\n",
       "      <th>order_item_id</th>\n",
       "      <th>price</th>\n",
       "      <th>freight_value</th>\n",
       "    </tr>\n",
       "  </thead>\n",
       "  <tbody>\n",
       "    <tr>\n",
       "      <th>count</th>\n",
       "      <td>112650.000000</td>\n",
       "      <td>112650.000000</td>\n",
       "      <td>112650.000000</td>\n",
       "    </tr>\n",
       "    <tr>\n",
       "      <th>mean</th>\n",
       "      <td>1.197834</td>\n",
       "      <td>120.653739</td>\n",
       "      <td>19.990320</td>\n",
       "    </tr>\n",
       "    <tr>\n",
       "      <th>std</th>\n",
       "      <td>0.705124</td>\n",
       "      <td>183.633928</td>\n",
       "      <td>15.806405</td>\n",
       "    </tr>\n",
       "    <tr>\n",
       "      <th>min</th>\n",
       "      <td>1.000000</td>\n",
       "      <td>0.850000</td>\n",
       "      <td>0.000000</td>\n",
       "    </tr>\n",
       "    <tr>\n",
       "      <th>25%</th>\n",
       "      <td>1.000000</td>\n",
       "      <td>39.900000</td>\n",
       "      <td>13.080000</td>\n",
       "    </tr>\n",
       "    <tr>\n",
       "      <th>50%</th>\n",
       "      <td>1.000000</td>\n",
       "      <td>74.990000</td>\n",
       "      <td>16.260000</td>\n",
       "    </tr>\n",
       "    <tr>\n",
       "      <th>75%</th>\n",
       "      <td>1.000000</td>\n",
       "      <td>134.900000</td>\n",
       "      <td>21.150000</td>\n",
       "    </tr>\n",
       "    <tr>\n",
       "      <th>max</th>\n",
       "      <td>21.000000</td>\n",
       "      <td>6735.000000</td>\n",
       "      <td>409.680000</td>\n",
       "    </tr>\n",
       "  </tbody>\n",
       "</table>\n",
       "</div>"
      ],
      "text/plain": [
       "       order_item_id          price  freight_value\n",
       "count  112650.000000  112650.000000  112650.000000\n",
       "mean        1.197834     120.653739      19.990320\n",
       "std         0.705124     183.633928      15.806405\n",
       "min         1.000000       0.850000       0.000000\n",
       "25%         1.000000      39.900000      13.080000\n",
       "50%         1.000000      74.990000      16.260000\n",
       "75%         1.000000     134.900000      21.150000\n",
       "max        21.000000    6735.000000     409.680000"
      ]
     },
     "execution_count": 20,
     "metadata": {},
     "output_type": "execute_result"
    }
   ],
   "source": [
    "dfOrderItems.describe()"
   ]
  },
  {
   "cell_type": "code",
   "execution_count": 21,
   "id": "d261e73a",
   "metadata": {},
   "outputs": [
    {
     "data": {
      "application/vnd.microsoft.datawrangler.viewer.v0+json": {
       "columns": [
        {
         "name": "index",
         "rawType": "object",
         "type": "string"
        },
        {
         "name": "order_id",
         "rawType": "object",
         "type": "unknown"
        },
        {
         "name": "product_id",
         "rawType": "object",
         "type": "unknown"
        },
        {
         "name": "seller_id",
         "rawType": "object",
         "type": "unknown"
        },
        {
         "name": "shipping_limit_date",
         "rawType": "object",
         "type": "unknown"
        }
       ],
       "ref": "9d02c887-1972-450c-bf3f-0ebc181e5d64",
       "rows": [
        [
         "count",
         "112650",
         "112650",
         "112650",
         "112650"
        ],
        [
         "unique",
         "98666",
         "32951",
         "3095",
         "93318"
        ],
        [
         "top",
         "8272b63d03f5f79c56e9e4120aec44ef",
         "aca2eb7d00ea1a7b8ebd4e68314663af",
         "6560211a19b47992c3666cc44a7e94c0",
         "2018-03-01 02:50:48"
        ],
        [
         "freq",
         "21",
         "527",
         "2033",
         "21"
        ]
       ],
       "shape": {
        "columns": 4,
        "rows": 4
       }
      },
      "text/html": [
       "<div>\n",
       "<style scoped>\n",
       "    .dataframe tbody tr th:only-of-type {\n",
       "        vertical-align: middle;\n",
       "    }\n",
       "\n",
       "    .dataframe tbody tr th {\n",
       "        vertical-align: top;\n",
       "    }\n",
       "\n",
       "    .dataframe thead th {\n",
       "        text-align: right;\n",
       "    }\n",
       "</style>\n",
       "<table border=\"1\" class=\"dataframe\">\n",
       "  <thead>\n",
       "    <tr style=\"text-align: right;\">\n",
       "      <th></th>\n",
       "      <th>order_id</th>\n",
       "      <th>product_id</th>\n",
       "      <th>seller_id</th>\n",
       "      <th>shipping_limit_date</th>\n",
       "    </tr>\n",
       "  </thead>\n",
       "  <tbody>\n",
       "    <tr>\n",
       "      <th>count</th>\n",
       "      <td>112650</td>\n",
       "      <td>112650</td>\n",
       "      <td>112650</td>\n",
       "      <td>112650</td>\n",
       "    </tr>\n",
       "    <tr>\n",
       "      <th>unique</th>\n",
       "      <td>98666</td>\n",
       "      <td>32951</td>\n",
       "      <td>3095</td>\n",
       "      <td>93318</td>\n",
       "    </tr>\n",
       "    <tr>\n",
       "      <th>top</th>\n",
       "      <td>8272b63d03f5f79c56e9e4120aec44ef</td>\n",
       "      <td>aca2eb7d00ea1a7b8ebd4e68314663af</td>\n",
       "      <td>6560211a19b47992c3666cc44a7e94c0</td>\n",
       "      <td>2018-03-01 02:50:48</td>\n",
       "    </tr>\n",
       "    <tr>\n",
       "      <th>freq</th>\n",
       "      <td>21</td>\n",
       "      <td>527</td>\n",
       "      <td>2033</td>\n",
       "      <td>21</td>\n",
       "    </tr>\n",
       "  </tbody>\n",
       "</table>\n",
       "</div>"
      ],
      "text/plain": [
       "                                order_id                        product_id  \\\n",
       "count                             112650                            112650   \n",
       "unique                             98666                             32951   \n",
       "top     8272b63d03f5f79c56e9e4120aec44ef  aca2eb7d00ea1a7b8ebd4e68314663af   \n",
       "freq                                  21                               527   \n",
       "\n",
       "                               seller_id  shipping_limit_date  \n",
       "count                             112650               112650  \n",
       "unique                              3095                93318  \n",
       "top     6560211a19b47992c3666cc44a7e94c0  2018-03-01 02:50:48  \n",
       "freq                                2033                   21  "
      ]
     },
     "execution_count": 21,
     "metadata": {},
     "output_type": "execute_result"
    }
   ],
   "source": [
    "dfOrderItems.select_dtypes(include = \"object\").describe()"
   ]
  },
  {
   "cell_type": "code",
   "execution_count": 22,
   "id": "36ad656c",
   "metadata": {},
   "outputs": [
    {
     "name": "stdout",
     "output_type": "stream",
     "text": [
      "Jumlah Data Order Items Duplikat: 0\n"
     ]
    }
   ],
   "source": [
    "print(f\"Jumlah Data Order Items Duplikat: {dfOrderItems.duplicated().sum()}\")"
   ]
  },
  {
   "cell_type": "markdown",
   "id": "13ab3a5b",
   "metadata": {},
   "source": [
    "Order Payments"
   ]
  },
  {
   "cell_type": "code",
   "execution_count": 23,
   "id": "71d875b4",
   "metadata": {},
   "outputs": [
    {
     "name": "stdout",
     "output_type": "stream",
     "text": [
      "<class 'pandas.core.frame.DataFrame'>\n",
      "RangeIndex: 103886 entries, 0 to 103885\n",
      "Data columns (total 5 columns):\n",
      " #   Column                Non-Null Count   Dtype  \n",
      "---  ------                --------------   -----  \n",
      " 0   order_id              103886 non-null  object \n",
      " 1   payment_sequential    103886 non-null  int64  \n",
      " 2   payment_type          103886 non-null  object \n",
      " 3   payment_installments  103886 non-null  int64  \n",
      " 4   payment_value         103886 non-null  float64\n",
      "dtypes: float64(1), int64(2), object(2)\n",
      "memory usage: 4.0+ MB\n"
     ]
    }
   ],
   "source": [
    "dfOrderPayments.info()"
   ]
  },
  {
   "cell_type": "code",
   "execution_count": 24,
   "id": "89455ca7",
   "metadata": {},
   "outputs": [
    {
     "data": {
      "application/vnd.microsoft.datawrangler.viewer.v0+json": {
       "columns": [
        {
         "name": "index",
         "rawType": "object",
         "type": "string"
        },
        {
         "name": "payment_sequential",
         "rawType": "float64",
         "type": "float"
        },
        {
         "name": "payment_installments",
         "rawType": "float64",
         "type": "float"
        },
        {
         "name": "payment_value",
         "rawType": "float64",
         "type": "float"
        }
       ],
       "ref": "234a6e4f-999f-4fc9-b0c2-5afadedfbc55",
       "rows": [
        [
         "count",
         "103886.0",
         "103886.0",
         "103886.0"
        ],
        [
         "mean",
         "1.0926785129853878",
         "2.853348863176944",
         "154.10038041699553"
        ],
        [
         "std",
         "0.7065837791945014",
         "2.6870506738557367",
         "217.49406386472577"
        ],
        [
         "min",
         "1.0",
         "0.0",
         "0.0"
        ],
        [
         "25%",
         "1.0",
         "1.0",
         "56.79"
        ],
        [
         "50%",
         "1.0",
         "1.0",
         "100.0"
        ],
        [
         "75%",
         "1.0",
         "4.0",
         "171.8375"
        ],
        [
         "max",
         "29.0",
         "24.0",
         "13664.08"
        ]
       ],
       "shape": {
        "columns": 3,
        "rows": 8
       }
      },
      "text/html": [
       "<div>\n",
       "<style scoped>\n",
       "    .dataframe tbody tr th:only-of-type {\n",
       "        vertical-align: middle;\n",
       "    }\n",
       "\n",
       "    .dataframe tbody tr th {\n",
       "        vertical-align: top;\n",
       "    }\n",
       "\n",
       "    .dataframe thead th {\n",
       "        text-align: right;\n",
       "    }\n",
       "</style>\n",
       "<table border=\"1\" class=\"dataframe\">\n",
       "  <thead>\n",
       "    <tr style=\"text-align: right;\">\n",
       "      <th></th>\n",
       "      <th>payment_sequential</th>\n",
       "      <th>payment_installments</th>\n",
       "      <th>payment_value</th>\n",
       "    </tr>\n",
       "  </thead>\n",
       "  <tbody>\n",
       "    <tr>\n",
       "      <th>count</th>\n",
       "      <td>103886.000000</td>\n",
       "      <td>103886.000000</td>\n",
       "      <td>103886.000000</td>\n",
       "    </tr>\n",
       "    <tr>\n",
       "      <th>mean</th>\n",
       "      <td>1.092679</td>\n",
       "      <td>2.853349</td>\n",
       "      <td>154.100380</td>\n",
       "    </tr>\n",
       "    <tr>\n",
       "      <th>std</th>\n",
       "      <td>0.706584</td>\n",
       "      <td>2.687051</td>\n",
       "      <td>217.494064</td>\n",
       "    </tr>\n",
       "    <tr>\n",
       "      <th>min</th>\n",
       "      <td>1.000000</td>\n",
       "      <td>0.000000</td>\n",
       "      <td>0.000000</td>\n",
       "    </tr>\n",
       "    <tr>\n",
       "      <th>25%</th>\n",
       "      <td>1.000000</td>\n",
       "      <td>1.000000</td>\n",
       "      <td>56.790000</td>\n",
       "    </tr>\n",
       "    <tr>\n",
       "      <th>50%</th>\n",
       "      <td>1.000000</td>\n",
       "      <td>1.000000</td>\n",
       "      <td>100.000000</td>\n",
       "    </tr>\n",
       "    <tr>\n",
       "      <th>75%</th>\n",
       "      <td>1.000000</td>\n",
       "      <td>4.000000</td>\n",
       "      <td>171.837500</td>\n",
       "    </tr>\n",
       "    <tr>\n",
       "      <th>max</th>\n",
       "      <td>29.000000</td>\n",
       "      <td>24.000000</td>\n",
       "      <td>13664.080000</td>\n",
       "    </tr>\n",
       "  </tbody>\n",
       "</table>\n",
       "</div>"
      ],
      "text/plain": [
       "       payment_sequential  payment_installments  payment_value\n",
       "count       103886.000000         103886.000000  103886.000000\n",
       "mean             1.092679              2.853349     154.100380\n",
       "std              0.706584              2.687051     217.494064\n",
       "min              1.000000              0.000000       0.000000\n",
       "25%              1.000000              1.000000      56.790000\n",
       "50%              1.000000              1.000000     100.000000\n",
       "75%              1.000000              4.000000     171.837500\n",
       "max             29.000000             24.000000   13664.080000"
      ]
     },
     "execution_count": 24,
     "metadata": {},
     "output_type": "execute_result"
    }
   ],
   "source": [
    "dfOrderPayments.describe()"
   ]
  },
  {
   "cell_type": "code",
   "execution_count": 25,
   "id": "a97aaab8",
   "metadata": {},
   "outputs": [
    {
     "data": {
      "application/vnd.microsoft.datawrangler.viewer.v0+json": {
       "columns": [
        {
         "name": "index",
         "rawType": "object",
         "type": "string"
        },
        {
         "name": "order_id",
         "rawType": "object",
         "type": "unknown"
        },
        {
         "name": "payment_type",
         "rawType": "object",
         "type": "unknown"
        }
       ],
       "ref": "0560ca09-6a68-404f-b7db-7e90627bc08c",
       "rows": [
        [
         "count",
         "103886",
         "103886"
        ],
        [
         "unique",
         "99440",
         "5"
        ],
        [
         "top",
         "fa65dad1b0e818e3ccc5cb0e39231352",
         "credit_card"
        ],
        [
         "freq",
         "29",
         "76795"
        ]
       ],
       "shape": {
        "columns": 2,
        "rows": 4
       }
      },
      "text/html": [
       "<div>\n",
       "<style scoped>\n",
       "    .dataframe tbody tr th:only-of-type {\n",
       "        vertical-align: middle;\n",
       "    }\n",
       "\n",
       "    .dataframe tbody tr th {\n",
       "        vertical-align: top;\n",
       "    }\n",
       "\n",
       "    .dataframe thead th {\n",
       "        text-align: right;\n",
       "    }\n",
       "</style>\n",
       "<table border=\"1\" class=\"dataframe\">\n",
       "  <thead>\n",
       "    <tr style=\"text-align: right;\">\n",
       "      <th></th>\n",
       "      <th>order_id</th>\n",
       "      <th>payment_type</th>\n",
       "    </tr>\n",
       "  </thead>\n",
       "  <tbody>\n",
       "    <tr>\n",
       "      <th>count</th>\n",
       "      <td>103886</td>\n",
       "      <td>103886</td>\n",
       "    </tr>\n",
       "    <tr>\n",
       "      <th>unique</th>\n",
       "      <td>99440</td>\n",
       "      <td>5</td>\n",
       "    </tr>\n",
       "    <tr>\n",
       "      <th>top</th>\n",
       "      <td>fa65dad1b0e818e3ccc5cb0e39231352</td>\n",
       "      <td>credit_card</td>\n",
       "    </tr>\n",
       "    <tr>\n",
       "      <th>freq</th>\n",
       "      <td>29</td>\n",
       "      <td>76795</td>\n",
       "    </tr>\n",
       "  </tbody>\n",
       "</table>\n",
       "</div>"
      ],
      "text/plain": [
       "                                order_id payment_type\n",
       "count                             103886       103886\n",
       "unique                             99440            5\n",
       "top     fa65dad1b0e818e3ccc5cb0e39231352  credit_card\n",
       "freq                                  29        76795"
      ]
     },
     "execution_count": 25,
     "metadata": {},
     "output_type": "execute_result"
    }
   ],
   "source": [
    "dfOrderPayments.select_dtypes(include = \"object\").describe()"
   ]
  },
  {
   "cell_type": "code",
   "execution_count": 26,
   "id": "bc3cad7c",
   "metadata": {},
   "outputs": [
    {
     "name": "stdout",
     "output_type": "stream",
     "text": [
      "Jumlah Data Order Payments Duplikat: 0\n"
     ]
    }
   ],
   "source": [
    "print(f\"Jumlah Data Order Payments Duplikat: {dfOrderPayments.duplicated().sum()}\")"
   ]
  },
  {
   "cell_type": "markdown",
   "id": "53ba5223",
   "metadata": {},
   "source": [
    "Order Reviews"
   ]
  },
  {
   "cell_type": "code",
   "execution_count": 27,
   "id": "d4cd9d48",
   "metadata": {},
   "outputs": [
    {
     "name": "stdout",
     "output_type": "stream",
     "text": [
      "<class 'pandas.core.frame.DataFrame'>\n",
      "RangeIndex: 99224 entries, 0 to 99223\n",
      "Data columns (total 7 columns):\n",
      " #   Column                   Non-Null Count  Dtype \n",
      "---  ------                   --------------  ----- \n",
      " 0   review_id                99224 non-null  object\n",
      " 1   order_id                 99224 non-null  object\n",
      " 2   review_score             99224 non-null  int64 \n",
      " 3   review_comment_title     11568 non-null  object\n",
      " 4   review_comment_message   40977 non-null  object\n",
      " 5   review_creation_date     99224 non-null  object\n",
      " 6   review_answer_timestamp  99224 non-null  object\n",
      "dtypes: int64(1), object(6)\n",
      "memory usage: 5.3+ MB\n"
     ]
    }
   ],
   "source": [
    "dfOrderReviews.info()"
   ]
  },
  {
   "cell_type": "code",
   "execution_count": 28,
   "id": "7dd23d0c",
   "metadata": {},
   "outputs": [
    {
     "data": {
      "application/vnd.microsoft.datawrangler.viewer.v0+json": {
       "columns": [
        {
         "name": "index",
         "rawType": "object",
         "type": "string"
        },
        {
         "name": "review_score",
         "rawType": "float64",
         "type": "float"
        }
       ],
       "ref": "a1886495-65f8-47d2-87fb-7f7d6f900714",
       "rows": [
        [
         "count",
         "99224.0"
        ],
        [
         "mean",
         "4.08642062404257"
        ],
        [
         "std",
         "1.3475791311148884"
        ],
        [
         "min",
         "1.0"
        ],
        [
         "25%",
         "4.0"
        ],
        [
         "50%",
         "5.0"
        ],
        [
         "75%",
         "5.0"
        ],
        [
         "max",
         "5.0"
        ]
       ],
       "shape": {
        "columns": 1,
        "rows": 8
       }
      },
      "text/html": [
       "<div>\n",
       "<style scoped>\n",
       "    .dataframe tbody tr th:only-of-type {\n",
       "        vertical-align: middle;\n",
       "    }\n",
       "\n",
       "    .dataframe tbody tr th {\n",
       "        vertical-align: top;\n",
       "    }\n",
       "\n",
       "    .dataframe thead th {\n",
       "        text-align: right;\n",
       "    }\n",
       "</style>\n",
       "<table border=\"1\" class=\"dataframe\">\n",
       "  <thead>\n",
       "    <tr style=\"text-align: right;\">\n",
       "      <th></th>\n",
       "      <th>review_score</th>\n",
       "    </tr>\n",
       "  </thead>\n",
       "  <tbody>\n",
       "    <tr>\n",
       "      <th>count</th>\n",
       "      <td>99224.000000</td>\n",
       "    </tr>\n",
       "    <tr>\n",
       "      <th>mean</th>\n",
       "      <td>4.086421</td>\n",
       "    </tr>\n",
       "    <tr>\n",
       "      <th>std</th>\n",
       "      <td>1.347579</td>\n",
       "    </tr>\n",
       "    <tr>\n",
       "      <th>min</th>\n",
       "      <td>1.000000</td>\n",
       "    </tr>\n",
       "    <tr>\n",
       "      <th>25%</th>\n",
       "      <td>4.000000</td>\n",
       "    </tr>\n",
       "    <tr>\n",
       "      <th>50%</th>\n",
       "      <td>5.000000</td>\n",
       "    </tr>\n",
       "    <tr>\n",
       "      <th>75%</th>\n",
       "      <td>5.000000</td>\n",
       "    </tr>\n",
       "    <tr>\n",
       "      <th>max</th>\n",
       "      <td>5.000000</td>\n",
       "    </tr>\n",
       "  </tbody>\n",
       "</table>\n",
       "</div>"
      ],
      "text/plain": [
       "       review_score\n",
       "count  99224.000000\n",
       "mean       4.086421\n",
       "std        1.347579\n",
       "min        1.000000\n",
       "25%        4.000000\n",
       "50%        5.000000\n",
       "75%        5.000000\n",
       "max        5.000000"
      ]
     },
     "execution_count": 28,
     "metadata": {},
     "output_type": "execute_result"
    }
   ],
   "source": [
    "dfOrderReviews.describe()"
   ]
  },
  {
   "cell_type": "code",
   "execution_count": 29,
   "id": "6e87d0aa",
   "metadata": {},
   "outputs": [
    {
     "data": {
      "application/vnd.microsoft.datawrangler.viewer.v0+json": {
       "columns": [
        {
         "name": "index",
         "rawType": "object",
         "type": "string"
        },
        {
         "name": "review_id",
         "rawType": "object",
         "type": "unknown"
        },
        {
         "name": "order_id",
         "rawType": "object",
         "type": "unknown"
        },
        {
         "name": "review_comment_title",
         "rawType": "object",
         "type": "unknown"
        },
        {
         "name": "review_comment_message",
         "rawType": "object",
         "type": "unknown"
        },
        {
         "name": "review_creation_date",
         "rawType": "object",
         "type": "unknown"
        },
        {
         "name": "review_answer_timestamp",
         "rawType": "object",
         "type": "unknown"
        }
       ],
       "ref": "7fea9296-dac1-4490-ae51-fcfb460d9ff3",
       "rows": [
        [
         "count",
         "99224",
         "99224",
         "11568",
         "40977",
         "99224",
         "99224"
        ],
        [
         "unique",
         "98410",
         "98673",
         "4527",
         "36159",
         "636",
         "98248"
        ],
        [
         "top",
         "08528f70f579f0c830189efc523d2182",
         "df56136b8031ecd28e200bb18e6ddb2e",
         "Recomendo",
         "Muito bom",
         "2017-12-19 00:00:00",
         "2017-06-15 23:21:05"
        ],
        [
         "freq",
         "3",
         "3",
         "423",
         "230",
         "463",
         "4"
        ]
       ],
       "shape": {
        "columns": 6,
        "rows": 4
       }
      },
      "text/html": [
       "<div>\n",
       "<style scoped>\n",
       "    .dataframe tbody tr th:only-of-type {\n",
       "        vertical-align: middle;\n",
       "    }\n",
       "\n",
       "    .dataframe tbody tr th {\n",
       "        vertical-align: top;\n",
       "    }\n",
       "\n",
       "    .dataframe thead th {\n",
       "        text-align: right;\n",
       "    }\n",
       "</style>\n",
       "<table border=\"1\" class=\"dataframe\">\n",
       "  <thead>\n",
       "    <tr style=\"text-align: right;\">\n",
       "      <th></th>\n",
       "      <th>review_id</th>\n",
       "      <th>order_id</th>\n",
       "      <th>review_comment_title</th>\n",
       "      <th>review_comment_message</th>\n",
       "      <th>review_creation_date</th>\n",
       "      <th>review_answer_timestamp</th>\n",
       "    </tr>\n",
       "  </thead>\n",
       "  <tbody>\n",
       "    <tr>\n",
       "      <th>count</th>\n",
       "      <td>99224</td>\n",
       "      <td>99224</td>\n",
       "      <td>11568</td>\n",
       "      <td>40977</td>\n",
       "      <td>99224</td>\n",
       "      <td>99224</td>\n",
       "    </tr>\n",
       "    <tr>\n",
       "      <th>unique</th>\n",
       "      <td>98410</td>\n",
       "      <td>98673</td>\n",
       "      <td>4527</td>\n",
       "      <td>36159</td>\n",
       "      <td>636</td>\n",
       "      <td>98248</td>\n",
       "    </tr>\n",
       "    <tr>\n",
       "      <th>top</th>\n",
       "      <td>08528f70f579f0c830189efc523d2182</td>\n",
       "      <td>df56136b8031ecd28e200bb18e6ddb2e</td>\n",
       "      <td>Recomendo</td>\n",
       "      <td>Muito bom</td>\n",
       "      <td>2017-12-19 00:00:00</td>\n",
       "      <td>2017-06-15 23:21:05</td>\n",
       "    </tr>\n",
       "    <tr>\n",
       "      <th>freq</th>\n",
       "      <td>3</td>\n",
       "      <td>3</td>\n",
       "      <td>423</td>\n",
       "      <td>230</td>\n",
       "      <td>463</td>\n",
       "      <td>4</td>\n",
       "    </tr>\n",
       "  </tbody>\n",
       "</table>\n",
       "</div>"
      ],
      "text/plain": [
       "                               review_id                          order_id  \\\n",
       "count                              99224                             99224   \n",
       "unique                             98410                             98673   \n",
       "top     08528f70f579f0c830189efc523d2182  df56136b8031ecd28e200bb18e6ddb2e   \n",
       "freq                                   3                                 3   \n",
       "\n",
       "       review_comment_title review_comment_message review_creation_date  \\\n",
       "count                 11568                  40977                99224   \n",
       "unique                 4527                  36159                  636   \n",
       "top               Recomendo              Muito bom  2017-12-19 00:00:00   \n",
       "freq                    423                    230                  463   \n",
       "\n",
       "       review_answer_timestamp  \n",
       "count                    99224  \n",
       "unique                   98248  \n",
       "top        2017-06-15 23:21:05  \n",
       "freq                         4  "
      ]
     },
     "execution_count": 29,
     "metadata": {},
     "output_type": "execute_result"
    }
   ],
   "source": [
    "dfOrderReviews.select_dtypes(include = \"object\").describe()"
   ]
  },
  {
   "cell_type": "code",
   "execution_count": 30,
   "id": "238150da",
   "metadata": {},
   "outputs": [
    {
     "name": "stdout",
     "output_type": "stream",
     "text": [
      "Jumlah Data Order Reviews Duplikat: 0\n"
     ]
    }
   ],
   "source": [
    "print(f\"Jumlah Data Order Reviews Duplikat: {dfOrderReviews.duplicated().sum()}\")"
   ]
  },
  {
   "cell_type": "code",
   "execution_count": 31,
   "id": "d14bea8e",
   "metadata": {},
   "outputs": [
    {
     "name": "stdout",
     "output_type": "stream",
     "text": [
      "                             0          1\n",
      "review_id                    0   0.000000\n",
      "order_id                     0   0.000000\n",
      "review_score                 0   0.000000\n",
      "review_comment_title     87656  88.341530\n",
      "review_comment_message   58247  58.702532\n",
      "review_creation_date         0   0.000000\n",
      "review_answer_timestamp      0   0.000000\n"
     ]
    }
   ],
   "source": [
    "missingCountReviews = dfOrderReviews.isnull().sum()\n",
    "missingPercentReviews = (dfOrderReviews.isnull().sum() / len(dfOrderReviews)) * 100\n",
    "\n",
    "missingSummaryOrderReviews = pd.concat([missingCountReviews, missingPercentReviews], axis=1)\n",
    "print(missingSummaryOrderReviews)"
   ]
  },
  {
   "cell_type": "markdown",
   "id": "9d0d1b07",
   "metadata": {},
   "source": [
    "Orders"
   ]
  },
  {
   "cell_type": "code",
   "execution_count": 32,
   "id": "234a5d17",
   "metadata": {},
   "outputs": [
    {
     "name": "stdout",
     "output_type": "stream",
     "text": [
      "<class 'pandas.core.frame.DataFrame'>\n",
      "RangeIndex: 99441 entries, 0 to 99440\n",
      "Data columns (total 8 columns):\n",
      " #   Column                         Non-Null Count  Dtype \n",
      "---  ------                         --------------  ----- \n",
      " 0   order_id                       99441 non-null  object\n",
      " 1   customer_id                    99441 non-null  object\n",
      " 2   order_status                   99441 non-null  object\n",
      " 3   order_purchase_timestamp       99441 non-null  object\n",
      " 4   order_approved_at              99281 non-null  object\n",
      " 5   order_delivered_carrier_date   97658 non-null  object\n",
      " 6   order_delivered_customer_date  96476 non-null  object\n",
      " 7   order_estimated_delivery_date  99441 non-null  object\n",
      "dtypes: object(8)\n",
      "memory usage: 6.1+ MB\n"
     ]
    }
   ],
   "source": [
    "dfOrders.info()"
   ]
  },
  {
   "cell_type": "code",
   "execution_count": 33,
   "id": "16427034",
   "metadata": {},
   "outputs": [
    {
     "data": {
      "application/vnd.microsoft.datawrangler.viewer.v0+json": {
       "columns": [
        {
         "name": "index",
         "rawType": "object",
         "type": "string"
        },
        {
         "name": "order_id",
         "rawType": "object",
         "type": "unknown"
        },
        {
         "name": "customer_id",
         "rawType": "object",
         "type": "unknown"
        },
        {
         "name": "order_status",
         "rawType": "object",
         "type": "unknown"
        },
        {
         "name": "order_purchase_timestamp",
         "rawType": "object",
         "type": "unknown"
        },
        {
         "name": "order_approved_at",
         "rawType": "object",
         "type": "unknown"
        },
        {
         "name": "order_delivered_carrier_date",
         "rawType": "object",
         "type": "unknown"
        },
        {
         "name": "order_delivered_customer_date",
         "rawType": "object",
         "type": "unknown"
        },
        {
         "name": "order_estimated_delivery_date",
         "rawType": "object",
         "type": "unknown"
        }
       ],
       "ref": "7376d684-279a-46ce-9238-97747dcc1ba2",
       "rows": [
        [
         "count",
         "99441",
         "99441",
         "99441",
         "99441",
         "99281",
         "97658",
         "96476",
         "99441"
        ],
        [
         "unique",
         "99441",
         "99441",
         "8",
         "98875",
         "90733",
         "81018",
         "95664",
         "459"
        ],
        [
         "top",
         "66dea50a8b16d9b4dee7af250b4be1a5",
         "edb027a75a1449115f6b43211ae02a24",
         "delivered",
         "2018-08-02 12:05:26",
         "2018-02-27 04:31:10",
         "2018-05-09 15:48:00",
         "2018-05-08 19:36:48",
         "2017-12-20 00:00:00"
        ],
        [
         "freq",
         "1",
         "1",
         "96478",
         "3",
         "9",
         "47",
         "3",
         "522"
        ]
       ],
       "shape": {
        "columns": 8,
        "rows": 4
       }
      },
      "text/html": [
       "<div>\n",
       "<style scoped>\n",
       "    .dataframe tbody tr th:only-of-type {\n",
       "        vertical-align: middle;\n",
       "    }\n",
       "\n",
       "    .dataframe tbody tr th {\n",
       "        vertical-align: top;\n",
       "    }\n",
       "\n",
       "    .dataframe thead th {\n",
       "        text-align: right;\n",
       "    }\n",
       "</style>\n",
       "<table border=\"1\" class=\"dataframe\">\n",
       "  <thead>\n",
       "    <tr style=\"text-align: right;\">\n",
       "      <th></th>\n",
       "      <th>order_id</th>\n",
       "      <th>customer_id</th>\n",
       "      <th>order_status</th>\n",
       "      <th>order_purchase_timestamp</th>\n",
       "      <th>order_approved_at</th>\n",
       "      <th>order_delivered_carrier_date</th>\n",
       "      <th>order_delivered_customer_date</th>\n",
       "      <th>order_estimated_delivery_date</th>\n",
       "    </tr>\n",
       "  </thead>\n",
       "  <tbody>\n",
       "    <tr>\n",
       "      <th>count</th>\n",
       "      <td>99441</td>\n",
       "      <td>99441</td>\n",
       "      <td>99441</td>\n",
       "      <td>99441</td>\n",
       "      <td>99281</td>\n",
       "      <td>97658</td>\n",
       "      <td>96476</td>\n",
       "      <td>99441</td>\n",
       "    </tr>\n",
       "    <tr>\n",
       "      <th>unique</th>\n",
       "      <td>99441</td>\n",
       "      <td>99441</td>\n",
       "      <td>8</td>\n",
       "      <td>98875</td>\n",
       "      <td>90733</td>\n",
       "      <td>81018</td>\n",
       "      <td>95664</td>\n",
       "      <td>459</td>\n",
       "    </tr>\n",
       "    <tr>\n",
       "      <th>top</th>\n",
       "      <td>66dea50a8b16d9b4dee7af250b4be1a5</td>\n",
       "      <td>edb027a75a1449115f6b43211ae02a24</td>\n",
       "      <td>delivered</td>\n",
       "      <td>2018-08-02 12:05:26</td>\n",
       "      <td>2018-02-27 04:31:10</td>\n",
       "      <td>2018-05-09 15:48:00</td>\n",
       "      <td>2018-05-08 19:36:48</td>\n",
       "      <td>2017-12-20 00:00:00</td>\n",
       "    </tr>\n",
       "    <tr>\n",
       "      <th>freq</th>\n",
       "      <td>1</td>\n",
       "      <td>1</td>\n",
       "      <td>96478</td>\n",
       "      <td>3</td>\n",
       "      <td>9</td>\n",
       "      <td>47</td>\n",
       "      <td>3</td>\n",
       "      <td>522</td>\n",
       "    </tr>\n",
       "  </tbody>\n",
       "</table>\n",
       "</div>"
      ],
      "text/plain": [
       "                                order_id                       customer_id  \\\n",
       "count                              99441                             99441   \n",
       "unique                             99441                             99441   \n",
       "top     66dea50a8b16d9b4dee7af250b4be1a5  edb027a75a1449115f6b43211ae02a24   \n",
       "freq                                   1                                 1   \n",
       "\n",
       "       order_status order_purchase_timestamp    order_approved_at  \\\n",
       "count         99441                    99441                99281   \n",
       "unique            8                    98875                90733   \n",
       "top       delivered      2018-08-02 12:05:26  2018-02-27 04:31:10   \n",
       "freq          96478                        3                    9   \n",
       "\n",
       "       order_delivered_carrier_date order_delivered_customer_date  \\\n",
       "count                         97658                         96476   \n",
       "unique                        81018                         95664   \n",
       "top             2018-05-09 15:48:00           2018-05-08 19:36:48   \n",
       "freq                             47                             3   \n",
       "\n",
       "       order_estimated_delivery_date  \n",
       "count                          99441  \n",
       "unique                           459  \n",
       "top              2017-12-20 00:00:00  \n",
       "freq                             522  "
      ]
     },
     "execution_count": 33,
     "metadata": {},
     "output_type": "execute_result"
    }
   ],
   "source": [
    "dfOrders.describe()"
   ]
  },
  {
   "cell_type": "code",
   "execution_count": 34,
   "id": "d8af40f2",
   "metadata": {},
   "outputs": [
    {
     "name": "stdout",
     "output_type": "stream",
     "text": [
      "Jumlah Data Orders Duplikat: 0\n"
     ]
    }
   ],
   "source": [
    "print(f\"Jumlah Data Orders Duplikat: {dfOrders.duplicated().sum()}\")"
   ]
  },
  {
   "cell_type": "code",
   "execution_count": 35,
   "id": "69328369",
   "metadata": {},
   "outputs": [
    {
     "name": "stdout",
     "output_type": "stream",
     "text": [
      "                                  0         1\n",
      "order_id                          0  0.000000\n",
      "customer_id                       0  0.000000\n",
      "order_status                      0  0.000000\n",
      "order_purchase_timestamp          0  0.000000\n",
      "order_approved_at               160  0.160899\n",
      "order_delivered_carrier_date   1783  1.793023\n",
      "order_delivered_customer_date  2965  2.981668\n",
      "order_estimated_delivery_date     0  0.000000\n"
     ]
    }
   ],
   "source": [
    "missingCountOrders = dfOrders.isnull().sum()\n",
    "missingPercentOrders = (dfOrders.isnull().sum() / len(dfOrders)) * 100\n",
    "\n",
    "missingSummaryOrders = pd.concat([missingCountOrders, missingPercentOrders], axis=1)\n",
    "print(missingSummaryOrders)"
   ]
  },
  {
   "cell_type": "markdown",
   "id": "04666bf6",
   "metadata": {},
   "source": [
    "Products"
   ]
  },
  {
   "cell_type": "code",
   "execution_count": 36,
   "id": "1bc8d188",
   "metadata": {},
   "outputs": [
    {
     "name": "stdout",
     "output_type": "stream",
     "text": [
      "<class 'pandas.core.frame.DataFrame'>\n",
      "RangeIndex: 32951 entries, 0 to 32950\n",
      "Data columns (total 9 columns):\n",
      " #   Column                      Non-Null Count  Dtype  \n",
      "---  ------                      --------------  -----  \n",
      " 0   product_id                  32951 non-null  object \n",
      " 1   product_category_name       32341 non-null  object \n",
      " 2   product_name_lenght         32341 non-null  float64\n",
      " 3   product_description_lenght  32341 non-null  float64\n",
      " 4   product_photos_qty          32341 non-null  float64\n",
      " 5   product_weight_g            32949 non-null  float64\n",
      " 6   product_length_cm           32949 non-null  float64\n",
      " 7   product_height_cm           32949 non-null  float64\n",
      " 8   product_width_cm            32949 non-null  float64\n",
      "dtypes: float64(7), object(2)\n",
      "memory usage: 2.3+ MB\n"
     ]
    }
   ],
   "source": [
    "dfProducts.info()"
   ]
  },
  {
   "cell_type": "code",
   "execution_count": 37,
   "id": "23ef49fb",
   "metadata": {},
   "outputs": [
    {
     "data": {
      "application/vnd.microsoft.datawrangler.viewer.v0+json": {
       "columns": [
        {
         "name": "index",
         "rawType": "object",
         "type": "string"
        },
        {
         "name": "product_name_lenght",
         "rawType": "float64",
         "type": "float"
        },
        {
         "name": "product_description_lenght",
         "rawType": "float64",
         "type": "float"
        },
        {
         "name": "product_photos_qty",
         "rawType": "float64",
         "type": "float"
        },
        {
         "name": "product_weight_g",
         "rawType": "float64",
         "type": "float"
        },
        {
         "name": "product_length_cm",
         "rawType": "float64",
         "type": "float"
        },
        {
         "name": "product_height_cm",
         "rawType": "float64",
         "type": "float"
        },
        {
         "name": "product_width_cm",
         "rawType": "float64",
         "type": "float"
        }
       ],
       "ref": "be6b40a6-1d8d-4434-84a5-edb7dcabc1a6",
       "rows": [
        [
         "count",
         "32341.0",
         "32341.0",
         "32341.0",
         "32949.0",
         "32949.0",
         "32949.0",
         "32949.0"
        ],
        [
         "mean",
         "48.47694876472589",
         "771.4952846232337",
         "2.1889861166939797",
         "2276.4724877841513",
         "30.81507784758263",
         "16.937661234028347",
         "23.196728277034204"
        ],
        [
         "std",
         "10.245740725237479",
         "635.1152246349546",
         "1.7367656379315015",
         "4282.038730977634",
         "16.91445805406699",
         "13.637554061749832",
         "12.07904745322808"
        ],
        [
         "min",
         "5.0",
         "4.0",
         "1.0",
         "0.0",
         "7.0",
         "2.0",
         "6.0"
        ],
        [
         "25%",
         "42.0",
         "339.0",
         "1.0",
         "300.0",
         "18.0",
         "8.0",
         "15.0"
        ],
        [
         "50%",
         "51.0",
         "595.0",
         "1.0",
         "700.0",
         "25.0",
         "13.0",
         "20.0"
        ],
        [
         "75%",
         "57.0",
         "972.0",
         "3.0",
         "1900.0",
         "38.0",
         "21.0",
         "30.0"
        ],
        [
         "max",
         "76.0",
         "3992.0",
         "20.0",
         "40425.0",
         "105.0",
         "105.0",
         "118.0"
        ]
       ],
       "shape": {
        "columns": 7,
        "rows": 8
       }
      },
      "text/html": [
       "<div>\n",
       "<style scoped>\n",
       "    .dataframe tbody tr th:only-of-type {\n",
       "        vertical-align: middle;\n",
       "    }\n",
       "\n",
       "    .dataframe tbody tr th {\n",
       "        vertical-align: top;\n",
       "    }\n",
       "\n",
       "    .dataframe thead th {\n",
       "        text-align: right;\n",
       "    }\n",
       "</style>\n",
       "<table border=\"1\" class=\"dataframe\">\n",
       "  <thead>\n",
       "    <tr style=\"text-align: right;\">\n",
       "      <th></th>\n",
       "      <th>product_name_lenght</th>\n",
       "      <th>product_description_lenght</th>\n",
       "      <th>product_photos_qty</th>\n",
       "      <th>product_weight_g</th>\n",
       "      <th>product_length_cm</th>\n",
       "      <th>product_height_cm</th>\n",
       "      <th>product_width_cm</th>\n",
       "    </tr>\n",
       "  </thead>\n",
       "  <tbody>\n",
       "    <tr>\n",
       "      <th>count</th>\n",
       "      <td>32341.000000</td>\n",
       "      <td>32341.000000</td>\n",
       "      <td>32341.000000</td>\n",
       "      <td>32949.000000</td>\n",
       "      <td>32949.000000</td>\n",
       "      <td>32949.000000</td>\n",
       "      <td>32949.000000</td>\n",
       "    </tr>\n",
       "    <tr>\n",
       "      <th>mean</th>\n",
       "      <td>48.476949</td>\n",
       "      <td>771.495285</td>\n",
       "      <td>2.188986</td>\n",
       "      <td>2276.472488</td>\n",
       "      <td>30.815078</td>\n",
       "      <td>16.937661</td>\n",
       "      <td>23.196728</td>\n",
       "    </tr>\n",
       "    <tr>\n",
       "      <th>std</th>\n",
       "      <td>10.245741</td>\n",
       "      <td>635.115225</td>\n",
       "      <td>1.736766</td>\n",
       "      <td>4282.038731</td>\n",
       "      <td>16.914458</td>\n",
       "      <td>13.637554</td>\n",
       "      <td>12.079047</td>\n",
       "    </tr>\n",
       "    <tr>\n",
       "      <th>min</th>\n",
       "      <td>5.000000</td>\n",
       "      <td>4.000000</td>\n",
       "      <td>1.000000</td>\n",
       "      <td>0.000000</td>\n",
       "      <td>7.000000</td>\n",
       "      <td>2.000000</td>\n",
       "      <td>6.000000</td>\n",
       "    </tr>\n",
       "    <tr>\n",
       "      <th>25%</th>\n",
       "      <td>42.000000</td>\n",
       "      <td>339.000000</td>\n",
       "      <td>1.000000</td>\n",
       "      <td>300.000000</td>\n",
       "      <td>18.000000</td>\n",
       "      <td>8.000000</td>\n",
       "      <td>15.000000</td>\n",
       "    </tr>\n",
       "    <tr>\n",
       "      <th>50%</th>\n",
       "      <td>51.000000</td>\n",
       "      <td>595.000000</td>\n",
       "      <td>1.000000</td>\n",
       "      <td>700.000000</td>\n",
       "      <td>25.000000</td>\n",
       "      <td>13.000000</td>\n",
       "      <td>20.000000</td>\n",
       "    </tr>\n",
       "    <tr>\n",
       "      <th>75%</th>\n",
       "      <td>57.000000</td>\n",
       "      <td>972.000000</td>\n",
       "      <td>3.000000</td>\n",
       "      <td>1900.000000</td>\n",
       "      <td>38.000000</td>\n",
       "      <td>21.000000</td>\n",
       "      <td>30.000000</td>\n",
       "    </tr>\n",
       "    <tr>\n",
       "      <th>max</th>\n",
       "      <td>76.000000</td>\n",
       "      <td>3992.000000</td>\n",
       "      <td>20.000000</td>\n",
       "      <td>40425.000000</td>\n",
       "      <td>105.000000</td>\n",
       "      <td>105.000000</td>\n",
       "      <td>118.000000</td>\n",
       "    </tr>\n",
       "  </tbody>\n",
       "</table>\n",
       "</div>"
      ],
      "text/plain": [
       "       product_name_lenght  product_description_lenght  product_photos_qty  \\\n",
       "count         32341.000000                32341.000000        32341.000000   \n",
       "mean             48.476949                  771.495285            2.188986   \n",
       "std              10.245741                  635.115225            1.736766   \n",
       "min               5.000000                    4.000000            1.000000   \n",
       "25%              42.000000                  339.000000            1.000000   \n",
       "50%              51.000000                  595.000000            1.000000   \n",
       "75%              57.000000                  972.000000            3.000000   \n",
       "max              76.000000                 3992.000000           20.000000   \n",
       "\n",
       "       product_weight_g  product_length_cm  product_height_cm  \\\n",
       "count      32949.000000       32949.000000       32949.000000   \n",
       "mean        2276.472488          30.815078          16.937661   \n",
       "std         4282.038731          16.914458          13.637554   \n",
       "min            0.000000           7.000000           2.000000   \n",
       "25%          300.000000          18.000000           8.000000   \n",
       "50%          700.000000          25.000000          13.000000   \n",
       "75%         1900.000000          38.000000          21.000000   \n",
       "max        40425.000000         105.000000         105.000000   \n",
       "\n",
       "       product_width_cm  \n",
       "count      32949.000000  \n",
       "mean          23.196728  \n",
       "std           12.079047  \n",
       "min            6.000000  \n",
       "25%           15.000000  \n",
       "50%           20.000000  \n",
       "75%           30.000000  \n",
       "max          118.000000  "
      ]
     },
     "execution_count": 37,
     "metadata": {},
     "output_type": "execute_result"
    }
   ],
   "source": [
    "dfProducts.describe()"
   ]
  },
  {
   "cell_type": "code",
   "execution_count": 38,
   "id": "e107f1b1",
   "metadata": {},
   "outputs": [
    {
     "data": {
      "application/vnd.microsoft.datawrangler.viewer.v0+json": {
       "columns": [
        {
         "name": "index",
         "rawType": "object",
         "type": "string"
        },
        {
         "name": "product_id",
         "rawType": "object",
         "type": "unknown"
        },
        {
         "name": "product_category_name",
         "rawType": "object",
         "type": "unknown"
        }
       ],
       "ref": "972f6845-9ff3-4587-8ad5-8582b5582e62",
       "rows": [
        [
         "count",
         "32951",
         "32341"
        ],
        [
         "unique",
         "32951",
         "73"
        ],
        [
         "top",
         "106392145fca363410d287a815be6de4",
         "cama_mesa_banho"
        ],
        [
         "freq",
         "1",
         "3029"
        ]
       ],
       "shape": {
        "columns": 2,
        "rows": 4
       }
      },
      "text/html": [
       "<div>\n",
       "<style scoped>\n",
       "    .dataframe tbody tr th:only-of-type {\n",
       "        vertical-align: middle;\n",
       "    }\n",
       "\n",
       "    .dataframe tbody tr th {\n",
       "        vertical-align: top;\n",
       "    }\n",
       "\n",
       "    .dataframe thead th {\n",
       "        text-align: right;\n",
       "    }\n",
       "</style>\n",
       "<table border=\"1\" class=\"dataframe\">\n",
       "  <thead>\n",
       "    <tr style=\"text-align: right;\">\n",
       "      <th></th>\n",
       "      <th>product_id</th>\n",
       "      <th>product_category_name</th>\n",
       "    </tr>\n",
       "  </thead>\n",
       "  <tbody>\n",
       "    <tr>\n",
       "      <th>count</th>\n",
       "      <td>32951</td>\n",
       "      <td>32341</td>\n",
       "    </tr>\n",
       "    <tr>\n",
       "      <th>unique</th>\n",
       "      <td>32951</td>\n",
       "      <td>73</td>\n",
       "    </tr>\n",
       "    <tr>\n",
       "      <th>top</th>\n",
       "      <td>106392145fca363410d287a815be6de4</td>\n",
       "      <td>cama_mesa_banho</td>\n",
       "    </tr>\n",
       "    <tr>\n",
       "      <th>freq</th>\n",
       "      <td>1</td>\n",
       "      <td>3029</td>\n",
       "    </tr>\n",
       "  </tbody>\n",
       "</table>\n",
       "</div>"
      ],
      "text/plain": [
       "                              product_id product_category_name\n",
       "count                              32951                 32341\n",
       "unique                             32951                    73\n",
       "top     106392145fca363410d287a815be6de4       cama_mesa_banho\n",
       "freq                                   1                  3029"
      ]
     },
     "execution_count": 38,
     "metadata": {},
     "output_type": "execute_result"
    }
   ],
   "source": [
    "dfProducts.select_dtypes(include = \"object\").describe()"
   ]
  },
  {
   "cell_type": "code",
   "execution_count": 39,
   "id": "1f3a54a3",
   "metadata": {},
   "outputs": [
    {
     "name": "stdout",
     "output_type": "stream",
     "text": [
      "Jumlah Data Products Duplikat: 0\n"
     ]
    }
   ],
   "source": [
    "print(f\"Jumlah Data Products Duplikat: {dfProducts.duplicated().sum()}\")"
   ]
  },
  {
   "cell_type": "code",
   "execution_count": 40,
   "id": "95081452",
   "metadata": {},
   "outputs": [
    {
     "name": "stdout",
     "output_type": "stream",
     "text": [
      "                              0         1\n",
      "product_id                    0  0.000000\n",
      "product_category_name       610  1.851234\n",
      "product_name_lenght         610  1.851234\n",
      "product_description_lenght  610  1.851234\n",
      "product_photos_qty          610  1.851234\n",
      "product_weight_g              2  0.006070\n",
      "product_length_cm             2  0.006070\n",
      "product_height_cm             2  0.006070\n",
      "product_width_cm              2  0.006070\n"
     ]
    }
   ],
   "source": [
    "missingCountProducts = dfProducts.isnull().sum()\n",
    "missingPercentProducts = (dfProducts.isnull().sum() / len(dfProducts)) * 100\n",
    "\n",
    "missingSummaryProducts = pd.concat([missingCountProducts, missingPercentProducts], axis=1)\n",
    "print(missingSummaryProducts)"
   ]
  },
  {
   "cell_type": "markdown",
   "id": "acd7bca4",
   "metadata": {},
   "source": [
    "Sellers"
   ]
  },
  {
   "cell_type": "code",
   "execution_count": 41,
   "id": "47a63d0e",
   "metadata": {},
   "outputs": [
    {
     "name": "stdout",
     "output_type": "stream",
     "text": [
      "<class 'pandas.core.frame.DataFrame'>\n",
      "RangeIndex: 3095 entries, 0 to 3094\n",
      "Data columns (total 4 columns):\n",
      " #   Column                  Non-Null Count  Dtype \n",
      "---  ------                  --------------  ----- \n",
      " 0   seller_id               3095 non-null   object\n",
      " 1   seller_zip_code_prefix  3095 non-null   int64 \n",
      " 2   seller_city             3095 non-null   object\n",
      " 3   seller_state            3095 non-null   object\n",
      "dtypes: int64(1), object(3)\n",
      "memory usage: 96.8+ KB\n"
     ]
    }
   ],
   "source": [
    "dfSellers.info()"
   ]
  },
  {
   "cell_type": "code",
   "execution_count": 42,
   "id": "d94abbb8",
   "metadata": {},
   "outputs": [
    {
     "data": {
      "application/vnd.microsoft.datawrangler.viewer.v0+json": {
       "columns": [
        {
         "name": "index",
         "rawType": "object",
         "type": "string"
        },
        {
         "name": "seller_zip_code_prefix",
         "rawType": "float64",
         "type": "float"
        }
       ],
       "ref": "55201666-5602-415a-bca7-233c4e5bd971",
       "rows": [
        [
         "count",
         "3095.0"
        ],
        [
         "mean",
         "32291.059450726978"
        ],
        [
         "std",
         "32713.45382950907"
        ],
        [
         "min",
         "1001.0"
        ],
        [
         "25%",
         "7093.5"
        ],
        [
         "50%",
         "14940.0"
        ],
        [
         "75%",
         "64552.5"
        ],
        [
         "max",
         "99730.0"
        ]
       ],
       "shape": {
        "columns": 1,
        "rows": 8
       }
      },
      "text/html": [
       "<div>\n",
       "<style scoped>\n",
       "    .dataframe tbody tr th:only-of-type {\n",
       "        vertical-align: middle;\n",
       "    }\n",
       "\n",
       "    .dataframe tbody tr th {\n",
       "        vertical-align: top;\n",
       "    }\n",
       "\n",
       "    .dataframe thead th {\n",
       "        text-align: right;\n",
       "    }\n",
       "</style>\n",
       "<table border=\"1\" class=\"dataframe\">\n",
       "  <thead>\n",
       "    <tr style=\"text-align: right;\">\n",
       "      <th></th>\n",
       "      <th>seller_zip_code_prefix</th>\n",
       "    </tr>\n",
       "  </thead>\n",
       "  <tbody>\n",
       "    <tr>\n",
       "      <th>count</th>\n",
       "      <td>3095.000000</td>\n",
       "    </tr>\n",
       "    <tr>\n",
       "      <th>mean</th>\n",
       "      <td>32291.059451</td>\n",
       "    </tr>\n",
       "    <tr>\n",
       "      <th>std</th>\n",
       "      <td>32713.453830</td>\n",
       "    </tr>\n",
       "    <tr>\n",
       "      <th>min</th>\n",
       "      <td>1001.000000</td>\n",
       "    </tr>\n",
       "    <tr>\n",
       "      <th>25%</th>\n",
       "      <td>7093.500000</td>\n",
       "    </tr>\n",
       "    <tr>\n",
       "      <th>50%</th>\n",
       "      <td>14940.000000</td>\n",
       "    </tr>\n",
       "    <tr>\n",
       "      <th>75%</th>\n",
       "      <td>64552.500000</td>\n",
       "    </tr>\n",
       "    <tr>\n",
       "      <th>max</th>\n",
       "      <td>99730.000000</td>\n",
       "    </tr>\n",
       "  </tbody>\n",
       "</table>\n",
       "</div>"
      ],
      "text/plain": [
       "       seller_zip_code_prefix\n",
       "count             3095.000000\n",
       "mean             32291.059451\n",
       "std              32713.453830\n",
       "min               1001.000000\n",
       "25%               7093.500000\n",
       "50%              14940.000000\n",
       "75%              64552.500000\n",
       "max              99730.000000"
      ]
     },
     "execution_count": 42,
     "metadata": {},
     "output_type": "execute_result"
    }
   ],
   "source": [
    "dfSellers.describe()"
   ]
  },
  {
   "cell_type": "code",
   "execution_count": 43,
   "id": "ec508426",
   "metadata": {},
   "outputs": [
    {
     "data": {
      "application/vnd.microsoft.datawrangler.viewer.v0+json": {
       "columns": [
        {
         "name": "index",
         "rawType": "object",
         "type": "string"
        },
        {
         "name": "seller_id",
         "rawType": "object",
         "type": "unknown"
        },
        {
         "name": "seller_city",
         "rawType": "object",
         "type": "unknown"
        },
        {
         "name": "seller_state",
         "rawType": "object",
         "type": "unknown"
        }
       ],
       "ref": "d81a1061-badd-4ea6-8f9a-04741de0a613",
       "rows": [
        [
         "count",
         "3095",
         "3095",
         "3095"
        ],
        [
         "unique",
         "3095",
         "611",
         "23"
        ],
        [
         "top",
         "9e25199f6ef7e7c347120ff175652c3b",
         "sao paulo",
         "SP"
        ],
        [
         "freq",
         "1",
         "694",
         "1849"
        ]
       ],
       "shape": {
        "columns": 3,
        "rows": 4
       }
      },
      "text/html": [
       "<div>\n",
       "<style scoped>\n",
       "    .dataframe tbody tr th:only-of-type {\n",
       "        vertical-align: middle;\n",
       "    }\n",
       "\n",
       "    .dataframe tbody tr th {\n",
       "        vertical-align: top;\n",
       "    }\n",
       "\n",
       "    .dataframe thead th {\n",
       "        text-align: right;\n",
       "    }\n",
       "</style>\n",
       "<table border=\"1\" class=\"dataframe\">\n",
       "  <thead>\n",
       "    <tr style=\"text-align: right;\">\n",
       "      <th></th>\n",
       "      <th>seller_id</th>\n",
       "      <th>seller_city</th>\n",
       "      <th>seller_state</th>\n",
       "    </tr>\n",
       "  </thead>\n",
       "  <tbody>\n",
       "    <tr>\n",
       "      <th>count</th>\n",
       "      <td>3095</td>\n",
       "      <td>3095</td>\n",
       "      <td>3095</td>\n",
       "    </tr>\n",
       "    <tr>\n",
       "      <th>unique</th>\n",
       "      <td>3095</td>\n",
       "      <td>611</td>\n",
       "      <td>23</td>\n",
       "    </tr>\n",
       "    <tr>\n",
       "      <th>top</th>\n",
       "      <td>9e25199f6ef7e7c347120ff175652c3b</td>\n",
       "      <td>sao paulo</td>\n",
       "      <td>SP</td>\n",
       "    </tr>\n",
       "    <tr>\n",
       "      <th>freq</th>\n",
       "      <td>1</td>\n",
       "      <td>694</td>\n",
       "      <td>1849</td>\n",
       "    </tr>\n",
       "  </tbody>\n",
       "</table>\n",
       "</div>"
      ],
      "text/plain": [
       "                               seller_id seller_city seller_state\n",
       "count                               3095        3095         3095\n",
       "unique                              3095         611           23\n",
       "top     9e25199f6ef7e7c347120ff175652c3b   sao paulo           SP\n",
       "freq                                   1         694         1849"
      ]
     },
     "execution_count": 43,
     "metadata": {},
     "output_type": "execute_result"
    }
   ],
   "source": [
    "dfSellers.select_dtypes(include = \"object\").describe()"
   ]
  },
  {
   "cell_type": "code",
   "execution_count": 44,
   "id": "37e2974b",
   "metadata": {},
   "outputs": [
    {
     "name": "stdout",
     "output_type": "stream",
     "text": [
      "Jumlah Data Sellers Duplikat: 0\n"
     ]
    }
   ],
   "source": [
    "print(f\"Jumlah Data Sellers Duplikat: {dfSellers.duplicated().sum()}\")"
   ]
  },
  {
   "cell_type": "markdown",
   "id": "3be90d9b",
   "metadata": {},
   "source": [
    "Product Category Name"
   ]
  },
  {
   "cell_type": "code",
   "execution_count": 45,
   "id": "03a25ed2",
   "metadata": {},
   "outputs": [
    {
     "name": "stdout",
     "output_type": "stream",
     "text": [
      "<class 'pandas.core.frame.DataFrame'>\n",
      "RangeIndex: 71 entries, 0 to 70\n",
      "Data columns (total 2 columns):\n",
      " #   Column                         Non-Null Count  Dtype \n",
      "---  ------                         --------------  ----- \n",
      " 0   product_category_name          71 non-null     object\n",
      " 1   product_category_name_english  71 non-null     object\n",
      "dtypes: object(2)\n",
      "memory usage: 1.2+ KB\n"
     ]
    }
   ],
   "source": [
    "dfProductName.info()"
   ]
  },
  {
   "cell_type": "markdown",
   "id": "9d1b988b",
   "metadata": {},
   "source": [
    "## Cleaning Data"
   ]
  },
  {
   "cell_type": "markdown",
   "id": "a457a0cb",
   "metadata": {},
   "source": [
    "1. Customers:\n",
    "- Missing Value: 0\n",
    "- Data Duplikat: 0\n",
    "\n",
    "2. Geolocation:\n",
    "- Missing Value: 0\n",
    "- Data Duplikat: 261831\n",
    "\n",
    "3. Order Items:\n",
    "-  Missing Value: 0\n",
    "-  Data Duplikat: 0\n",
    "-  Tipe Data Salah\n",
    "   - shipping_limit_date  object \n",
    "\n",
    "4. Order Payments:\n",
    "- Missing Value: 0\n",
    "- Data Duplikat: 0\n",
    "\n",
    "5. Order Reviews:\n",
    "- Missing Value: \n",
    "  - review_comment_title     87656  88.341530\n",
    "  - review_comment_message   58247  58.702532\n",
    "- Data Duplikat: 0\n",
    "- Tipe Data Salah\n",
    "   - review_creation_date     object\n",
    "   - review_answer_timestamp   object\n",
    "\n",
    "6. Orders:\n",
    "- Missing Value: \n",
    "  - order_approved_at               160  0.160899\n",
    "  - order_delivered_carrier_date   1783  1.793023\n",
    "  - order_delivered_customer_date  2965  2.981668\n",
    "- Data Duplikat: 0\n",
    "- Tipe Data Salah\n",
    "  - order_purchase_timestamp       object\n",
    "  - order_approved_at              object\n",
    "  - order_delivered_carrier_date   object\n",
    "  - order_delivered_customer_date  object\n",
    "  - order_estimated_delivery_date  object\n",
    "\n",
    "7. Products:\n",
    "- Missing Value:\n",
    "  - product_category_name       610  1.851234\n",
    "  - product_name_lenght         610  1.851234\n",
    "  - product_description_lenght  610  1.851234\n",
    "  - product_photos_qty          610  1.851234\n",
    "  - product_weight_g              2  0.006070\n",
    "  - product_length_cm             2  0.006070\n",
    "  - product_height_cm             2  0.006070\n",
    "  - product_width_cm              2  0.006070\n",
    "- Data Duplikat: 0\n",
    "\n",
    "8. Sellers:\n",
    "- Missing Value: 0\n",
    "- Data Duplikat: 0\n",
    "\n",
    "9. Product Category Name:\n",
    "- Missing Value: 0\n",
    "- Data Duplikat: 0"
   ]
  },
  {
   "cell_type": "markdown",
   "id": "76df3554",
   "metadata": {},
   "source": [
    "Order Items"
   ]
  },
  {
   "cell_type": "code",
   "execution_count": 46,
   "id": "508a5eb9",
   "metadata": {},
   "outputs": [],
   "source": [
    "dfOrderItems[\"shipping_limit_date\"] = pd.to_datetime(dfOrderItems[\"shipping_limit_date\"])"
   ]
  },
  {
   "cell_type": "code",
   "execution_count": 47,
   "id": "601f1003",
   "metadata": {},
   "outputs": [
    {
     "name": "stdout",
     "output_type": "stream",
     "text": [
      "<class 'pandas.core.frame.DataFrame'>\n",
      "RangeIndex: 112650 entries, 0 to 112649\n",
      "Data columns (total 7 columns):\n",
      " #   Column               Non-Null Count   Dtype         \n",
      "---  ------               --------------   -----         \n",
      " 0   order_id             112650 non-null  object        \n",
      " 1   order_item_id        112650 non-null  int64         \n",
      " 2   product_id           112650 non-null  object        \n",
      " 3   seller_id            112650 non-null  object        \n",
      " 4   shipping_limit_date  112650 non-null  datetime64[ns]\n",
      " 5   price                112650 non-null  float64       \n",
      " 6   freight_value        112650 non-null  float64       \n",
      "dtypes: datetime64[ns](1), float64(2), int64(1), object(3)\n",
      "memory usage: 6.0+ MB\n"
     ]
    }
   ],
   "source": [
    "dfOrderItems.info()"
   ]
  },
  {
   "cell_type": "markdown",
   "id": "7d0d4a55",
   "metadata": {},
   "source": [
    "Geolocation"
   ]
  },
  {
   "cell_type": "code",
   "execution_count": 48,
   "id": "ec62a5e9",
   "metadata": {},
   "outputs": [],
   "source": [
    "dfGeolocation = dfGeolocation.drop_duplicates()"
   ]
  },
  {
   "cell_type": "code",
   "execution_count": 49,
   "id": "cd202be8",
   "metadata": {},
   "outputs": [
    {
     "name": "stdout",
     "output_type": "stream",
     "text": [
      "<class 'pandas.core.frame.DataFrame'>\n",
      "Index: 738332 entries, 0 to 1000161\n",
      "Data columns (total 5 columns):\n",
      " #   Column                       Non-Null Count   Dtype  \n",
      "---  ------                       --------------   -----  \n",
      " 0   geolocation_zip_code_prefix  738332 non-null  int64  \n",
      " 1   geolocation_lat              738332 non-null  float64\n",
      " 2   geolocation_lng              738332 non-null  float64\n",
      " 3   geolocation_city             738332 non-null  object \n",
      " 4   geolocation_state            738332 non-null  object \n",
      "dtypes: float64(2), int64(1), object(2)\n",
      "memory usage: 33.8+ MB\n"
     ]
    }
   ],
   "source": [
    "dfGeolocation.info()"
   ]
  },
  {
   "cell_type": "markdown",
   "id": "482987dd",
   "metadata": {},
   "source": [
    "Order Reviews"
   ]
  },
  {
   "cell_type": "code",
   "execution_count": 50,
   "id": "4532c1ce",
   "metadata": {},
   "outputs": [],
   "source": [
    "dfOrderReviews = dfOrderReviews.drop(columns = [\"review_comment_title\", \"review_comment_message\"])"
   ]
  },
  {
   "cell_type": "code",
   "execution_count": 51,
   "id": "b731eb14",
   "metadata": {},
   "outputs": [],
   "source": [
    "orderReviewsColumn = [\"review_creation_date\", \"review_answer_timestamp\"]\n",
    "\n",
    "for col in orderReviewsColumn:\n",
    "    dfOrderReviews[col] = pd.to_datetime(dfOrderReviews[col])"
   ]
  },
  {
   "cell_type": "code",
   "execution_count": 52,
   "id": "f9e63ad1",
   "metadata": {},
   "outputs": [
    {
     "name": "stdout",
     "output_type": "stream",
     "text": [
      "<class 'pandas.core.frame.DataFrame'>\n",
      "RangeIndex: 99224 entries, 0 to 99223\n",
      "Data columns (total 5 columns):\n",
      " #   Column                   Non-Null Count  Dtype         \n",
      "---  ------                   --------------  -----         \n",
      " 0   review_id                99224 non-null  object        \n",
      " 1   order_id                 99224 non-null  object        \n",
      " 2   review_score             99224 non-null  int64         \n",
      " 3   review_creation_date     99224 non-null  datetime64[ns]\n",
      " 4   review_answer_timestamp  99224 non-null  datetime64[ns]\n",
      "dtypes: datetime64[ns](2), int64(1), object(2)\n",
      "memory usage: 3.8+ MB\n"
     ]
    }
   ],
   "source": [
    "dfOrderReviews.info()"
   ]
  },
  {
   "cell_type": "markdown",
   "id": "5f24bd62",
   "metadata": {},
   "source": [
    "Orders"
   ]
  },
  {
   "cell_type": "code",
   "execution_count": 53,
   "id": "fb58b480",
   "metadata": {},
   "outputs": [],
   "source": [
    "orderColumns = [\"order_purchase_timestamp\", \"order_approved_at\", \"order_delivered_carrier_date\", \"order_delivered_customer_date\", \"order_estimated_delivery_date\"]\n",
    "\n",
    "for col in orderColumns:\n",
    "    dfOrders[col] = pd.to_datetime(dfOrders[col])"
   ]
  },
  {
   "cell_type": "code",
   "execution_count": 54,
   "id": "3ec7907c",
   "metadata": {},
   "outputs": [],
   "source": [
    "dfOrders = dfOrders.dropna(subset = [\"order_approved_at\", \"order_delivered_carrier_date\", \"order_delivered_customer_date\"])"
   ]
  },
  {
   "cell_type": "code",
   "execution_count": 55,
   "id": "60505ffe",
   "metadata": {},
   "outputs": [
    {
     "name": "stdout",
     "output_type": "stream",
     "text": [
      "<class 'pandas.core.frame.DataFrame'>\n",
      "Index: 96461 entries, 0 to 99440\n",
      "Data columns (total 8 columns):\n",
      " #   Column                         Non-Null Count  Dtype         \n",
      "---  ------                         --------------  -----         \n",
      " 0   order_id                       96461 non-null  object        \n",
      " 1   customer_id                    96461 non-null  object        \n",
      " 2   order_status                   96461 non-null  object        \n",
      " 3   order_purchase_timestamp       96461 non-null  datetime64[ns]\n",
      " 4   order_approved_at              96461 non-null  datetime64[ns]\n",
      " 5   order_delivered_carrier_date   96461 non-null  datetime64[ns]\n",
      " 6   order_delivered_customer_date  96461 non-null  datetime64[ns]\n",
      " 7   order_estimated_delivery_date  96461 non-null  datetime64[ns]\n",
      "dtypes: datetime64[ns](5), object(3)\n",
      "memory usage: 6.6+ MB\n"
     ]
    }
   ],
   "source": [
    "dfOrders.info()"
   ]
  },
  {
   "cell_type": "markdown",
   "id": "eed84be1",
   "metadata": {},
   "source": [
    "Products"
   ]
  },
  {
   "cell_type": "code",
   "execution_count": 56,
   "id": "0a093963",
   "metadata": {},
   "outputs": [],
   "source": [
    "dfProducts = dfProducts.dropna(subset = [\"product_weight_g\", \"product_length_cm\", \"product_height_cm\", \"product_width_cm\"])"
   ]
  },
  {
   "cell_type": "code",
   "execution_count": 57,
   "id": "28936421",
   "metadata": {},
   "outputs": [],
   "source": [
    "dfProducts[\"product_category_name\"] = dfProducts[\"product_category_name\"].fillna(dfProducts[\"product_category_name\"].mode())"
   ]
  },
  {
   "cell_type": "code",
   "execution_count": 58,
   "id": "0f3c86a9",
   "metadata": {},
   "outputs": [],
   "source": [
    "dfProducts = dfProducts.drop(columns = [\"product_name_lenght\", \"product_description_lenght\"]) "
   ]
  },
  {
   "cell_type": "code",
   "execution_count": 59,
   "id": "fcd9942b",
   "metadata": {},
   "outputs": [
    {
     "name": "stdout",
     "output_type": "stream",
     "text": [
      "<class 'pandas.core.frame.DataFrame'>\n",
      "Index: 32949 entries, 0 to 32950\n",
      "Data columns (total 7 columns):\n",
      " #   Column                 Non-Null Count  Dtype  \n",
      "---  ------                 --------------  -----  \n",
      " 0   product_id             32949 non-null  object \n",
      " 1   product_category_name  32340 non-null  object \n",
      " 2   product_photos_qty     32340 non-null  float64\n",
      " 3   product_weight_g       32949 non-null  float64\n",
      " 4   product_length_cm      32949 non-null  float64\n",
      " 5   product_height_cm      32949 non-null  float64\n",
      " 6   product_width_cm       32949 non-null  float64\n",
      "dtypes: float64(5), object(2)\n",
      "memory usage: 2.0+ MB\n"
     ]
    }
   ],
   "source": [
    "dfProducts.info()"
   ]
  },
  {
   "cell_type": "markdown",
   "id": "828c05a7",
   "metadata": {},
   "source": [
    "## Merge Dataset"
   ]
  },
  {
   "cell_type": "code",
   "execution_count": 60,
   "id": "c5c4b274",
   "metadata": {},
   "outputs": [],
   "source": [
    "df = pd.merge(dfOrders, dfOrderItems, on = \"order_id\", how = \"inner\")\n",
    "df = pd.merge(df, dfOrderPayments, on = \"order_id\", how = \"inner\")\n",
    "df = pd.merge(df, dfOrderReviews, on = \"order_id\", how = \"inner\")\n",
    "df = pd.merge(df, dfCustomers, on = \"customer_id\", how = \"inner\")\n",
    "df = pd.merge(df, dfProducts, on = \"product_id\", how = \"inner\")\n",
    "df = pd.merge(df, dfSellers, on = \"seller_id\", how = \"inner\")\n",
    "df = pd.merge(df, dfProductName, on = \"product_category_name\", how = \"inner\")\n",
    "df = pd.merge(df, dfGeolocation, left_on = \"customer_zip_code_prefix\", right_on =\"geolocation_zip_code_prefix\", how = \"inner\")"
   ]
  },
  {
   "cell_type": "code",
   "execution_count": 61,
   "id": "6ca048ac",
   "metadata": {},
   "outputs": [
    {
     "data": {
      "application/vnd.microsoft.datawrangler.viewer.v0+json": {
       "columns": [
        {
         "name": "index",
         "rawType": "int64",
         "type": "integer"
        },
        {
         "name": "order_id",
         "rawType": "object",
         "type": "string"
        },
        {
         "name": "customer_id",
         "rawType": "object",
         "type": "string"
        },
        {
         "name": "order_status",
         "rawType": "object",
         "type": "string"
        },
        {
         "name": "order_purchase_timestamp",
         "rawType": "datetime64[ns]",
         "type": "datetime"
        },
        {
         "name": "order_approved_at",
         "rawType": "datetime64[ns]",
         "type": "datetime"
        },
        {
         "name": "order_delivered_carrier_date",
         "rawType": "datetime64[ns]",
         "type": "datetime"
        },
        {
         "name": "order_delivered_customer_date",
         "rawType": "datetime64[ns]",
         "type": "datetime"
        },
        {
         "name": "order_estimated_delivery_date",
         "rawType": "datetime64[ns]",
         "type": "datetime"
        },
        {
         "name": "order_item_id",
         "rawType": "int64",
         "type": "integer"
        },
        {
         "name": "product_id",
         "rawType": "object",
         "type": "string"
        },
        {
         "name": "seller_id",
         "rawType": "object",
         "type": "string"
        },
        {
         "name": "shipping_limit_date",
         "rawType": "datetime64[ns]",
         "type": "datetime"
        },
        {
         "name": "price",
         "rawType": "float64",
         "type": "float"
        },
        {
         "name": "freight_value",
         "rawType": "float64",
         "type": "float"
        },
        {
         "name": "payment_sequential",
         "rawType": "int64",
         "type": "integer"
        },
        {
         "name": "payment_type",
         "rawType": "object",
         "type": "string"
        },
        {
         "name": "payment_installments",
         "rawType": "int64",
         "type": "integer"
        },
        {
         "name": "payment_value",
         "rawType": "float64",
         "type": "float"
        },
        {
         "name": "review_id",
         "rawType": "object",
         "type": "string"
        },
        {
         "name": "review_score",
         "rawType": "int64",
         "type": "integer"
        },
        {
         "name": "review_creation_date",
         "rawType": "datetime64[ns]",
         "type": "datetime"
        },
        {
         "name": "review_answer_timestamp",
         "rawType": "datetime64[ns]",
         "type": "datetime"
        },
        {
         "name": "customer_unique_id",
         "rawType": "object",
         "type": "string"
        },
        {
         "name": "customer_zip_code_prefix",
         "rawType": "int64",
         "type": "integer"
        },
        {
         "name": "customer_city",
         "rawType": "object",
         "type": "string"
        },
        {
         "name": "customer_state",
         "rawType": "object",
         "type": "string"
        },
        {
         "name": "product_category_name",
         "rawType": "object",
         "type": "string"
        },
        {
         "name": "product_photos_qty",
         "rawType": "float64",
         "type": "float"
        },
        {
         "name": "product_weight_g",
         "rawType": "float64",
         "type": "float"
        },
        {
         "name": "product_length_cm",
         "rawType": "float64",
         "type": "float"
        },
        {
         "name": "product_height_cm",
         "rawType": "float64",
         "type": "float"
        },
        {
         "name": "product_width_cm",
         "rawType": "float64",
         "type": "float"
        },
        {
         "name": "seller_zip_code_prefix",
         "rawType": "int64",
         "type": "integer"
        },
        {
         "name": "seller_city",
         "rawType": "object",
         "type": "string"
        },
        {
         "name": "seller_state",
         "rawType": "object",
         "type": "string"
        },
        {
         "name": "product_category_name_english",
         "rawType": "object",
         "type": "string"
        },
        {
         "name": "geolocation_zip_code_prefix",
         "rawType": "int64",
         "type": "integer"
        },
        {
         "name": "geolocation_lat",
         "rawType": "float64",
         "type": "float"
        },
        {
         "name": "geolocation_lng",
         "rawType": "float64",
         "type": "float"
        },
        {
         "name": "geolocation_city",
         "rawType": "object",
         "type": "string"
        },
        {
         "name": "geolocation_state",
         "rawType": "object",
         "type": "string"
        }
       ],
       "ref": "c8bd0e46-e826-46f3-b606-d4bf2848d698",
       "rows": [
        [
         "0",
         "e481f51cbdc54678b7cc49136f2d6af7",
         "9ef432eb6251297304e76186b10a928d",
         "delivered",
         "2017-10-02 10:56:33",
         "2017-10-02 11:07:15",
         "2017-10-04 19:55:00",
         "2017-10-10 21:25:13",
         "2017-10-18 00:00:00",
         "1",
         "87285b34884572647811a353c7ac498a",
         "3504c0cb71d7fa48d967e0e4c94d59d9",
         "2017-10-06 11:07:15",
         "29.99",
         "8.72",
         "1",
         "credit_card",
         "1",
         "18.12",
         "a54f0611adc9ed256b57ede6b6eb5114",
         "4",
         "2017-10-11 00:00:00",
         "2017-10-12 03:43:48",
         "7c396fd4830fd04220f754e42b4e5bff",
         "3149",
         "sao paulo",
         "SP",
         "utilidades_domesticas",
         "4.0",
         "500.0",
         "19.0",
         "8.0",
         "13.0",
         "9350",
         "maua",
         "SP",
         "housewares",
         "3149",
         "-23.57480921065843",
         "-46.587471259651394",
         "sao paulo",
         "SP"
        ],
        [
         "1",
         "e481f51cbdc54678b7cc49136f2d6af7",
         "9ef432eb6251297304e76186b10a928d",
         "delivered",
         "2017-10-02 10:56:33",
         "2017-10-02 11:07:15",
         "2017-10-04 19:55:00",
         "2017-10-10 21:25:13",
         "2017-10-18 00:00:00",
         "1",
         "87285b34884572647811a353c7ac498a",
         "3504c0cb71d7fa48d967e0e4c94d59d9",
         "2017-10-06 11:07:15",
         "29.99",
         "8.72",
         "1",
         "credit_card",
         "1",
         "18.12",
         "a54f0611adc9ed256b57ede6b6eb5114",
         "4",
         "2017-10-11 00:00:00",
         "2017-10-12 03:43:48",
         "7c396fd4830fd04220f754e42b4e5bff",
         "3149",
         "sao paulo",
         "SP",
         "utilidades_domesticas",
         "4.0",
         "500.0",
         "19.0",
         "8.0",
         "13.0",
         "9350",
         "maua",
         "SP",
         "housewares",
         "3149",
         "-23.578333244308777",
         "-46.587122588770185",
         "sao paulo",
         "SP"
        ],
        [
         "2",
         "e481f51cbdc54678b7cc49136f2d6af7",
         "9ef432eb6251297304e76186b10a928d",
         "delivered",
         "2017-10-02 10:56:33",
         "2017-10-02 11:07:15",
         "2017-10-04 19:55:00",
         "2017-10-10 21:25:13",
         "2017-10-18 00:00:00",
         "1",
         "87285b34884572647811a353c7ac498a",
         "3504c0cb71d7fa48d967e0e4c94d59d9",
         "2017-10-06 11:07:15",
         "29.99",
         "8.72",
         "1",
         "credit_card",
         "1",
         "18.12",
         "a54f0611adc9ed256b57ede6b6eb5114",
         "4",
         "2017-10-11 00:00:00",
         "2017-10-12 03:43:48",
         "7c396fd4830fd04220f754e42b4e5bff",
         "3149",
         "sao paulo",
         "SP",
         "utilidades_domesticas",
         "4.0",
         "500.0",
         "19.0",
         "8.0",
         "13.0",
         "9350",
         "maua",
         "SP",
         "housewares",
         "3149",
         "-23.575033372468116",
         "-46.58745087621902",
         "sao paulo",
         "SP"
        ],
        [
         "3",
         "e481f51cbdc54678b7cc49136f2d6af7",
         "9ef432eb6251297304e76186b10a928d",
         "delivered",
         "2017-10-02 10:56:33",
         "2017-10-02 11:07:15",
         "2017-10-04 19:55:00",
         "2017-10-10 21:25:13",
         "2017-10-18 00:00:00",
         "1",
         "87285b34884572647811a353c7ac498a",
         "3504c0cb71d7fa48d967e0e4c94d59d9",
         "2017-10-06 11:07:15",
         "29.99",
         "8.72",
         "1",
         "credit_card",
         "1",
         "18.12",
         "a54f0611adc9ed256b57ede6b6eb5114",
         "4",
         "2017-10-11 00:00:00",
         "2017-10-12 03:43:48",
         "7c396fd4830fd04220f754e42b4e5bff",
         "3149",
         "sao paulo",
         "SP",
         "utilidades_domesticas",
         "4.0",
         "500.0",
         "19.0",
         "8.0",
         "13.0",
         "9350",
         "maua",
         "SP",
         "housewares",
         "3149",
         "-23.580054000000004",
         "-46.58667299999999",
         "sao paulo",
         "SP"
        ],
        [
         "4",
         "e481f51cbdc54678b7cc49136f2d6af7",
         "9ef432eb6251297304e76186b10a928d",
         "delivered",
         "2017-10-02 10:56:33",
         "2017-10-02 11:07:15",
         "2017-10-04 19:55:00",
         "2017-10-10 21:25:13",
         "2017-10-18 00:00:00",
         "1",
         "87285b34884572647811a353c7ac498a",
         "3504c0cb71d7fa48d967e0e4c94d59d9",
         "2017-10-06 11:07:15",
         "29.99",
         "8.72",
         "1",
         "credit_card",
         "1",
         "18.12",
         "a54f0611adc9ed256b57ede6b6eb5114",
         "4",
         "2017-10-11 00:00:00",
         "2017-10-12 03:43:48",
         "7c396fd4830fd04220f754e42b4e5bff",
         "3149",
         "sao paulo",
         "SP",
         "utilidades_domesticas",
         "4.0",
         "500.0",
         "19.0",
         "8.0",
         "13.0",
         "9350",
         "maua",
         "SP",
         "housewares",
         "3149",
         "-23.57628116493396",
         "-46.58727586558455",
         "sao paulo",
         "SP"
        ]
       ],
       "shape": {
        "columns": 41,
        "rows": 5
       }
      },
      "text/html": [
       "<div>\n",
       "<style scoped>\n",
       "    .dataframe tbody tr th:only-of-type {\n",
       "        vertical-align: middle;\n",
       "    }\n",
       "\n",
       "    .dataframe tbody tr th {\n",
       "        vertical-align: top;\n",
       "    }\n",
       "\n",
       "    .dataframe thead th {\n",
       "        text-align: right;\n",
       "    }\n",
       "</style>\n",
       "<table border=\"1\" class=\"dataframe\">\n",
       "  <thead>\n",
       "    <tr style=\"text-align: right;\">\n",
       "      <th></th>\n",
       "      <th>order_id</th>\n",
       "      <th>customer_id</th>\n",
       "      <th>order_status</th>\n",
       "      <th>order_purchase_timestamp</th>\n",
       "      <th>order_approved_at</th>\n",
       "      <th>order_delivered_carrier_date</th>\n",
       "      <th>order_delivered_customer_date</th>\n",
       "      <th>order_estimated_delivery_date</th>\n",
       "      <th>order_item_id</th>\n",
       "      <th>product_id</th>\n",
       "      <th>...</th>\n",
       "      <th>product_width_cm</th>\n",
       "      <th>seller_zip_code_prefix</th>\n",
       "      <th>seller_city</th>\n",
       "      <th>seller_state</th>\n",
       "      <th>product_category_name_english</th>\n",
       "      <th>geolocation_zip_code_prefix</th>\n",
       "      <th>geolocation_lat</th>\n",
       "      <th>geolocation_lng</th>\n",
       "      <th>geolocation_city</th>\n",
       "      <th>geolocation_state</th>\n",
       "    </tr>\n",
       "  </thead>\n",
       "  <tbody>\n",
       "    <tr>\n",
       "      <th>0</th>\n",
       "      <td>e481f51cbdc54678b7cc49136f2d6af7</td>\n",
       "      <td>9ef432eb6251297304e76186b10a928d</td>\n",
       "      <td>delivered</td>\n",
       "      <td>2017-10-02 10:56:33</td>\n",
       "      <td>2017-10-02 11:07:15</td>\n",
       "      <td>2017-10-04 19:55:00</td>\n",
       "      <td>2017-10-10 21:25:13</td>\n",
       "      <td>2017-10-18</td>\n",
       "      <td>1</td>\n",
       "      <td>87285b34884572647811a353c7ac498a</td>\n",
       "      <td>...</td>\n",
       "      <td>13.0</td>\n",
       "      <td>9350</td>\n",
       "      <td>maua</td>\n",
       "      <td>SP</td>\n",
       "      <td>housewares</td>\n",
       "      <td>3149</td>\n",
       "      <td>-23.574809</td>\n",
       "      <td>-46.587471</td>\n",
       "      <td>sao paulo</td>\n",
       "      <td>SP</td>\n",
       "    </tr>\n",
       "    <tr>\n",
       "      <th>1</th>\n",
       "      <td>e481f51cbdc54678b7cc49136f2d6af7</td>\n",
       "      <td>9ef432eb6251297304e76186b10a928d</td>\n",
       "      <td>delivered</td>\n",
       "      <td>2017-10-02 10:56:33</td>\n",
       "      <td>2017-10-02 11:07:15</td>\n",
       "      <td>2017-10-04 19:55:00</td>\n",
       "      <td>2017-10-10 21:25:13</td>\n",
       "      <td>2017-10-18</td>\n",
       "      <td>1</td>\n",
       "      <td>87285b34884572647811a353c7ac498a</td>\n",
       "      <td>...</td>\n",
       "      <td>13.0</td>\n",
       "      <td>9350</td>\n",
       "      <td>maua</td>\n",
       "      <td>SP</td>\n",
       "      <td>housewares</td>\n",
       "      <td>3149</td>\n",
       "      <td>-23.578333</td>\n",
       "      <td>-46.587123</td>\n",
       "      <td>sao paulo</td>\n",
       "      <td>SP</td>\n",
       "    </tr>\n",
       "    <tr>\n",
       "      <th>2</th>\n",
       "      <td>e481f51cbdc54678b7cc49136f2d6af7</td>\n",
       "      <td>9ef432eb6251297304e76186b10a928d</td>\n",
       "      <td>delivered</td>\n",
       "      <td>2017-10-02 10:56:33</td>\n",
       "      <td>2017-10-02 11:07:15</td>\n",
       "      <td>2017-10-04 19:55:00</td>\n",
       "      <td>2017-10-10 21:25:13</td>\n",
       "      <td>2017-10-18</td>\n",
       "      <td>1</td>\n",
       "      <td>87285b34884572647811a353c7ac498a</td>\n",
       "      <td>...</td>\n",
       "      <td>13.0</td>\n",
       "      <td>9350</td>\n",
       "      <td>maua</td>\n",
       "      <td>SP</td>\n",
       "      <td>housewares</td>\n",
       "      <td>3149</td>\n",
       "      <td>-23.575033</td>\n",
       "      <td>-46.587451</td>\n",
       "      <td>sao paulo</td>\n",
       "      <td>SP</td>\n",
       "    </tr>\n",
       "    <tr>\n",
       "      <th>3</th>\n",
       "      <td>e481f51cbdc54678b7cc49136f2d6af7</td>\n",
       "      <td>9ef432eb6251297304e76186b10a928d</td>\n",
       "      <td>delivered</td>\n",
       "      <td>2017-10-02 10:56:33</td>\n",
       "      <td>2017-10-02 11:07:15</td>\n",
       "      <td>2017-10-04 19:55:00</td>\n",
       "      <td>2017-10-10 21:25:13</td>\n",
       "      <td>2017-10-18</td>\n",
       "      <td>1</td>\n",
       "      <td>87285b34884572647811a353c7ac498a</td>\n",
       "      <td>...</td>\n",
       "      <td>13.0</td>\n",
       "      <td>9350</td>\n",
       "      <td>maua</td>\n",
       "      <td>SP</td>\n",
       "      <td>housewares</td>\n",
       "      <td>3149</td>\n",
       "      <td>-23.580054</td>\n",
       "      <td>-46.586673</td>\n",
       "      <td>sao paulo</td>\n",
       "      <td>SP</td>\n",
       "    </tr>\n",
       "    <tr>\n",
       "      <th>4</th>\n",
       "      <td>e481f51cbdc54678b7cc49136f2d6af7</td>\n",
       "      <td>9ef432eb6251297304e76186b10a928d</td>\n",
       "      <td>delivered</td>\n",
       "      <td>2017-10-02 10:56:33</td>\n",
       "      <td>2017-10-02 11:07:15</td>\n",
       "      <td>2017-10-04 19:55:00</td>\n",
       "      <td>2017-10-10 21:25:13</td>\n",
       "      <td>2017-10-18</td>\n",
       "      <td>1</td>\n",
       "      <td>87285b34884572647811a353c7ac498a</td>\n",
       "      <td>...</td>\n",
       "      <td>13.0</td>\n",
       "      <td>9350</td>\n",
       "      <td>maua</td>\n",
       "      <td>SP</td>\n",
       "      <td>housewares</td>\n",
       "      <td>3149</td>\n",
       "      <td>-23.576281</td>\n",
       "      <td>-46.587276</td>\n",
       "      <td>sao paulo</td>\n",
       "      <td>SP</td>\n",
       "    </tr>\n",
       "  </tbody>\n",
       "</table>\n",
       "<p>5 rows × 41 columns</p>\n",
       "</div>"
      ],
      "text/plain": [
       "                           order_id                       customer_id  \\\n",
       "0  e481f51cbdc54678b7cc49136f2d6af7  9ef432eb6251297304e76186b10a928d   \n",
       "1  e481f51cbdc54678b7cc49136f2d6af7  9ef432eb6251297304e76186b10a928d   \n",
       "2  e481f51cbdc54678b7cc49136f2d6af7  9ef432eb6251297304e76186b10a928d   \n",
       "3  e481f51cbdc54678b7cc49136f2d6af7  9ef432eb6251297304e76186b10a928d   \n",
       "4  e481f51cbdc54678b7cc49136f2d6af7  9ef432eb6251297304e76186b10a928d   \n",
       "\n",
       "  order_status order_purchase_timestamp   order_approved_at  \\\n",
       "0    delivered      2017-10-02 10:56:33 2017-10-02 11:07:15   \n",
       "1    delivered      2017-10-02 10:56:33 2017-10-02 11:07:15   \n",
       "2    delivered      2017-10-02 10:56:33 2017-10-02 11:07:15   \n",
       "3    delivered      2017-10-02 10:56:33 2017-10-02 11:07:15   \n",
       "4    delivered      2017-10-02 10:56:33 2017-10-02 11:07:15   \n",
       "\n",
       "  order_delivered_carrier_date order_delivered_customer_date  \\\n",
       "0          2017-10-04 19:55:00           2017-10-10 21:25:13   \n",
       "1          2017-10-04 19:55:00           2017-10-10 21:25:13   \n",
       "2          2017-10-04 19:55:00           2017-10-10 21:25:13   \n",
       "3          2017-10-04 19:55:00           2017-10-10 21:25:13   \n",
       "4          2017-10-04 19:55:00           2017-10-10 21:25:13   \n",
       "\n",
       "  order_estimated_delivery_date  order_item_id  \\\n",
       "0                    2017-10-18              1   \n",
       "1                    2017-10-18              1   \n",
       "2                    2017-10-18              1   \n",
       "3                    2017-10-18              1   \n",
       "4                    2017-10-18              1   \n",
       "\n",
       "                         product_id  ... product_width_cm  \\\n",
       "0  87285b34884572647811a353c7ac498a  ...             13.0   \n",
       "1  87285b34884572647811a353c7ac498a  ...             13.0   \n",
       "2  87285b34884572647811a353c7ac498a  ...             13.0   \n",
       "3  87285b34884572647811a353c7ac498a  ...             13.0   \n",
       "4  87285b34884572647811a353c7ac498a  ...             13.0   \n",
       "\n",
       "  seller_zip_code_prefix  seller_city  seller_state  \\\n",
       "0                   9350         maua            SP   \n",
       "1                   9350         maua            SP   \n",
       "2                   9350         maua            SP   \n",
       "3                   9350         maua            SP   \n",
       "4                   9350         maua            SP   \n",
       "\n",
       "   product_category_name_english geolocation_zip_code_prefix  geolocation_lat  \\\n",
       "0                     housewares                        3149       -23.574809   \n",
       "1                     housewares                        3149       -23.578333   \n",
       "2                     housewares                        3149       -23.575033   \n",
       "3                     housewares                        3149       -23.580054   \n",
       "4                     housewares                        3149       -23.576281   \n",
       "\n",
       "   geolocation_lng geolocation_city  geolocation_state  \n",
       "0       -46.587471        sao paulo                 SP  \n",
       "1       -46.587123        sao paulo                 SP  \n",
       "2       -46.587451        sao paulo                 SP  \n",
       "3       -46.586673        sao paulo                 SP  \n",
       "4       -46.587276        sao paulo                 SP  \n",
       "\n",
       "[5 rows x 41 columns]"
      ]
     },
     "execution_count": 61,
     "metadata": {},
     "output_type": "execute_result"
    }
   ],
   "source": [
    "df.head()"
   ]
  },
  {
   "cell_type": "code",
   "execution_count": 62,
   "id": "2cb42919",
   "metadata": {},
   "outputs": [
    {
     "name": "stdout",
     "output_type": "stream",
     "text": [
      "<class 'pandas.core.frame.DataFrame'>\n",
      "RangeIndex: 11845472 entries, 0 to 11845471\n",
      "Data columns (total 41 columns):\n",
      " #   Column                         Dtype         \n",
      "---  ------                         -----         \n",
      " 0   order_id                       object        \n",
      " 1   customer_id                    object        \n",
      " 2   order_status                   object        \n",
      " 3   order_purchase_timestamp       datetime64[ns]\n",
      " 4   order_approved_at              datetime64[ns]\n",
      " 5   order_delivered_carrier_date   datetime64[ns]\n",
      " 6   order_delivered_customer_date  datetime64[ns]\n",
      " 7   order_estimated_delivery_date  datetime64[ns]\n",
      " 8   order_item_id                  int64         \n",
      " 9   product_id                     object        \n",
      " 10  seller_id                      object        \n",
      " 11  shipping_limit_date            datetime64[ns]\n",
      " 12  price                          float64       \n",
      " 13  freight_value                  float64       \n",
      " 14  payment_sequential             int64         \n",
      " 15  payment_type                   object        \n",
      " 16  payment_installments           int64         \n",
      " 17  payment_value                  float64       \n",
      " 18  review_id                      object        \n",
      " 19  review_score                   int64         \n",
      " 20  review_creation_date           datetime64[ns]\n",
      " 21  review_answer_timestamp        datetime64[ns]\n",
      " 22  customer_unique_id             object        \n",
      " 23  customer_zip_code_prefix       int64         \n",
      " 24  customer_city                  object        \n",
      " 25  customer_state                 object        \n",
      " 26  product_category_name          object        \n",
      " 27  product_photos_qty             float64       \n",
      " 28  product_weight_g               float64       \n",
      " 29  product_length_cm              float64       \n",
      " 30  product_height_cm              float64       \n",
      " 31  product_width_cm               float64       \n",
      " 32  seller_zip_code_prefix         int64         \n",
      " 33  seller_city                    object        \n",
      " 34  seller_state                   object        \n",
      " 35  product_category_name_english  object        \n",
      " 36  geolocation_zip_code_prefix    int64         \n",
      " 37  geolocation_lat                float64       \n",
      " 38  geolocation_lng                float64       \n",
      " 39  geolocation_city               object        \n",
      " 40  geolocation_state              object        \n",
      "dtypes: datetime64[ns](8), float64(10), int64(7), object(16)\n",
      "memory usage: 3.6+ GB\n"
     ]
    }
   ],
   "source": [
    "df.info()"
   ]
  },
  {
   "cell_type": "code",
   "execution_count": 63,
   "id": "1ec66770",
   "metadata": {},
   "outputs": [
    {
     "name": "stdout",
     "output_type": "stream",
     "text": [
      "Jumlah Data  Duplikat: 0\n"
     ]
    }
   ],
   "source": [
    "print(f\"Jumlah Data  Duplikat: {df.duplicated().sum()}\")"
   ]
  },
  {
   "cell_type": "code",
   "execution_count": 64,
   "id": "6f3000a9",
   "metadata": {},
   "outputs": [
    {
     "name": "stdout",
     "output_type": "stream",
     "text": [
      "                               0    1\n",
      "order_id                       0  0.0\n",
      "customer_id                    0  0.0\n",
      "order_status                   0  0.0\n",
      "order_purchase_timestamp       0  0.0\n",
      "order_approved_at              0  0.0\n",
      "order_delivered_carrier_date   0  0.0\n",
      "order_delivered_customer_date  0  0.0\n",
      "order_estimated_delivery_date  0  0.0\n",
      "order_item_id                  0  0.0\n",
      "product_id                     0  0.0\n",
      "seller_id                      0  0.0\n",
      "shipping_limit_date            0  0.0\n",
      "price                          0  0.0\n",
      "freight_value                  0  0.0\n",
      "payment_sequential             0  0.0\n",
      "payment_type                   0  0.0\n",
      "payment_installments           0  0.0\n",
      "payment_value                  0  0.0\n",
      "review_id                      0  0.0\n",
      "review_score                   0  0.0\n",
      "review_creation_date           0  0.0\n",
      "review_answer_timestamp        0  0.0\n",
      "customer_unique_id             0  0.0\n",
      "customer_zip_code_prefix       0  0.0\n",
      "customer_city                  0  0.0\n",
      "customer_state                 0  0.0\n",
      "product_category_name          0  0.0\n",
      "product_photos_qty             0  0.0\n",
      "product_weight_g               0  0.0\n",
      "product_length_cm              0  0.0\n",
      "product_height_cm              0  0.0\n",
      "product_width_cm               0  0.0\n",
      "seller_zip_code_prefix         0  0.0\n",
      "seller_city                    0  0.0\n",
      "seller_state                   0  0.0\n",
      "product_category_name_english  0  0.0\n",
      "geolocation_zip_code_prefix    0  0.0\n",
      "geolocation_lat                0  0.0\n",
      "geolocation_lng                0  0.0\n",
      "geolocation_city               0  0.0\n",
      "geolocation_state              0  0.0\n"
     ]
    }
   ],
   "source": [
    "missingCount = df.isnull().sum()\n",
    "missingPercent = (df.isnull().sum() / len(df)) * 100\n",
    "\n",
    "missingSummary = pd.concat([missingCount, missingPercent], axis=1)\n",
    "print(missingSummary)"
   ]
  },
  {
   "cell_type": "code",
   "execution_count": 65,
   "id": "978599f8",
   "metadata": {},
   "outputs": [],
   "source": [
    "df = df.drop(columns = \"product_category_name\")"
   ]
  },
  {
   "cell_type": "markdown",
   "id": "14ee3d4f",
   "metadata": {},
   "source": [
    "## Business Question"
   ]
  },
  {
   "cell_type": "markdown",
   "id": "27aee6b2",
   "metadata": {},
   "source": [
    "1. Bagaimana demografi pelanggan e-commerce?\n",
    "2. Produk kategori apa yang paling sering dan paling jarang dibeli oleh pelanggan?\n",
    "3. Bagaimana tren pendapatan e-commerce sepanjang tahun 2018?\n",
    "4. Kota dan negara bagian mana yang menyumbang pendapatan terbesar?\n",
    "5. Metode pembayaran apa yang paling banyak digunakan pelanggan?\n",
    "6. Kapan terakhir kali pelanggan melakukan transaksi di platform?\n",
    "7. Seberapa sering pelanggan melakukan pembelian di e-commerce?\n",
    "8. Berapa total pengeluaran pelanggan selama bertransaksi di platform?"
   ]
  },
  {
   "cell_type": "markdown",
   "id": "02737b60",
   "metadata": {},
   "source": [
    "## Exploratory Data Analysis"
   ]
  },
  {
   "cell_type": "markdown",
   "id": "dc633b8a",
   "metadata": {},
   "source": [
    "Bagaimana demografi pelanggan e-commerce?"
   ]
  },
  {
   "cell_type": "code",
   "execution_count": 66,
   "id": "b572262a",
   "metadata": {},
   "outputs": [
    {
     "data": {
      "application/vnd.microsoft.datawrangler.viewer.v0+json": {
       "columns": [
        {
         "name": "('customer_city', 'customer_state')",
         "rawType": "object",
         "type": "unknown"
        },
        {
         "name": "count",
         "rawType": "int64",
         "type": "integer"
        }
       ],
       "ref": "4d028d98-2be6-4966-8bf4-c831f9b9e531",
       "rows": [
        [
         "('rio de janeiro', 'RJ')",
         "1063320"
        ],
        [
         "('sao paulo', 'SP')",
         "872794"
        ],
        [
         "('belo horizonte', 'MG')",
         "529892"
        ],
        [
         "('niteroi', 'RJ')",
         "243566"
        ],
        [
         "('curitiba', 'PR')",
         "188136"
        ],
        [
         "('uberlandia', 'MG')",
         "177329"
        ],
        [
         "('porto alegre', 'RS')",
         "162961"
        ],
        [
         "('santos', 'SP')",
         "154819"
        ],
        [
         "('campinas', 'SP')",
         "149526"
        ],
        [
         "('santo andre', 'SP')",
         "128963"
        ],
        [
         "('ipatinga', 'MG')",
         "111123"
        ],
        [
         "('sao bernardo do campo', 'SP')",
         "111070"
        ],
        [
         "('salvador', 'BA')",
         "110136"
        ],
        [
         "('montes claros', 'MG')",
         "101944"
        ],
        [
         "('florianopolis', 'SC')",
         "93106"
        ],
        [
         "('sao jose dos campos', 'SP')",
         "89983"
        ],
        [
         "('guarulhos', 'SP')",
         "88665"
        ],
        [
         "('divinopolis', 'MG')",
         "88614"
        ],
        [
         "('jundiai', 'SP')",
         "81833"
        ],
        [
         "('ribeirao preto', 'SP')",
         "76393"
        ],
        [
         "('brasilia', 'DF')",
         "74106"
        ],
        [
         "('vitoria', 'ES')",
         "74067"
        ],
        [
         "('sorocaba', 'SP')",
         "69948"
        ],
        [
         "('itanhaem', 'SP')",
         "67800"
        ],
        [
         "('praia grande', 'SP')",
         "61434"
        ],
        [
         "('sete lagoas', 'MG')",
         "61313"
        ],
        [
         "('lavras', 'MG')",
         "59600"
        ],
        [
         "('pocos de caldas', 'MG')",
         "59087"
        ],
        [
         "('ubatuba', 'SP')",
         "58887"
        ],
        [
         "('maua', 'SP')",
         "58446"
        ],
        [
         "('juiz de fora', 'MG')",
         "56877"
        ],
        [
         "('vila velha', 'ES')",
         "56669"
        ],
        [
         "('osasco', 'SP')",
         "54691"
        ],
        [
         "('conselheiro lafaiete', 'MG')",
         "54505"
        ],
        [
         "('vicosa', 'MG')",
         "50380"
        ],
        [
         "('araruama', 'RJ')",
         "50138"
        ],
        [
         "('recife', 'PE')",
         "48010"
        ],
        [
         "('franca', 'SP')",
         "47785"
        ],
        [
         "('mogi das cruzes', 'SP')",
         "44492"
        ],
        [
         "('indaiatuba', 'SP')",
         "43518"
        ],
        [
         "('itabira', 'MG')",
         "42566"
        ],
        [
         "('paracatu', 'MG')",
         "41724"
        ],
        [
         "('contagem', 'MG')",
         "41465"
        ],
        [
         "('sao caetano do sul', 'SP')",
         "40254"
        ],
        [
         "('mairipora', 'SP')",
         "39564"
        ],
        [
         "('sao carlos', 'SP')",
         "39202"
        ],
        [
         "('nova iguacu', 'RJ')",
         "37495"
        ],
        [
         "('maringa', 'PR')",
         "37429"
        ],
        [
         "('barueri', 'SP')",
         "36429"
        ],
        [
         "('piracicaba', 'SP')",
         "35503"
        ]
       ],
       "shape": {
        "columns": 1,
        "rows": 4207
       }
      },
      "text/plain": [
       "customer_city    customer_state\n",
       "rio de janeiro   RJ                1063320\n",
       "sao paulo        SP                 872794\n",
       "belo horizonte   MG                 529892\n",
       "niteroi          RJ                 243566\n",
       "curitiba         PR                 188136\n",
       "                                    ...   \n",
       "pinhal da serra  RS                      1\n",
       "lagoa salgada    RN                      1\n",
       "mussurepe        RJ                      1\n",
       "santa maria      RN                      1\n",
       "mendonca         MG                      1\n",
       "Name: count, Length: 4207, dtype: int64"
      ]
     },
     "execution_count": 66,
     "metadata": {},
     "output_type": "execute_result"
    }
   ],
   "source": [
    "col = [\"customer_city\", \"customer_state\"]\n",
    "\n",
    "df[col].value_counts()"
   ]
  },
  {
   "cell_type": "code",
   "execution_count": 67,
   "id": "1051fb42",
   "metadata": {},
   "outputs": [
    {
     "data": {
      "application/vnd.microsoft.datawrangler.viewer.v0+json": {
       "columns": [
        {
         "name": "index",
         "rawType": "int64",
         "type": "integer"
        },
        {
         "name": "customer_city",
         "rawType": "object",
         "type": "string"
        },
        {
         "name": "customer_state",
         "rawType": "object",
         "type": "string"
        },
        {
         "name": "customerUnique",
         "rawType": "int64",
         "type": "integer"
        }
       ],
       "ref": "4fe792aa-9808-4acf-b698-9ab5dfa30b5f",
       "rows": [
        [
         "3663",
         "sao paulo",
         "SP",
         "14214"
        ],
        [
         "3201",
         "rio de janeiro",
         "RJ",
         "6200"
        ],
        [
         "461",
         "belo horizonte",
         "MG",
         "2546"
        ],
        [
         "575",
         "brasilia",
         "DF",
         "1819"
        ],
        [
         "1166",
         "curitiba",
         "PR",
         "1412"
        ],
        [
         "725",
         "campinas",
         "SP",
         "1339"
        ],
        [
         "3001",
         "porto alegre",
         "RS",
         "1266"
        ],
        [
         "3294",
         "salvador",
         "BA",
         "1118"
        ],
        [
         "1557",
         "guarulhos",
         "SP",
         "1086"
        ],
        [
         "3487",
         "sao bernardo do campo",
         "SP",
         "864"
        ],
        [
         "2495",
         "niteroi",
         "RJ",
         "779"
        ],
        [
         "3434",
         "santo andre",
         "SP",
         "740"
        ],
        [
         "2630",
         "osasco",
         "SP",
         "689"
        ],
        [
         "3472",
         "santos",
         "SP",
         "667"
        ],
        [
         "3622",
         "sao jose dos campos",
         "SP",
         "633"
        ],
        [
         "1469",
         "goiania",
         "GO",
         "611"
        ],
        [
         "1397",
         "fortaleza",
         "CE",
         "598"
        ],
        [
         "3831",
         "sorocaba",
         "SP",
         "578"
        ],
        [
         "3129",
         "recife",
         "PE",
         "556"
        ],
        [
         "1380",
         "florianopolis",
         "SC",
         "521"
        ],
        [
         "2041",
         "jundiai",
         "SP",
         "518"
        ],
        [
         "3176",
         "ribeirao preto",
         "SP",
         "470"
        ],
        [
         "2540",
         "nova iguacu",
         "RJ",
         "408"
        ],
        [
         "454",
         "belem",
         "PA",
         "404"
        ],
        [
         "435",
         "barueri",
         "SP",
         "401"
        ],
        [
         "2036",
         "juiz de fora",
         "MG",
         "401"
        ],
        [
         "1065",
         "contagem",
         "MG",
         "400"
        ],
        [
         "3534",
         "sao goncalo",
         "RJ",
         "365"
        ],
        [
         "2371",
         "mogi das cruzes",
         "SP",
         "357"
        ],
        [
         "4031",
         "uberlandia",
         "MG",
         "354"
        ],
        [
         "4174",
         "vitoria",
         "ES",
         "352"
        ],
        [
         "2905",
         "piracicaba",
         "SP",
         "346"
        ],
        [
         "3634",
         "sao luis",
         "MA",
         "322"
        ],
        [
         "3617",
         "sao jose do rio preto",
         "SP",
         "318"
        ],
        [
         "4161",
         "vila velha",
         "ES",
         "308"
        ],
        [
         "2310",
         "maua",
         "SP",
         "304"
        ],
        [
         "743",
         "campo grande",
         "MS",
         "302"
        ],
        [
         "844",
         "carapicuiba",
         "SP",
         "302"
        ],
        [
         "2144",
         "londrina",
         "PR",
         "284"
        ],
        [
         "3041",
         "praia grande",
         "SP",
         "275"
        ],
        [
         "3760",
         "serra",
         "ES",
         "270"
        ],
        [
         "3848",
         "taboao da serra",
         "SP",
         "268"
        ],
        [
         "1691",
         "indaiatuba",
         "SP",
         "260"
        ],
        [
         "1195",
         "diadema",
         "SP",
         "259"
        ],
        [
         "3492",
         "sao caetano do sul",
         "SP",
         "258"
        ],
        [
         "3900",
         "taubate",
         "SP",
         "253"
        ],
        [
         "2020",
         "joinville",
         "SC",
         "253"
        ],
        [
         "443",
         "bauru",
         "SP",
         "253"
        ],
        [
         "3919",
         "teresina",
         "PI",
         "252"
        ],
        [
         "2270",
         "maringa",
         "PR",
         "243"
        ]
       ],
       "shape": {
        "columns": 3,
        "rows": 4207
       }
      },
      "text/html": [
       "<div>\n",
       "<style scoped>\n",
       "    .dataframe tbody tr th:only-of-type {\n",
       "        vertical-align: middle;\n",
       "    }\n",
       "\n",
       "    .dataframe tbody tr th {\n",
       "        vertical-align: top;\n",
       "    }\n",
       "\n",
       "    .dataframe thead th {\n",
       "        text-align: right;\n",
       "    }\n",
       "</style>\n",
       "<table border=\"1\" class=\"dataframe\">\n",
       "  <thead>\n",
       "    <tr style=\"text-align: right;\">\n",
       "      <th></th>\n",
       "      <th>customer_city</th>\n",
       "      <th>customer_state</th>\n",
       "      <th>customerUnique</th>\n",
       "    </tr>\n",
       "  </thead>\n",
       "  <tbody>\n",
       "    <tr>\n",
       "      <th>3663</th>\n",
       "      <td>sao paulo</td>\n",
       "      <td>SP</td>\n",
       "      <td>14214</td>\n",
       "    </tr>\n",
       "    <tr>\n",
       "      <th>3201</th>\n",
       "      <td>rio de janeiro</td>\n",
       "      <td>RJ</td>\n",
       "      <td>6200</td>\n",
       "    </tr>\n",
       "    <tr>\n",
       "      <th>461</th>\n",
       "      <td>belo horizonte</td>\n",
       "      <td>MG</td>\n",
       "      <td>2546</td>\n",
       "    </tr>\n",
       "    <tr>\n",
       "      <th>575</th>\n",
       "      <td>brasilia</td>\n",
       "      <td>DF</td>\n",
       "      <td>1819</td>\n",
       "    </tr>\n",
       "    <tr>\n",
       "      <th>1166</th>\n",
       "      <td>curitiba</td>\n",
       "      <td>PR</td>\n",
       "      <td>1412</td>\n",
       "    </tr>\n",
       "    <tr>\n",
       "      <th>...</th>\n",
       "      <td>...</td>\n",
       "      <td>...</td>\n",
       "      <td>...</td>\n",
       "    </tr>\n",
       "    <tr>\n",
       "      <th>4177</th>\n",
       "      <td>vitoria das missoes</td>\n",
       "      <td>RS</td>\n",
       "      <td>1</td>\n",
       "    </tr>\n",
       "    <tr>\n",
       "      <th>4179</th>\n",
       "      <td>vitoria do jari</td>\n",
       "      <td>AP</td>\n",
       "      <td>1</td>\n",
       "    </tr>\n",
       "    <tr>\n",
       "      <th>4180</th>\n",
       "      <td>vitoria do mearim</td>\n",
       "      <td>MA</td>\n",
       "      <td>1</td>\n",
       "    </tr>\n",
       "    <tr>\n",
       "      <th>4181</th>\n",
       "      <td>vitorino</td>\n",
       "      <td>PR</td>\n",
       "      <td>1</td>\n",
       "    </tr>\n",
       "    <tr>\n",
       "      <th>4183</th>\n",
       "      <td>vitorinos</td>\n",
       "      <td>MG</td>\n",
       "      <td>1</td>\n",
       "    </tr>\n",
       "  </tbody>\n",
       "</table>\n",
       "<p>4207 rows × 3 columns</p>\n",
       "</div>"
      ],
      "text/plain": [
       "            customer_city customer_state  customerUnique\n",
       "3663            sao paulo             SP           14214\n",
       "3201       rio de janeiro             RJ            6200\n",
       "461        belo horizonte             MG            2546\n",
       "575              brasilia             DF            1819\n",
       "1166             curitiba             PR            1412\n",
       "...                   ...            ...             ...\n",
       "4177  vitoria das missoes             RS               1\n",
       "4179      vitoria do jari             AP               1\n",
       "4180    vitoria do mearim             MA               1\n",
       "4181             vitorino             PR               1\n",
       "4183            vitorinos             MG               1\n",
       "\n",
       "[4207 rows x 3 columns]"
      ]
     },
     "execution_count": 67,
     "metadata": {},
     "output_type": "execute_result"
    }
   ],
   "source": [
    "demography = df.groupby([\"customer_city\", \"customer_state\"]).agg(customerUnique = (\"customer_unique_id\", \"nunique\")).reset_index().sort_values(\"customerUnique\", ascending = False)\n",
    "demography"
   ]
  },
  {
   "cell_type": "code",
   "execution_count": 68,
   "id": "d26841ed",
   "metadata": {},
   "outputs": [
    {
     "data": {
      "image/png": "[encoded data removed]",
      "text/plain": [
       "<Figure size 1000x1000 with 1 Axes>"
      ]
     },
     "metadata": {},
     "output_type": "display_data"
    }
   ],
   "source": [
    "demographyTen = demography.head(10).sort_values(\"customerUnique\", ascending = True)\n",
    "demographyTen[\"city_state\"] = demographyTen[\"customer_city\"] + \",\" + demographyTen[\"customer_state\"]\n",
    "\n",
    "plt.figure(figsize = (10, 10))\n",
    "plt.barh(demographyTen[\"city_state\"], demographyTen[\"customerUnique\"], color = \"#4169E1\")\n",
    "\n",
    "for i, value in enumerate(demographyTen[\"customerUnique\"]):\n",
    "    plt.text(value + 0.5, i, str(value), va = \"center\", fontsize = 10)\n",
    "\n",
    "plt.title(\"Top 10 Customer Demography by City & State\", fontsize = 14, fontweight = \"bold\")\n",
    "plt.xlabel(\"Customers\", fontsize = 12)\n",
    "plt.ylabel(\"City, State\", fontsize = 12)\n",
    "plt.tight_layout()\n",
    "plt.show()"
   ]
  },
  {
   "cell_type": "markdown",
   "id": "926f80e4",
   "metadata": {},
   "source": [
    "Produk kategori apa yang paling sering dan paling jarang dibeli oleh pelanggan?"
   ]
  },
  {
   "cell_type": "code",
   "execution_count": 69,
   "id": "4129336f",
   "metadata": {},
   "outputs": [
    {
     "data": {
      "application/vnd.microsoft.datawrangler.viewer.v0+json": {
       "columns": [
        {
         "name": "index",
         "rawType": "int64",
         "type": "integer"
        },
        {
         "name": "product_category_name_english",
         "rawType": "object",
         "type": "string"
        },
        {
         "name": "orderId",
         "rawType": "int64",
         "type": "integer"
        }
       ],
       "ref": "51282d05-a674-4bf6-952a-6773309c4e8b",
       "rows": [
        [
         "7",
         "bed_bath_table",
         "1269373"
        ],
        [
         "43",
         "health_beauty",
         "967932"
        ],
        [
         "39",
         "furniture_decor",
         "935334"
        ],
        [
         "65",
         "sports_leisure",
         "919823"
        ],
        [
         "15",
         "computers_accessories",
         "837374"
        ]
       ],
       "shape": {
        "columns": 2,
        "rows": 5
       }
      },
      "text/html": [
       "<div>\n",
       "<style scoped>\n",
       "    .dataframe tbody tr th:only-of-type {\n",
       "        vertical-align: middle;\n",
       "    }\n",
       "\n",
       "    .dataframe tbody tr th {\n",
       "        vertical-align: top;\n",
       "    }\n",
       "\n",
       "    .dataframe thead th {\n",
       "        text-align: right;\n",
       "    }\n",
       "</style>\n",
       "<table border=\"1\" class=\"dataframe\">\n",
       "  <thead>\n",
       "    <tr style=\"text-align: right;\">\n",
       "      <th></th>\n",
       "      <th>product_category_name_english</th>\n",
       "      <th>orderId</th>\n",
       "    </tr>\n",
       "  </thead>\n",
       "  <tbody>\n",
       "    <tr>\n",
       "      <th>7</th>\n",
       "      <td>bed_bath_table</td>\n",
       "      <td>1269373</td>\n",
       "    </tr>\n",
       "    <tr>\n",
       "      <th>43</th>\n",
       "      <td>health_beauty</td>\n",
       "      <td>967932</td>\n",
       "    </tr>\n",
       "    <tr>\n",
       "      <th>39</th>\n",
       "      <td>furniture_decor</td>\n",
       "      <td>935334</td>\n",
       "    </tr>\n",
       "    <tr>\n",
       "      <th>65</th>\n",
       "      <td>sports_leisure</td>\n",
       "      <td>919823</td>\n",
       "    </tr>\n",
       "    <tr>\n",
       "      <th>15</th>\n",
       "      <td>computers_accessories</td>\n",
       "      <td>837374</td>\n",
       "    </tr>\n",
       "  </tbody>\n",
       "</table>\n",
       "</div>"
      ],
      "text/plain": [
       "   product_category_name_english  orderId\n",
       "7                 bed_bath_table  1269373\n",
       "43                 health_beauty   967932\n",
       "39               furniture_decor   935334\n",
       "65                sports_leisure   919823\n",
       "15         computers_accessories   837374"
      ]
     },
     "execution_count": 69,
     "metadata": {},
     "output_type": "execute_result"
    }
   ],
   "source": [
    "productFrequency = df.groupby(\"product_category_name_english\").agg(orderId = (\"order_item_id\", \"count\")).reset_index().sort_values(\"orderId\", ascending = False)\n",
    "productFrequency.head()"
   ]
  },
  {
   "cell_type": "code",
   "execution_count": 70,
   "id": "ae06c7e8",
   "metadata": {},
   "outputs": [
    {
     "data": {
      "application/vnd.microsoft.datawrangler.viewer.v0+json": {
       "columns": [
        {
         "name": "index",
         "rawType": "int64",
         "type": "integer"
        },
        {
         "name": "product_category_name_english",
         "rawType": "object",
         "type": "string"
        },
        {
         "name": "orderId",
         "rawType": "int64",
         "type": "integer"
        }
       ],
       "ref": "797c1c5a-bcac-4fd2-844e-1f1741e4f2f3",
       "rows": [
        [
         "46",
         "home_comfort_2",
         "2522"
        ],
        [
         "52",
         "la_cuisine",
         "1758"
        ],
        [
         "11",
         "cds_dvds_musicals",
         "1001"
        ],
        [
         "29",
         "fashion_childrens_clothes",
         "487"
        ],
        [
         "61",
         "security_and_services",
         "83"
        ]
       ],
       "shape": {
        "columns": 2,
        "rows": 5
       }
      },
      "text/html": [
       "<div>\n",
       "<style scoped>\n",
       "    .dataframe tbody tr th:only-of-type {\n",
       "        vertical-align: middle;\n",
       "    }\n",
       "\n",
       "    .dataframe tbody tr th {\n",
       "        vertical-align: top;\n",
       "    }\n",
       "\n",
       "    .dataframe thead th {\n",
       "        text-align: right;\n",
       "    }\n",
       "</style>\n",
       "<table border=\"1\" class=\"dataframe\">\n",
       "  <thead>\n",
       "    <tr style=\"text-align: right;\">\n",
       "      <th></th>\n",
       "      <th>product_category_name_english</th>\n",
       "      <th>orderId</th>\n",
       "    </tr>\n",
       "  </thead>\n",
       "  <tbody>\n",
       "    <tr>\n",
       "      <th>46</th>\n",
       "      <td>home_comfort_2</td>\n",
       "      <td>2522</td>\n",
       "    </tr>\n",
       "    <tr>\n",
       "      <th>52</th>\n",
       "      <td>la_cuisine</td>\n",
       "      <td>1758</td>\n",
       "    </tr>\n",
       "    <tr>\n",
       "      <th>11</th>\n",
       "      <td>cds_dvds_musicals</td>\n",
       "      <td>1001</td>\n",
       "    </tr>\n",
       "    <tr>\n",
       "      <th>29</th>\n",
       "      <td>fashion_childrens_clothes</td>\n",
       "      <td>487</td>\n",
       "    </tr>\n",
       "    <tr>\n",
       "      <th>61</th>\n",
       "      <td>security_and_services</td>\n",
       "      <td>83</td>\n",
       "    </tr>\n",
       "  </tbody>\n",
       "</table>\n",
       "</div>"
      ],
      "text/plain": [
       "   product_category_name_english  orderId\n",
       "46                home_comfort_2     2522\n",
       "52                    la_cuisine     1758\n",
       "11             cds_dvds_musicals     1001\n",
       "29     fashion_childrens_clothes      487\n",
       "61         security_and_services       83"
      ]
     },
     "execution_count": 70,
     "metadata": {},
     "output_type": "execute_result"
    }
   ],
   "source": [
    "productFrequency.tail()"
   ]
  },
  {
   "cell_type": "code",
   "execution_count": 71,
   "id": "93f34a0b",
   "metadata": {},
   "outputs": [
    {
     "data": {
      "image/png": "[encoded data removed]",
      "text/plain": [
       "<Figure size 1000x800 with 1 Axes>"
      ]
     },
     "metadata": {},
     "output_type": "display_data"
    }
   ],
   "source": [
    "productFrequencyFive = productFrequency.head()\n",
    "\n",
    "plt.figure(figsize = (10, 8))\n",
    "plt.bar(productFrequencyFive[\"product_category_name_english\"], productFrequencyFive[\"orderId\"], color = \"#4169E1\")\n",
    "\n",
    "for i, value in enumerate(productFrequencyFive[\"orderId\"]):\n",
    "    plt.text(i, value + 0.5, str(value), ha = \"center\", va = \"bottom\", fontsize = 10)\n",
    "\n",
    "plt.title(\"Top 5 Frequently Purchased Products\", fontsize = 14, fontweight = \"bold\")\n",
    "plt.xlabel(\"Product Category Name\", fontsize = 12)\n",
    "plt.ylabel(\"Number of Orders\", fontsize = 12)\n",
    "plt.tight_layout()\n",
    "plt.show()"
   ]
  },
  {
   "cell_type": "code",
   "execution_count": 72,
   "id": "c8ca17fb",
   "metadata": {},
   "outputs": [
    {
     "data": {
      "image/png": "[encoded data removed]",
      "text/plain": [
       "<Figure size 1000x800 with 1 Axes>"
      ]
     },
     "metadata": {},
     "output_type": "display_data"
    }
   ],
   "source": [
    "productFrequencyFive = productFrequency.tail()\n",
    "\n",
    "plt.figure(figsize = (10, 8))\n",
    "plt.bar(productFrequencyFive[\"product_category_name_english\"], productFrequencyFive[\"orderId\"], color = \"#4169E1\")\n",
    "\n",
    "for i, value in enumerate(productFrequencyFive[\"orderId\"]):\n",
    "    plt.text(i, value + 0.5, str(value), ha = \"center\", va = \"bottom\", fontsize = 10)\n",
    "\n",
    "plt.title(\"Top 5 Least Purchased Products\", fontsize = 14, fontweight = \"bold\")\n",
    "plt.xlabel(\"Product Category Name\", fontsize = 12)\n",
    "plt.ylabel(\"Number of Orders\", fontsize = 12)\n",
    "plt.tight_layout()\n",
    "plt.show()"
   ]
  },
  {
   "cell_type": "markdown",
   "id": "a63b9bd4",
   "metadata": {},
   "source": [
    "Bagaimana tren pendapatan e-commerce sepanjang tahun 2018?"
   ]
  },
  {
   "cell_type": "code",
   "execution_count": 73,
   "id": "9162cda2",
   "metadata": {},
   "outputs": [
    {
     "data": {
      "application/vnd.microsoft.datawrangler.viewer.v0+json": {
       "columns": [
        {
         "name": "index",
         "rawType": "int64",
         "type": "integer"
        },
        {
         "name": "order_purchase_timestamp",
         "rawType": "datetime64[ns]",
         "type": "datetime"
        },
        {
         "name": "price",
         "rawType": "float64",
         "type": "float"
        }
       ],
       "ref": "17623eea-2fb9-4255-9dbf-b32cd8fb5f79",
       "rows": [
        [
         "14",
         "2018-01-01 00:00:00",
         "99343297.13"
        ],
        [
         "15",
         "2018-02-01 00:00:00",
         "90578054.23"
        ],
        [
         "16",
         "2018-03-01 00:00:00",
         "100015258.95"
        ],
        [
         "17",
         "2018-04-01 00:00:00",
         "104186051.64"
        ],
        [
         "18",
         "2018-05-01 00:00:00",
         "103028344.46"
        ],
        [
         "19",
         "2018-06-01 00:00:00",
         "93949002.03"
        ],
        [
         "20",
         "2018-07-01 00:00:00",
         "88529420.1"
        ],
        [
         "21",
         "2018-08-01 00:00:00",
         "88535513.45"
        ]
       ],
       "shape": {
        "columns": 2,
        "rows": 8
       }
      },
      "text/html": [
       "<div>\n",
       "<style scoped>\n",
       "    .dataframe tbody tr th:only-of-type {\n",
       "        vertical-align: middle;\n",
       "    }\n",
       "\n",
       "    .dataframe tbody tr th {\n",
       "        vertical-align: top;\n",
       "    }\n",
       "\n",
       "    .dataframe thead th {\n",
       "        text-align: right;\n",
       "    }\n",
       "</style>\n",
       "<table border=\"1\" class=\"dataframe\">\n",
       "  <thead>\n",
       "    <tr style=\"text-align: right;\">\n",
       "      <th></th>\n",
       "      <th>order_purchase_timestamp</th>\n",
       "      <th>price</th>\n",
       "    </tr>\n",
       "  </thead>\n",
       "  <tbody>\n",
       "    <tr>\n",
       "      <th>14</th>\n",
       "      <td>2018-01-01</td>\n",
       "      <td>9.934330e+07</td>\n",
       "    </tr>\n",
       "    <tr>\n",
       "      <th>15</th>\n",
       "      <td>2018-02-01</td>\n",
       "      <td>9.057805e+07</td>\n",
       "    </tr>\n",
       "    <tr>\n",
       "      <th>16</th>\n",
       "      <td>2018-03-01</td>\n",
       "      <td>1.000153e+08</td>\n",
       "    </tr>\n",
       "    <tr>\n",
       "      <th>17</th>\n",
       "      <td>2018-04-01</td>\n",
       "      <td>1.041861e+08</td>\n",
       "    </tr>\n",
       "    <tr>\n",
       "      <th>18</th>\n",
       "      <td>2018-05-01</td>\n",
       "      <td>1.030283e+08</td>\n",
       "    </tr>\n",
       "    <tr>\n",
       "      <th>19</th>\n",
       "      <td>2018-06-01</td>\n",
       "      <td>9.394900e+07</td>\n",
       "    </tr>\n",
       "    <tr>\n",
       "      <th>20</th>\n",
       "      <td>2018-07-01</td>\n",
       "      <td>8.852942e+07</td>\n",
       "    </tr>\n",
       "    <tr>\n",
       "      <th>21</th>\n",
       "      <td>2018-08-01</td>\n",
       "      <td>8.853551e+07</td>\n",
       "    </tr>\n",
       "  </tbody>\n",
       "</table>\n",
       "</div>"
      ],
      "text/plain": [
       "   order_purchase_timestamp         price\n",
       "14               2018-01-01  9.934330e+07\n",
       "15               2018-02-01  9.057805e+07\n",
       "16               2018-03-01  1.000153e+08\n",
       "17               2018-04-01  1.041861e+08\n",
       "18               2018-05-01  1.030283e+08\n",
       "19               2018-06-01  9.394900e+07\n",
       "20               2018-07-01  8.852942e+07\n",
       "21               2018-08-01  8.853551e+07"
      ]
     },
     "execution_count": 73,
     "metadata": {},
     "output_type": "execute_result"
    }
   ],
   "source": [
    "revenueTrend = df.groupby(df[\"order_purchase_timestamp\"].dt.to_period(\"M\"))[\"price\"].sum().reset_index()\n",
    "\n",
    "revenueTrend[\"order_purchase_timestamp\"] = revenueTrend[\"order_purchase_timestamp\"].dt.to_timestamp()\n",
    "\n",
    "revenueTrend = revenueTrend[revenueTrend[\"order_purchase_timestamp\"].dt.year == 2018]\n",
    "\n",
    "revenueTrend"
   ]
  },
  {
   "cell_type": "code",
   "execution_count": 88,
   "id": "727b097c",
   "metadata": {},
   "outputs": [
    {
     "data": {
      "image/png": "[encoded data removed]",
      "text/plain": [
       "<Figure size 1500x600 with 1 Axes>"
      ]
     },
     "metadata": {},
     "output_type": "display_data"
    }
   ],
   "source": [
    "plt.figure(figsize = (15, 6))\n",
    "sns.lineplot(data = revenueTrend, x = \"order_purchase_timestamp\", y = \"price\", marker = \"o\", color = \"#4169E1\")\n",
    "\n",
    "for x, y in zip(revenueTrend[\"order_purchase_timestamp\"], revenueTrend[\"price\"]):\n",
    "    plt.text(x, y + 0.01*y, f\"{y/1_000_000:.1f}M\", ha = \"center\", va = \"bottom\", fontsize = 10)\n",
    "    \n",
    "plt.title(\"Monthly Revenue Trend\", fontsize = 14, fontweight = \"bold\")\n",
    "plt.xlabel(\"Year-Month\", fontsize = 12)\n",
    "plt.ylabel(\"Total Revenue\", fontsize = 12)\n",
    "plt.ylim(bottom=0, top=150_000_000)\n",
    "plt.tight_layout()\n",
    "plt.show()"
   ]
  },
  {
   "cell_type": "markdown",
   "id": "0e7fcebf",
   "metadata": {},
   "source": [
    "Kota dan negara bagian mana yang menyumbang pendapatan terbesar?"
   ]
  },
  {
   "cell_type": "code",
   "execution_count": 75,
   "id": "669d39d6",
   "metadata": {},
   "outputs": [
    {
     "data": {
      "application/vnd.microsoft.datawrangler.viewer.v0+json": {
       "columns": [
        {
         "name": "index",
         "rawType": "int64",
         "type": "integer"
        },
        {
         "name": "customer_city",
         "rawType": "object",
         "type": "string"
        },
        {
         "name": "customer_state",
         "rawType": "object",
         "type": "string"
        },
        {
         "name": "priceSum",
         "rawType": "float64",
         "type": "float"
        }
       ],
       "ref": "14faab12-937d-4c4a-92b8-8d3d8dcdd2f1",
       "rows": [
        [
         "3201",
         "rio de janeiro",
         "RJ",
         "131843794.83"
        ],
        [
         "3663",
         "sao paulo",
         "SP",
         "93669578.54"
        ],
        [
         "461",
         "belo horizonte",
         "MG",
         "58999211.36"
        ],
        [
         "2495",
         "niteroi",
         "RJ",
         "32512309.93"
        ],
        [
         "1166",
         "curitiba",
         "PR",
         "21802525.77"
        ],
        [
         "4031",
         "uberlandia",
         "MG",
         "20864462.11"
        ],
        [
         "3001",
         "porto alegre",
         "RS",
         "18655248.78"
        ],
        [
         "3472",
         "santos",
         "SP",
         "18321724.76"
        ],
        [
         "1213",
         "divinopolis",
         "MG",
         "16831287.68"
        ],
        [
         "725",
         "campinas",
         "SP",
         "16775083.66"
        ],
        [
         "3294",
         "salvador",
         "BA",
         "15722614.37"
        ],
        [
         "3434",
         "santo andre",
         "SP",
         "13328420.33"
        ],
        [
         "2416",
         "montes claros",
         "MG",
         "11990749.7"
        ],
        [
         "1380",
         "florianopolis",
         "SC",
         "11608708.73"
        ],
        [
         "1715",
         "ipatinga",
         "MG",
         "11475034.51"
        ],
        [
         "2041",
         "jundiai",
         "SP",
         "10900910.56"
        ],
        [
         "3487",
         "sao bernardo do campo",
         "SP",
         "10691476.63"
        ],
        [
         "1557",
         "guarulhos",
         "SP",
         "9694182.67"
        ],
        [
         "575",
         "brasilia",
         "DF",
         "9384337.75"
        ],
        [
         "274",
         "araruama",
         "RJ",
         "9308125.53"
        ],
        [
         "3622",
         "sao jose dos campos",
         "SP",
         "8742168.21"
        ],
        [
         "3176",
         "ribeirao preto",
         "SP",
         "8586090.68"
        ],
        [
         "2116",
         "lavras",
         "MG",
         "8541484.6"
        ],
        [
         "4174",
         "vitoria",
         "ES",
         "8293855.59"
        ],
        [
         "3789",
         "sete lagoas",
         "MG",
         "8063829.5200000005"
        ],
        [
         "4141",
         "vicosa",
         "MG",
         "7874296.07"
        ],
        [
         "3831",
         "sorocaba",
         "SP",
         "7523567.7"
        ],
        [
         "2036",
         "juiz de fora",
         "MG",
         "7490321.51"
        ],
        [
         "2310",
         "maua",
         "SP",
         "7348244.45"
        ],
        [
         "3041",
         "praia grande",
         "SP",
         "6987397.38"
        ],
        [
         "1815",
         "itanhaem",
         "SP",
         "6761063.46"
        ],
        [
         "4161",
         "vila velha",
         "ES",
         "6686668.96"
        ],
        [
         "3129",
         "recife",
         "PE",
         "6289502.17"
        ],
        [
         "2963",
         "pocos de caldas",
         "MG",
         "5945783.8"
        ],
        [
         "4029",
         "ubatuba",
         "SP",
         "5863211.38"
        ],
        [
         "1060",
         "conselheiro lafaiete",
         "MG",
         "5633813.07"
        ],
        [
         "1405",
         "franca",
         "SP",
         "5543913.09"
        ],
        [
         "2630",
         "osasco",
         "SP",
         "5495639.7"
        ],
        [
         "454",
         "belem",
         "PA",
         "5491942.25"
        ],
        [
         "2371",
         "mogi das cruzes",
         "SP",
         "5299635.19"
        ],
        [
         "474",
         "bertioga",
         "SP",
         "5291347.2"
        ],
        [
         "2540",
         "nova iguacu",
         "RJ",
         "4875275.39"
        ],
        [
         "3362",
         "santa maria",
         "RS",
         "4837866.69"
        ],
        [
         "2270",
         "maringa",
         "PR",
         "4724058.07"
        ],
        [
         "1065",
         "contagem",
         "MG",
         "4646779.85"
        ],
        [
         "1691",
         "indaiatuba",
         "SP",
         "4607882.63"
        ],
        [
         "2704",
         "paracatu",
         "MG",
         "4605193.17"
        ],
        [
         "2181",
         "maceio",
         "AL",
         "4577915.34"
        ],
        [
         "3494",
         "sao carlos",
         "SP",
         "4537207.75"
        ],
        [
         "3031",
         "pouso alegre",
         "MG",
         "4526969.94"
        ]
       ],
       "shape": {
        "columns": 3,
        "rows": 4207
       }
      },
      "text/html": [
       "<div>\n",
       "<style scoped>\n",
       "    .dataframe tbody tr th:only-of-type {\n",
       "        vertical-align: middle;\n",
       "    }\n",
       "\n",
       "    .dataframe tbody tr th {\n",
       "        vertical-align: top;\n",
       "    }\n",
       "\n",
       "    .dataframe thead th {\n",
       "        text-align: right;\n",
       "    }\n",
       "</style>\n",
       "<table border=\"1\" class=\"dataframe\">\n",
       "  <thead>\n",
       "    <tr style=\"text-align: right;\">\n",
       "      <th></th>\n",
       "      <th>customer_city</th>\n",
       "      <th>customer_state</th>\n",
       "      <th>priceSum</th>\n",
       "    </tr>\n",
       "  </thead>\n",
       "  <tbody>\n",
       "    <tr>\n",
       "      <th>3201</th>\n",
       "      <td>rio de janeiro</td>\n",
       "      <td>RJ</td>\n",
       "      <td>1.318438e+08</td>\n",
       "    </tr>\n",
       "    <tr>\n",
       "      <th>3663</th>\n",
       "      <td>sao paulo</td>\n",
       "      <td>SP</td>\n",
       "      <td>9.366958e+07</td>\n",
       "    </tr>\n",
       "    <tr>\n",
       "      <th>461</th>\n",
       "      <td>belo horizonte</td>\n",
       "      <td>MG</td>\n",
       "      <td>5.899921e+07</td>\n",
       "    </tr>\n",
       "    <tr>\n",
       "      <th>2495</th>\n",
       "      <td>niteroi</td>\n",
       "      <td>RJ</td>\n",
       "      <td>3.251231e+07</td>\n",
       "    </tr>\n",
       "    <tr>\n",
       "      <th>1166</th>\n",
       "      <td>curitiba</td>\n",
       "      <td>PR</td>\n",
       "      <td>2.180253e+07</td>\n",
       "    </tr>\n",
       "    <tr>\n",
       "      <th>...</th>\n",
       "      <td>...</td>\n",
       "      <td>...</td>\n",
       "      <td>...</td>\n",
       "    </tr>\n",
       "    <tr>\n",
       "      <th>1971</th>\n",
       "      <td>jardim abc de goias</td>\n",
       "      <td>GO</td>\n",
       "      <td>1.999000e+01</td>\n",
       "    </tr>\n",
       "    <tr>\n",
       "      <th>2887</th>\n",
       "      <td>pinhal da serra</td>\n",
       "      <td>RS</td>\n",
       "      <td>1.990000e+01</td>\n",
       "    </tr>\n",
       "    <tr>\n",
       "      <th>3361</th>\n",
       "      <td>santa maria</td>\n",
       "      <td>RN</td>\n",
       "      <td>1.983000e+01</td>\n",
       "    </tr>\n",
       "    <tr>\n",
       "      <th>494</th>\n",
       "      <td>boa ventura</td>\n",
       "      <td>RJ</td>\n",
       "      <td>1.490000e+01</td>\n",
       "    </tr>\n",
       "    <tr>\n",
       "      <th>4008</th>\n",
       "      <td>tuparece</td>\n",
       "      <td>MG</td>\n",
       "      <td>1.350000e+01</td>\n",
       "    </tr>\n",
       "  </tbody>\n",
       "</table>\n",
       "<p>4207 rows × 3 columns</p>\n",
       "</div>"
      ],
      "text/plain": [
       "            customer_city customer_state      priceSum\n",
       "3201       rio de janeiro             RJ  1.318438e+08\n",
       "3663            sao paulo             SP  9.366958e+07\n",
       "461        belo horizonte             MG  5.899921e+07\n",
       "2495              niteroi             RJ  3.251231e+07\n",
       "1166             curitiba             PR  2.180253e+07\n",
       "...                   ...            ...           ...\n",
       "1971  jardim abc de goias             GO  1.999000e+01\n",
       "2887      pinhal da serra             RS  1.990000e+01\n",
       "3361          santa maria             RN  1.983000e+01\n",
       "494           boa ventura             RJ  1.490000e+01\n",
       "4008             tuparece             MG  1.350000e+01\n",
       "\n",
       "[4207 rows x 3 columns]"
      ]
     },
     "execution_count": 75,
     "metadata": {},
     "output_type": "execute_result"
    }
   ],
   "source": [
    "cityState = df.groupby([\"customer_city\", \"customer_state\"]).agg(priceSum = (\"price\", \"sum\")).reset_index().sort_values(\"priceSum\", ascending = [False])       \n",
    "cityState"
   ]
  },
  {
   "cell_type": "code",
   "execution_count": 76,
   "id": "ed3c8346",
   "metadata": {},
   "outputs": [
    {
     "data": {
      "image/png": "[encoded data removed]",
      "text/plain": [
       "<Figure size 1000x800 with 1 Axes>"
      ]
     },
     "metadata": {},
     "output_type": "display_data"
    }
   ],
   "source": [
    "cityState = cityState.head().sort_values(\"priceSum\", ascending = False)\n",
    "cityState[\"city_state\"] = cityState[\"customer_city\"] + \",\" + cityState[\"customer_state\"]\n",
    "\n",
    "plt.figure(figsize = (10, 8))\n",
    "plt.bar(cityState[\"city_state\"], cityState[\"priceSum\"], color = \"#4169E1\")\n",
    "\n",
    "for i, value in enumerate(cityState[\"priceSum\"]):\n",
    "    valueMillion = value / 1_000_000\n",
    "    plt.text(i, value + 0.5, f\"{valueMillion:.1f}M\", ha = \"center\", va = \"bottom\", fontsize = 10)\n",
    "\n",
    "plt.title(\"Revenue by City and State\", fontsize = 14, fontweight = \"bold\")\n",
    "plt.xlabel(\"City, State\", fontsize = 12)\n",
    "plt.ylabel(\"Revenue\", fontsize = 12)\n",
    "plt.tight_layout()\n",
    "plt.show()"
   ]
  },
  {
   "cell_type": "markdown",
   "id": "d1aac16c",
   "metadata": {},
   "source": [
    "Metode pembayaran apa yang paling banyak digunakan pelanggan?"
   ]
  },
  {
   "cell_type": "code",
   "execution_count": 77,
   "id": "dfe737c8",
   "metadata": {},
   "outputs": [
    {
     "data": {
      "application/vnd.microsoft.datawrangler.viewer.v0+json": {
       "columns": [
        {
         "name": "payment_type",
         "rawType": "object",
         "type": "string"
        },
        {
         "name": "paymentvalueMean",
         "rawType": "float64",
         "type": "float"
        }
       ],
       "ref": "7f47943a-7314-471d-a461-a2d29b6f1a4e",
       "rows": [
        [
         "boleto",
         "180.00165942864075"
        ],
        [
         "credit_card",
         "178.74211697049483"
        ],
        [
         "debit_card",
         "156.98270894029275"
        ],
        [
         "voucher",
         "64.14373718546132"
        ]
       ],
       "shape": {
        "columns": 1,
        "rows": 4
       }
      },
      "text/html": [
       "<div>\n",
       "<style scoped>\n",
       "    .dataframe tbody tr th:only-of-type {\n",
       "        vertical-align: middle;\n",
       "    }\n",
       "\n",
       "    .dataframe tbody tr th {\n",
       "        vertical-align: top;\n",
       "    }\n",
       "\n",
       "    .dataframe thead th {\n",
       "        text-align: right;\n",
       "    }\n",
       "</style>\n",
       "<table border=\"1\" class=\"dataframe\">\n",
       "  <thead>\n",
       "    <tr style=\"text-align: right;\">\n",
       "      <th></th>\n",
       "      <th>paymentvalueMean</th>\n",
       "    </tr>\n",
       "    <tr>\n",
       "      <th>payment_type</th>\n",
       "      <th></th>\n",
       "    </tr>\n",
       "  </thead>\n",
       "  <tbody>\n",
       "    <tr>\n",
       "      <th>boleto</th>\n",
       "      <td>180.001659</td>\n",
       "    </tr>\n",
       "    <tr>\n",
       "      <th>credit_card</th>\n",
       "      <td>178.742117</td>\n",
       "    </tr>\n",
       "    <tr>\n",
       "      <th>debit_card</th>\n",
       "      <td>156.982709</td>\n",
       "    </tr>\n",
       "    <tr>\n",
       "      <th>voucher</th>\n",
       "      <td>64.143737</td>\n",
       "    </tr>\n",
       "  </tbody>\n",
       "</table>\n",
       "</div>"
      ],
      "text/plain": [
       "              paymentvalueMean\n",
       "payment_type                  \n",
       "boleto              180.001659\n",
       "credit_card         178.742117\n",
       "debit_card          156.982709\n",
       "voucher              64.143737"
      ]
     },
     "execution_count": 77,
     "metadata": {},
     "output_type": "execute_result"
    }
   ],
   "source": [
    "meanPaymentValue = df.groupby(\"payment_type\").agg(paymentvalueMean = (\"payment_value\", \"mean\"))\n",
    "meanPaymentValue"
   ]
  },
  {
   "cell_type": "code",
   "execution_count": 78,
   "id": "ad477154",
   "metadata": {},
   "outputs": [
    {
     "data": {
      "application/vnd.microsoft.datawrangler.viewer.v0+json": {
       "columns": [
        {
         "name": "index",
         "rawType": "int64",
         "type": "integer"
        },
        {
         "name": "payment_type",
         "rawType": "object",
         "type": "string"
        },
        {
         "name": "customerCount",
         "rawType": "int64",
         "type": "integer"
        }
       ],
       "ref": "ab59af1c-ec23-4749-b71e-6a1abf6eb356",
       "rows": [
        [
         "0",
         "boleto",
         "2308180"
        ],
        [
         "1",
         "credit_card",
         "8731142"
        ],
        [
         "2",
         "debit_card",
         "170934"
        ],
        [
         "3",
         "voucher",
         "635216"
        ]
       ],
       "shape": {
        "columns": 2,
        "rows": 4
       }
      },
      "text/html": [
       "<div>\n",
       "<style scoped>\n",
       "    .dataframe tbody tr th:only-of-type {\n",
       "        vertical-align: middle;\n",
       "    }\n",
       "\n",
       "    .dataframe tbody tr th {\n",
       "        vertical-align: top;\n",
       "    }\n",
       "\n",
       "    .dataframe thead th {\n",
       "        text-align: right;\n",
       "    }\n",
       "</style>\n",
       "<table border=\"1\" class=\"dataframe\">\n",
       "  <thead>\n",
       "    <tr style=\"text-align: right;\">\n",
       "      <th></th>\n",
       "      <th>payment_type</th>\n",
       "      <th>customerCount</th>\n",
       "    </tr>\n",
       "  </thead>\n",
       "  <tbody>\n",
       "    <tr>\n",
       "      <th>0</th>\n",
       "      <td>boleto</td>\n",
       "      <td>2308180</td>\n",
       "    </tr>\n",
       "    <tr>\n",
       "      <th>1</th>\n",
       "      <td>credit_card</td>\n",
       "      <td>8731142</td>\n",
       "    </tr>\n",
       "    <tr>\n",
       "      <th>2</th>\n",
       "      <td>debit_card</td>\n",
       "      <td>170934</td>\n",
       "    </tr>\n",
       "    <tr>\n",
       "      <th>3</th>\n",
       "      <td>voucher</td>\n",
       "      <td>635216</td>\n",
       "    </tr>\n",
       "  </tbody>\n",
       "</table>\n",
       "</div>"
      ],
      "text/plain": [
       "  payment_type  customerCount\n",
       "0       boleto        2308180\n",
       "1  credit_card        8731142\n",
       "2   debit_card         170934\n",
       "3      voucher         635216"
      ]
     },
     "execution_count": 78,
     "metadata": {},
     "output_type": "execute_result"
    }
   ],
   "source": [
    "customerPaymentValue = df.groupby(\"payment_type\").agg(customerCount = (\"customer_unique_id\", \"count\")).reset_index()\n",
    "customerPaymentValue"
   ]
  },
  {
   "cell_type": "code",
   "execution_count": 79,
   "id": "71aacc85",
   "metadata": {},
   "outputs": [
    {
     "data": {
      "image/png": "[encoded data removed]",
      "text/plain": [
       "<Figure size 1000x1000 with 1 Axes>"
      ]
     },
     "metadata": {},
     "output_type": "display_data"
    }
   ],
   "source": [
    "labels = [\"Boleto\", \"credit_card\", \"debit_card\", \"voucher\"]\n",
    "\n",
    "plt.figure(figsize = (10, 10))\n",
    "plt.pie(customerPaymentValue[\"customerCount\"], labels = labels, autopct = \"%1.1f%%\")\n",
    "plt.legend(loc=\"lower right\")\n",
    "plt.title(\"Payment Method Preferences Among Customers\", fontsize = 14, fontweight = \"bold\")\n",
    "\n",
    "plt.show()"
   ]
  },
  {
   "cell_type": "markdown",
   "id": "12c68ed8",
   "metadata": {},
   "source": [
    "Kapan terakhir kali pelanggan melakukan transaksi di platform?"
   ]
  },
  {
   "cell_type": "code",
   "execution_count": 80,
   "id": "eb275c38",
   "metadata": {},
   "outputs": [
    {
     "data": {
      "application/vnd.microsoft.datawrangler.viewer.v0+json": {
       "columns": [
        {
         "name": "index",
         "rawType": "int64",
         "type": "integer"
        },
        {
         "name": "customer_unique_id",
         "rawType": "object",
         "type": "string"
        },
        {
         "name": "last_purchase",
         "rawType": "datetime64[ns]",
         "type": "datetime"
        },
        {
         "name": "recency_days",
         "rawType": "int64",
         "type": "integer"
        }
       ],
       "ref": "42a49bc2-31ac-4190-8b1a-0b884d446328",
       "rows": [
        [
         "0",
         "0000366f3b9a7992bf8c76cfdf3221e2",
         "2018-05-10 10:56:27",
         "111"
        ],
        [
         "1",
         "0000b849f77a49e4a4ce2b2a4ca5be3f",
         "2018-05-07 11:11:27",
         "114"
        ],
        [
         "2",
         "0000f46a3911fa3c0805444483337064",
         "2017-03-10 21:05:03",
         "536"
        ],
        [
         "3",
         "0000f6ccb0745a6a4b88665a16c9f078",
         "2017-10-12 20:29:41",
         "320"
        ],
        [
         "4",
         "0004aac84e0df4da2b147fca70cf8255",
         "2017-11-14 19:45:42",
         "287"
        ]
       ],
       "shape": {
        "columns": 3,
        "rows": 5
       }
      },
      "text/html": [
       "<div>\n",
       "<style scoped>\n",
       "    .dataframe tbody tr th:only-of-type {\n",
       "        vertical-align: middle;\n",
       "    }\n",
       "\n",
       "    .dataframe tbody tr th {\n",
       "        vertical-align: top;\n",
       "    }\n",
       "\n",
       "    .dataframe thead th {\n",
       "        text-align: right;\n",
       "    }\n",
       "</style>\n",
       "<table border=\"1\" class=\"dataframe\">\n",
       "  <thead>\n",
       "    <tr style=\"text-align: right;\">\n",
       "      <th></th>\n",
       "      <th>customer_unique_id</th>\n",
       "      <th>last_purchase</th>\n",
       "      <th>recency_days</th>\n",
       "    </tr>\n",
       "  </thead>\n",
       "  <tbody>\n",
       "    <tr>\n",
       "      <th>0</th>\n",
       "      <td>0000366f3b9a7992bf8c76cfdf3221e2</td>\n",
       "      <td>2018-05-10 10:56:27</td>\n",
       "      <td>111</td>\n",
       "    </tr>\n",
       "    <tr>\n",
       "      <th>1</th>\n",
       "      <td>0000b849f77a49e4a4ce2b2a4ca5be3f</td>\n",
       "      <td>2018-05-07 11:11:27</td>\n",
       "      <td>114</td>\n",
       "    </tr>\n",
       "    <tr>\n",
       "      <th>2</th>\n",
       "      <td>0000f46a3911fa3c0805444483337064</td>\n",
       "      <td>2017-03-10 21:05:03</td>\n",
       "      <td>536</td>\n",
       "    </tr>\n",
       "    <tr>\n",
       "      <th>3</th>\n",
       "      <td>0000f6ccb0745a6a4b88665a16c9f078</td>\n",
       "      <td>2017-10-12 20:29:41</td>\n",
       "      <td>320</td>\n",
       "    </tr>\n",
       "    <tr>\n",
       "      <th>4</th>\n",
       "      <td>0004aac84e0df4da2b147fca70cf8255</td>\n",
       "      <td>2017-11-14 19:45:42</td>\n",
       "      <td>287</td>\n",
       "    </tr>\n",
       "  </tbody>\n",
       "</table>\n",
       "</div>"
      ],
      "text/plain": [
       "                 customer_unique_id       last_purchase  recency_days\n",
       "0  0000366f3b9a7992bf8c76cfdf3221e2 2018-05-10 10:56:27           111\n",
       "1  0000b849f77a49e4a4ce2b2a4ca5be3f 2018-05-07 11:11:27           114\n",
       "2  0000f46a3911fa3c0805444483337064 2017-03-10 21:05:03           536\n",
       "3  0000f6ccb0745a6a4b88665a16c9f078 2017-10-12 20:29:41           320\n",
       "4  0004aac84e0df4da2b147fca70cf8255 2017-11-14 19:45:42           287"
      ]
     },
     "execution_count": 80,
     "metadata": {},
     "output_type": "execute_result"
    }
   ],
   "source": [
    "recency =  df.groupby(\"customer_unique_id\").agg(last_purchase=(\"order_purchase_timestamp\", \"max\")).reset_index()\n",
    "\n",
    "maxDate = df[\"order_purchase_timestamp\"].max()\n",
    "\n",
    "recency[\"recency_days\"] = (maxDate - recency[\"last_purchase\"]).dt.days\n",
    "recency.head()"
   ]
  },
  {
   "cell_type": "markdown",
   "id": "6b4177a2",
   "metadata": {},
   "source": [
    "Seberapa sering pelanggan melakukan pembelian di e-commerce?"
   ]
  },
  {
   "cell_type": "code",
   "execution_count": 81,
   "id": "941f7dea",
   "metadata": {},
   "outputs": [
    {
     "data": {
      "application/vnd.microsoft.datawrangler.viewer.v0+json": {
       "columns": [
        {
         "name": "index",
         "rawType": "int64",
         "type": "integer"
        },
        {
         "name": "customer_unique_id",
         "rawType": "object",
         "type": "string"
        },
        {
         "name": "frequency",
         "rawType": "int64",
         "type": "integer"
        }
       ],
       "ref": "16b34a43-4328-49e1-b0e5-f2cf43685bf3",
       "rows": [
        [
         "0",
         "0000366f3b9a7992bf8c76cfdf3221e2",
         "1"
        ],
        [
         "1",
         "0000b849f77a49e4a4ce2b2a4ca5be3f",
         "1"
        ],
        [
         "2",
         "0000f46a3911fa3c0805444483337064",
         "1"
        ],
        [
         "3",
         "0000f6ccb0745a6a4b88665a16c9f078",
         "1"
        ],
        [
         "4",
         "0004aac84e0df4da2b147fca70cf8255",
         "1"
        ]
       ],
       "shape": {
        "columns": 2,
        "rows": 5
       }
      },
      "text/html": [
       "<div>\n",
       "<style scoped>\n",
       "    .dataframe tbody tr th:only-of-type {\n",
       "        vertical-align: middle;\n",
       "    }\n",
       "\n",
       "    .dataframe tbody tr th {\n",
       "        vertical-align: top;\n",
       "    }\n",
       "\n",
       "    .dataframe thead th {\n",
       "        text-align: right;\n",
       "    }\n",
       "</style>\n",
       "<table border=\"1\" class=\"dataframe\">\n",
       "  <thead>\n",
       "    <tr style=\"text-align: right;\">\n",
       "      <th></th>\n",
       "      <th>customer_unique_id</th>\n",
       "      <th>frequency</th>\n",
       "    </tr>\n",
       "  </thead>\n",
       "  <tbody>\n",
       "    <tr>\n",
       "      <th>0</th>\n",
       "      <td>0000366f3b9a7992bf8c76cfdf3221e2</td>\n",
       "      <td>1</td>\n",
       "    </tr>\n",
       "    <tr>\n",
       "      <th>1</th>\n",
       "      <td>0000b849f77a49e4a4ce2b2a4ca5be3f</td>\n",
       "      <td>1</td>\n",
       "    </tr>\n",
       "    <tr>\n",
       "      <th>2</th>\n",
       "      <td>0000f46a3911fa3c0805444483337064</td>\n",
       "      <td>1</td>\n",
       "    </tr>\n",
       "    <tr>\n",
       "      <th>3</th>\n",
       "      <td>0000f6ccb0745a6a4b88665a16c9f078</td>\n",
       "      <td>1</td>\n",
       "    </tr>\n",
       "    <tr>\n",
       "      <th>4</th>\n",
       "      <td>0004aac84e0df4da2b147fca70cf8255</td>\n",
       "      <td>1</td>\n",
       "    </tr>\n",
       "  </tbody>\n",
       "</table>\n",
       "</div>"
      ],
      "text/plain": [
       "                 customer_unique_id  frequency\n",
       "0  0000366f3b9a7992bf8c76cfdf3221e2          1\n",
       "1  0000b849f77a49e4a4ce2b2a4ca5be3f          1\n",
       "2  0000f46a3911fa3c0805444483337064          1\n",
       "3  0000f6ccb0745a6a4b88665a16c9f078          1\n",
       "4  0004aac84e0df4da2b147fca70cf8255          1"
      ]
     },
     "execution_count": 81,
     "metadata": {},
     "output_type": "execute_result"
    }
   ],
   "source": [
    "frequency = df.groupby(\"customer_unique_id\").agg(frequency = (\"order_id\", \"nunique\")).reset_index()\n",
    "frequency.head()"
   ]
  },
  {
   "cell_type": "markdown",
   "id": "97e9cbeb",
   "metadata": {},
   "source": [
    "Berapa total pengeluaran pelanggan selama bertransaksi di platform?"
   ]
  },
  {
   "cell_type": "code",
   "execution_count": 82,
   "id": "2d8e714b",
   "metadata": {},
   "outputs": [
    {
     "data": {
      "application/vnd.microsoft.datawrangler.viewer.v0+json": {
       "columns": [
        {
         "name": "index",
         "rawType": "int64",
         "type": "integer"
        },
        {
         "name": "customer_unique_id",
         "rawType": "object",
         "type": "string"
        },
        {
         "name": "monetary",
         "rawType": "float64",
         "type": "float"
        }
       ],
       "ref": "d663a653-7f10-49b6-9357-1e970d48593e",
       "rows": [
        [
         "0",
         "0000366f3b9a7992bf8c76cfdf3221e2",
         "7236.900000000001"
        ],
        [
         "1",
         "0000b849f77a49e4a4ce2b2a4ca5be3f",
         "1631.4"
        ],
        [
         "2",
         "0000f46a3911fa3c0805444483337064",
         "6725.16"
        ],
        [
         "3",
         "0000f6ccb0745a6a4b88665a16c9f078",
         "1221.36"
        ],
        [
         "4",
         "0004aac84e0df4da2b147fca70cf8255",
         "20082.78"
        ]
       ],
       "shape": {
        "columns": 2,
        "rows": 5
       }
      },
      "text/html": [
       "<div>\n",
       "<style scoped>\n",
       "    .dataframe tbody tr th:only-of-type {\n",
       "        vertical-align: middle;\n",
       "    }\n",
       "\n",
       "    .dataframe tbody tr th {\n",
       "        vertical-align: top;\n",
       "    }\n",
       "\n",
       "    .dataframe thead th {\n",
       "        text-align: right;\n",
       "    }\n",
       "</style>\n",
       "<table border=\"1\" class=\"dataframe\">\n",
       "  <thead>\n",
       "    <tr style=\"text-align: right;\">\n",
       "      <th></th>\n",
       "      <th>customer_unique_id</th>\n",
       "      <th>monetary</th>\n",
       "    </tr>\n",
       "  </thead>\n",
       "  <tbody>\n",
       "    <tr>\n",
       "      <th>0</th>\n",
       "      <td>0000366f3b9a7992bf8c76cfdf3221e2</td>\n",
       "      <td>7236.90</td>\n",
       "    </tr>\n",
       "    <tr>\n",
       "      <th>1</th>\n",
       "      <td>0000b849f77a49e4a4ce2b2a4ca5be3f</td>\n",
       "      <td>1631.40</td>\n",
       "    </tr>\n",
       "    <tr>\n",
       "      <th>2</th>\n",
       "      <td>0000f46a3911fa3c0805444483337064</td>\n",
       "      <td>6725.16</td>\n",
       "    </tr>\n",
       "    <tr>\n",
       "      <th>3</th>\n",
       "      <td>0000f6ccb0745a6a4b88665a16c9f078</td>\n",
       "      <td>1221.36</td>\n",
       "    </tr>\n",
       "    <tr>\n",
       "      <th>4</th>\n",
       "      <td>0004aac84e0df4da2b147fca70cf8255</td>\n",
       "      <td>20082.78</td>\n",
       "    </tr>\n",
       "  </tbody>\n",
       "</table>\n",
       "</div>"
      ],
      "text/plain": [
       "                 customer_unique_id  monetary\n",
       "0  0000366f3b9a7992bf8c76cfdf3221e2   7236.90\n",
       "1  0000b849f77a49e4a4ce2b2a4ca5be3f   1631.40\n",
       "2  0000f46a3911fa3c0805444483337064   6725.16\n",
       "3  0000f6ccb0745a6a4b88665a16c9f078   1221.36\n",
       "4  0004aac84e0df4da2b147fca70cf8255  20082.78"
      ]
     },
     "execution_count": 82,
     "metadata": {},
     "output_type": "execute_result"
    }
   ],
   "source": [
    "monetary = df.groupby(\"customer_unique_id\").agg(monetary = (\"payment_value\", \"sum\")).reset_index()\n",
    "monetary.head()"
   ]
  },
  {
   "cell_type": "markdown",
   "id": "5e2d737e",
   "metadata": {},
   "source": [
    "Merge Table RFM Analysis"
   ]
  },
  {
   "cell_type": "code",
   "execution_count": 83,
   "id": "d2e79032",
   "metadata": {},
   "outputs": [
    {
     "data": {
      "application/vnd.microsoft.datawrangler.viewer.v0+json": {
       "columns": [
        {
         "name": "index",
         "rawType": "int64",
         "type": "integer"
        },
        {
         "name": "customer_unique_id",
         "rawType": "object",
         "type": "string"
        },
        {
         "name": "recency_days",
         "rawType": "int64",
         "type": "integer"
        },
        {
         "name": "frequency",
         "rawType": "int64",
         "type": "integer"
        },
        {
         "name": "monetary",
         "rawType": "float64",
         "type": "float"
        }
       ],
       "ref": "3e37e56e-b528-45f4-a138-478010defc07",
       "rows": [
        [
         "0",
         "0000366f3b9a7992bf8c76cfdf3221e2",
         "111",
         "1",
         "7236.900000000001"
        ],
        [
         "1",
         "0000b849f77a49e4a4ce2b2a4ca5be3f",
         "114",
         "1",
         "1631.4"
        ],
        [
         "2",
         "0000f46a3911fa3c0805444483337064",
         "536",
         "1",
         "6725.16"
        ],
        [
         "3",
         "0000f6ccb0745a6a4b88665a16c9f078",
         "320",
         "1",
         "1221.36"
        ],
        [
         "4",
         "0004aac84e0df4da2b147fca70cf8255",
         "287",
         "1",
         "20082.78"
        ]
       ],
       "shape": {
        "columns": 4,
        "rows": 5
       }
      },
      "text/html": [
       "<div>\n",
       "<style scoped>\n",
       "    .dataframe tbody tr th:only-of-type {\n",
       "        vertical-align: middle;\n",
       "    }\n",
       "\n",
       "    .dataframe tbody tr th {\n",
       "        vertical-align: top;\n",
       "    }\n",
       "\n",
       "    .dataframe thead th {\n",
       "        text-align: right;\n",
       "    }\n",
       "</style>\n",
       "<table border=\"1\" class=\"dataframe\">\n",
       "  <thead>\n",
       "    <tr style=\"text-align: right;\">\n",
       "      <th></th>\n",
       "      <th>customer_unique_id</th>\n",
       "      <th>recency_days</th>\n",
       "      <th>frequency</th>\n",
       "      <th>monetary</th>\n",
       "    </tr>\n",
       "  </thead>\n",
       "  <tbody>\n",
       "    <tr>\n",
       "      <th>0</th>\n",
       "      <td>0000366f3b9a7992bf8c76cfdf3221e2</td>\n",
       "      <td>111</td>\n",
       "      <td>1</td>\n",
       "      <td>7236.90</td>\n",
       "    </tr>\n",
       "    <tr>\n",
       "      <th>1</th>\n",
       "      <td>0000b849f77a49e4a4ce2b2a4ca5be3f</td>\n",
       "      <td>114</td>\n",
       "      <td>1</td>\n",
       "      <td>1631.40</td>\n",
       "    </tr>\n",
       "    <tr>\n",
       "      <th>2</th>\n",
       "      <td>0000f46a3911fa3c0805444483337064</td>\n",
       "      <td>536</td>\n",
       "      <td>1</td>\n",
       "      <td>6725.16</td>\n",
       "    </tr>\n",
       "    <tr>\n",
       "      <th>3</th>\n",
       "      <td>0000f6ccb0745a6a4b88665a16c9f078</td>\n",
       "      <td>320</td>\n",
       "      <td>1</td>\n",
       "      <td>1221.36</td>\n",
       "    </tr>\n",
       "    <tr>\n",
       "      <th>4</th>\n",
       "      <td>0004aac84e0df4da2b147fca70cf8255</td>\n",
       "      <td>287</td>\n",
       "      <td>1</td>\n",
       "      <td>20082.78</td>\n",
       "    </tr>\n",
       "  </tbody>\n",
       "</table>\n",
       "</div>"
      ],
      "text/plain": [
       "                 customer_unique_id  recency_days  frequency  monetary\n",
       "0  0000366f3b9a7992bf8c76cfdf3221e2           111          1   7236.90\n",
       "1  0000b849f77a49e4a4ce2b2a4ca5be3f           114          1   1631.40\n",
       "2  0000f46a3911fa3c0805444483337064           536          1   6725.16\n",
       "3  0000f6ccb0745a6a4b88665a16c9f078           320          1   1221.36\n",
       "4  0004aac84e0df4da2b147fca70cf8255           287          1  20082.78"
      ]
     },
     "execution_count": 83,
     "metadata": {},
     "output_type": "execute_result"
    }
   ],
   "source": [
    "rfm = recency[[\"customer_unique_id\", \"recency_days\"]].merge(frequency, on = \"customer_unique_id\").merge(monetary, on = \"customer_unique_id\")\n",
    "rfm.head()"
   ]
  },
  {
   "cell_type": "code",
   "execution_count": 84,
   "id": "6e6c0ed8",
   "metadata": {},
   "outputs": [],
   "source": [
    "rfm[\"R_score\"] = pd.qcut(rfm[\"recency_days\"], 5, labels = [5,4,3,2,1])\n",
    "rfm[\"F_score\"] = pd.qcut(rfm[\"frequency\"].rank(method = \"first\"), 5, labels = [1,2,3,4,5])\n",
    "rfm[\"M_score\"] = pd.qcut(rfm[\"monetary\"], 5, labels = [1,2,3,4,5])\n",
    "\n",
    "\n",
    "rfm[\"RFM_Score\"] = rfm[\"R_score\"].astype(str) + rfm[\"F_score\"].astype(str) + rfm[\"M_score\"].astype(str)"
   ]
  },
  {
   "cell_type": "code",
   "execution_count": 85,
   "id": "4aca707f",
   "metadata": {},
   "outputs": [
    {
     "data": {
      "application/vnd.microsoft.datawrangler.viewer.v0+json": {
       "columns": [
        {
         "name": "index",
         "rawType": "int64",
         "type": "integer"
        },
        {
         "name": "customer_unique_id",
         "rawType": "object",
         "type": "string"
        },
        {
         "name": "recency_days",
         "rawType": "int64",
         "type": "integer"
        },
        {
         "name": "frequency",
         "rawType": "int64",
         "type": "integer"
        },
        {
         "name": "monetary",
         "rawType": "float64",
         "type": "float"
        },
        {
         "name": "R_score",
         "rawType": "category",
         "type": "unknown"
        },
        {
         "name": "F_score",
         "rawType": "category",
         "type": "unknown"
        },
        {
         "name": "M_score",
         "rawType": "category",
         "type": "unknown"
        },
        {
         "name": "RFM_Score",
         "rawType": "object",
         "type": "string"
        },
        {
         "name": "segment",
         "rawType": "object",
         "type": "string"
        }
       ],
       "ref": "ff020ed4-9453-46b3-ad2d-ee256bfef5c8",
       "rows": [
        [
         "0",
         "0000366f3b9a7992bf8c76cfdf3221e2",
         "111",
         "1",
         "7236.900000000001",
         "4",
         "1",
         "3",
         "413",
         "Others"
        ],
        [
         "1",
         "0000b849f77a49e4a4ce2b2a4ca5be3f",
         "114",
         "1",
         "1631.4",
         "4",
         "1",
         "1",
         "411",
         "Others"
        ],
        [
         "2",
         "0000f46a3911fa3c0805444483337064",
         "536",
         "1",
         "6725.16",
         "1",
         "1",
         "3",
         "113",
         "Hibernating"
        ],
        [
         "3",
         "0000f6ccb0745a6a4b88665a16c9f078",
         "320",
         "1",
         "1221.36",
         "2",
         "1",
         "1",
         "211",
         "Others"
        ],
        [
         "4",
         "0004aac84e0df4da2b147fca70cf8255",
         "287",
         "1",
         "20082.78",
         "2",
         "1",
         "4",
         "214",
         "Big Spenders"
        ]
       ],
       "shape": {
        "columns": 9,
        "rows": 5
       }
      },
      "text/html": [
       "<div>\n",
       "<style scoped>\n",
       "    .dataframe tbody tr th:only-of-type {\n",
       "        vertical-align: middle;\n",
       "    }\n",
       "\n",
       "    .dataframe tbody tr th {\n",
       "        vertical-align: top;\n",
       "    }\n",
       "\n",
       "    .dataframe thead th {\n",
       "        text-align: right;\n",
       "    }\n",
       "</style>\n",
       "<table border=\"1\" class=\"dataframe\">\n",
       "  <thead>\n",
       "    <tr style=\"text-align: right;\">\n",
       "      <th></th>\n",
       "      <th>customer_unique_id</th>\n",
       "      <th>recency_days</th>\n",
       "      <th>frequency</th>\n",
       "      <th>monetary</th>\n",
       "      <th>R_score</th>\n",
       "      <th>F_score</th>\n",
       "      <th>M_score</th>\n",
       "      <th>RFM_Score</th>\n",
       "      <th>segment</th>\n",
       "    </tr>\n",
       "  </thead>\n",
       "  <tbody>\n",
       "    <tr>\n",
       "      <th>0</th>\n",
       "      <td>0000366f3b9a7992bf8c76cfdf3221e2</td>\n",
       "      <td>111</td>\n",
       "      <td>1</td>\n",
       "      <td>7236.90</td>\n",
       "      <td>4</td>\n",
       "      <td>1</td>\n",
       "      <td>3</td>\n",
       "      <td>413</td>\n",
       "      <td>Others</td>\n",
       "    </tr>\n",
       "    <tr>\n",
       "      <th>1</th>\n",
       "      <td>0000b849f77a49e4a4ce2b2a4ca5be3f</td>\n",
       "      <td>114</td>\n",
       "      <td>1</td>\n",
       "      <td>1631.40</td>\n",
       "      <td>4</td>\n",
       "      <td>1</td>\n",
       "      <td>1</td>\n",
       "      <td>411</td>\n",
       "      <td>Others</td>\n",
       "    </tr>\n",
       "    <tr>\n",
       "      <th>2</th>\n",
       "      <td>0000f46a3911fa3c0805444483337064</td>\n",
       "      <td>536</td>\n",
       "      <td>1</td>\n",
       "      <td>6725.16</td>\n",
       "      <td>1</td>\n",
       "      <td>1</td>\n",
       "      <td>3</td>\n",
       "      <td>113</td>\n",
       "      <td>Hibernating</td>\n",
       "    </tr>\n",
       "    <tr>\n",
       "      <th>3</th>\n",
       "      <td>0000f6ccb0745a6a4b88665a16c9f078</td>\n",
       "      <td>320</td>\n",
       "      <td>1</td>\n",
       "      <td>1221.36</td>\n",
       "      <td>2</td>\n",
       "      <td>1</td>\n",
       "      <td>1</td>\n",
       "      <td>211</td>\n",
       "      <td>Others</td>\n",
       "    </tr>\n",
       "    <tr>\n",
       "      <th>4</th>\n",
       "      <td>0004aac84e0df4da2b147fca70cf8255</td>\n",
       "      <td>287</td>\n",
       "      <td>1</td>\n",
       "      <td>20082.78</td>\n",
       "      <td>2</td>\n",
       "      <td>1</td>\n",
       "      <td>4</td>\n",
       "      <td>214</td>\n",
       "      <td>Big Spenders</td>\n",
       "    </tr>\n",
       "  </tbody>\n",
       "</table>\n",
       "</div>"
      ],
      "text/plain": [
       "                 customer_unique_id  recency_days  frequency  monetary  \\\n",
       "0  0000366f3b9a7992bf8c76cfdf3221e2           111          1   7236.90   \n",
       "1  0000b849f77a49e4a4ce2b2a4ca5be3f           114          1   1631.40   \n",
       "2  0000f46a3911fa3c0805444483337064           536          1   6725.16   \n",
       "3  0000f6ccb0745a6a4b88665a16c9f078           320          1   1221.36   \n",
       "4  0004aac84e0df4da2b147fca70cf8255           287          1  20082.78   \n",
       "\n",
       "  R_score F_score M_score RFM_Score       segment  \n",
       "0       4       1       3       413        Others  \n",
       "1       4       1       1       411        Others  \n",
       "2       1       1       3       113   Hibernating  \n",
       "3       2       1       1       211        Others  \n",
       "4       2       1       4       214  Big Spenders  "
      ]
     },
     "execution_count": 85,
     "metadata": {},
     "output_type": "execute_result"
    }
   ],
   "source": [
    "def segmentation(row):\n",
    "    if int(row[\"R_score\"]) >= 4 and int(row[\"F_score\"]) >= 4 and int(row[\"M_score\"]) >= 4:\n",
    "        return \"Champions\"\n",
    "    elif int(row[\"F_score\"]) >= 4:\n",
    "        return \"Loyal Customers\"\n",
    "    elif int(row[\"M_score\"]) >= 4:\n",
    "        return \"Big Spenders\"\n",
    "    elif int(row[\"R_score\"]) <= 2 and int(row[\"F_score\"]) >= 2:\n",
    "        return \"At Risk\"\n",
    "    elif int(row[\"R_score\"]) == 1 and int(row[\"F_score\"]) == 1:\n",
    "        return \"Hibernating\"\n",
    "    else:\n",
    "        return \"Others\"\n",
    "\n",
    "rfm[\"segment\"] = rfm.apply(segmentation, axis=1)\n",
    "rfm.head()"
   ]
  },
  {
   "cell_type": "code",
   "execution_count": 86,
   "id": "a959838e",
   "metadata": {},
   "outputs": [
    {
     "data": {
      "image/png": "[encoded data removed]",
      "text/plain": [
       "<Figure size 1000x1000 with 1 Axes>"
      ]
     },
     "metadata": {},
     "output_type": "display_data"
    }
   ],
   "source": [
    "segmentCounts = rfm[\"segment\"].value_counts()\n",
    "labels = [\"Champions\", \"Loyal Customers\", \"Big Spenders\", \"At Risk\", \"Hibernating\", \"Other\"]\n",
    "\n",
    "plt.figure(figsize = (10, 10))\n",
    "plt.pie(segmentCounts, labels = labels, autopct = \"%1.1f%%\")\n",
    "plt.legend(loc = \"lower right\")\n",
    "plt.title(\"Proportion of Customers by Segment\", fontsize = 14, fontweight = \"bold\")\n",
    "\n",
    "plt.show()"
   ]
  }
 ],
 "metadata": {
  "kernelspec": {
   "display_name": "base",
   "language": "python",
   "name": "python3"
  },
  "language_info": {
   "codemirror_mode": {
    "name": "ipython",
    "version": 3
   },
   "file_extension": ".py",
   "mimetype": "text/x-python",
   "name": "python",
   "nbconvert_exporter": "python",
   "pygments_lexer": "ipython3",
   "version": "3.13.5"
  }
 },
 "nbformat": 4,
 "nbformat_minor": 5
}
